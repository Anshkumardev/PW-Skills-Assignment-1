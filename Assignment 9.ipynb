{
 "cells": [
  {
   "cell_type": "markdown",
   "id": "53886239-36f5-4082-aece-58bcc9509911",
   "metadata": {},
   "source": [
    "Q1. What is Abstraction in OOps? Explain with an example."
   ]
  },
  {
   "cell_type": "markdown",
   "id": "7feb9506-7997-41ff-b076-90f0eb85ed3c",
   "metadata": {},
   "source": [
    "Abstraction is a process of creating an Abstract that can we used by other classes and redefine its function accordingly."
   ]
  },
  {
   "cell_type": "markdown",
   "id": "4fa1e755-c70c-4116-b0c7-ef7521beaf24",
   "metadata": {},
   "source": [
    "Example: "
   ]
  },
  {
   "cell_type": "code",
   "execution_count": 2,
   "id": "93a22c47-c3b1-4a98-afda-725122d43c60",
   "metadata": {},
   "outputs": [],
   "source": [
    "import abc\n",
    "class cars():\n",
    "    \n",
    "    @abc.abstractmethod\n",
    "    def car_details(self):\n",
    "        pass\n",
    "    \n",
    "    @abc.abstractmethod    \n",
    "    def car_color(self):\n",
    "        pass"
   ]
  },
  {
   "cell_type": "code",
   "execution_count": 3,
   "id": "3bff778b-40f1-44fd-be86-d5ecd1a852e5",
   "metadata": {},
   "outputs": [],
   "source": [
    "class my_car(cars):\n",
    "    \n",
    "    def car_details(self):\n",
    "        return \"This is my car's details\""
   ]
  },
  {
   "cell_type": "code",
   "execution_count": 4,
   "id": "2d49371c-a7f2-49e3-96b6-f4a4992d5c4b",
   "metadata": {},
   "outputs": [],
   "source": [
    "car = my_car()"
   ]
  },
  {
   "cell_type": "code",
   "execution_count": 5,
   "id": "585c48d8-ba2c-4f19-b180-7ecbf3e97630",
   "metadata": {},
   "outputs": [
    {
     "data": {
      "text/plain": [
       "\"This is my car's details\""
      ]
     },
     "execution_count": 5,
     "metadata": {},
     "output_type": "execute_result"
    }
   ],
   "source": [
    "car.car_details()"
   ]
  },
  {
   "cell_type": "markdown",
   "id": "2a85a7c9-e682-4010-9495-dc372d42a6b3",
   "metadata": {},
   "source": [
    "Q2. Differentiate between Abstraction and Encapsulation. Explain with an example."
   ]
  },
  {
   "cell_type": "markdown",
   "id": "e39cf3f9-c77e-4e28-9c68-91668bad5095",
   "metadata": {},
   "source": [
    "Abstraction is a process of creating an Abstract that can we used by other classes and redefine its function accordingly whereas Encapsulation ensures that the function variables remain private and can;t be accessed or modified by the person using the function. So, Abstraction provides user to use to access and modify pre defined methods and Encapsulation hides pre defined variables."
   ]
  },
  {
   "cell_type": "markdown",
   "id": "761c372b-cbd9-4c59-a1d4-d38bb4b84b2a",
   "metadata": {},
   "source": [
    "Example:"
   ]
  },
  {
   "cell_type": "code",
   "execution_count": 11,
   "id": "74312513-88f7-4b8a-ae90-12e0c400c341",
   "metadata": {},
   "outputs": [],
   "source": [
    "class car():\n",
    "    \n",
    "    def __init__(self,year,make):\n",
    "        # __ helps to hide that particular variable to be viewed outside of the function\n",
    "        self.__year = year\n",
    "        self.__make = make\n",
    "        "
   ]
  },
  {
   "cell_type": "code",
   "execution_count": 12,
   "id": "05eadae2-9e5f-4153-a9f0-dcd76881adc5",
   "metadata": {},
   "outputs": [],
   "source": [
    "car1 = car(2012,\"Toyota\") "
   ]
  },
  {
   "cell_type": "code",
   "execution_count": 13,
   "id": "84b812a5-bb3a-4627-8f91-7ff3e9a370c1",
   "metadata": {},
   "outputs": [],
   "source": [
    "# We cant see car1. variables now"
   ]
  },
  {
   "cell_type": "markdown",
   "id": "5f8d1cec-d384-4b6a-8fbb-d1f0f7d66ff8",
   "metadata": {},
   "source": [
    "Q3. What is abc module in python? Why is it used?"
   ]
  },
  {
   "cell_type": "markdown",
   "id": "fae92ee9-93b4-4a7f-b690-e5cc60cc1381",
   "metadata": {},
   "source": [
    "abc module is used to create Abstract class. It is used to call abstract methods by other classes and helps them to modify them particularly for the class they are modified in."
   ]
  },
  {
   "cell_type": "markdown",
   "id": "750f23a1-e8bd-410e-b04a-0bb231b74b3f",
   "metadata": {},
   "source": [
    "Q4. How can we achieve data abstraction?"
   ]
  },
  {
   "cell_type": "markdown",
   "id": "a2dfd7ce-4bad-44cd-a789-e3e2ea8cc590",
   "metadata": {},
   "source": [
    "We can achieve data abstraction by using abc method as below:"
   ]
  },
  {
   "cell_type": "code",
   "execution_count": 14,
   "id": "b7d4b500-2263-48fe-9f1e-d08630219c6a",
   "metadata": {},
   "outputs": [],
   "source": [
    "import abc\n",
    "class cars():\n",
    "    \n",
    "    @abc.abstractmethod\n",
    "    def car_details(self):\n",
    "        pass\n",
    "    \n",
    "    @abc.abstractmethod    \n",
    "    def car_color(self):\n",
    "        pass"
   ]
  },
  {
   "cell_type": "markdown",
   "id": "cb9d9992-d1bf-4279-969c-829123ba3522",
   "metadata": {},
   "source": [
    "Q5. Can we create an instance of an abstract class? Explain your answer."
   ]
  },
  {
   "cell_type": "code",
   "execution_count": null,
   "id": "1710479b-c2ef-46b9-ba1f-7696cd52af3e",
   "metadata": {},
   "outputs": [],
   "source": [
    "Yes, We can creat"
   ]
  }
 ],
 "metadata": {
  "kernelspec": {
   "display_name": "Python 3 (ipykernel)",
   "language": "python",
   "name": "python3"
  },
  "language_info": {
   "codemirror_mode": {
    "name": "ipython",
    "version": 3
   },
   "file_extension": ".py",
   "mimetype": "text/x-python",
   "name": "python",
   "nbconvert_exporter": "python",
   "pygments_lexer": "ipython3",
   "version": "3.10.8"
  }
 },
 "nbformat": 4,
 "nbformat_minor": 5
}
