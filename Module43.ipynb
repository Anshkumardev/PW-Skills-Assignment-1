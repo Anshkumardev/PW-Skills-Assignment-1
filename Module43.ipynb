{
 "cells": [
  {
   "cell_type": "markdown",
   "id": "5abd883b-0d58-4957-bdd7-518100fdf3f9",
   "metadata": {},
   "source": [
    "Q1. What are the three measures of central tendency?"
   ]
  },
  {
   "cell_type": "markdown",
   "id": "6b3ffad9-4f8f-4921-b6fc-492adca4002c",
   "metadata": {},
   "source": [
    "Mean, Median, Mode"
   ]
  },
  {
   "cell_type": "markdown",
   "id": "6ca99836-fe4e-4778-808b-6fc00a6170d8",
   "metadata": {},
   "source": [
    "Q2. What is the difference between the mean, median, and mode? How are they used to measure the\n",
    "central tendency of a dataset?"
   ]
  },
  {
   "cell_type": "markdown",
   "id": "dfcbf408-87e2-44d0-8096-e96dec36d9e4",
   "metadata": {},
   "source": [
    "Mean - it is the average of the data.\n",
    "Median - it is the measure of the central number of the dataset.\n",
    "Mode - it defines the max count of a number's occurance in the dataset.\n",
    "\n",
    "They all are used to measure the central tendency of the dataset as they tells about the distribution of the data and how the values are scattered on a scale. it also shows how the data is skewed and the pdf of the data."
   ]
  },
  {
   "cell_type": "markdown",
   "id": "5d83b495-4051-4383-809f-b8c35b170444",
   "metadata": {},
   "source": [
    "Q3. Measure the three measures of central tendency for the given height data:\n",
    "[178,177,176,177,178.2,178,175,179,180,175,178.9,176.2,177,172.5,178,176.5]"
   ]
  },
  {
   "cell_type": "code",
   "execution_count": 1,
   "id": "2994b323-7464-4a5a-a5fd-e81a4afe866c",
   "metadata": {},
   "outputs": [],
   "source": [
    "x = [178,177,176,177,178.2,178,175,179,180,175,178.9,176.2,177,172.5,178,176.5]"
   ]
  },
  {
   "cell_type": "code",
   "execution_count": 2,
   "id": "78f39144-cfbe-4345-84c0-ada28b862d20",
   "metadata": {},
   "outputs": [],
   "source": [
    "import numpy as np"
   ]
  },
  {
   "cell_type": "code",
   "execution_count": 3,
   "id": "8241218c-aa84-49be-9d52-6d35a36c7445",
   "metadata": {},
   "outputs": [
    {
     "data": {
      "text/plain": [
       "177.01875"
      ]
     },
     "execution_count": 3,
     "metadata": {},
     "output_type": "execute_result"
    }
   ],
   "source": [
    "np.mean(x)"
   ]
  },
  {
   "cell_type": "code",
   "execution_count": 4,
   "id": "ba4ec9ae-89f5-4b0e-8e39-9edde0e7b566",
   "metadata": {},
   "outputs": [
    {
     "data": {
      "text/plain": [
       "177.0"
      ]
     },
     "execution_count": 4,
     "metadata": {},
     "output_type": "execute_result"
    }
   ],
   "source": [
    "np.median(x)"
   ]
  },
  {
   "cell_type": "code",
   "execution_count": 6,
   "id": "94742874-5a0a-4b8e-ba8b-8e0d9cd11e48",
   "metadata": {},
   "outputs": [
    {
     "data": {
      "text/plain": [
       "ModeResult(mode=177.0, count=3)"
      ]
     },
     "execution_count": 6,
     "metadata": {},
     "output_type": "execute_result"
    }
   ],
   "source": [
    "from scipy import stats\n",
    "stats.mode(x)"
   ]
  },
  {
   "cell_type": "markdown",
   "id": "59fa6cc5-a0b7-4636-8274-bd8d2851ffe9",
   "metadata": {},
   "source": [
    "Q4. Find the standard deviation for the given data:\n",
    "[178,177,176,177,178.2,178,175,179,180,175,178.9,176.2,177,172.5,178,176.5]"
   ]
  },
  {
   "cell_type": "code",
   "execution_count": 7,
   "id": "77916d19-aea9-4450-b2e9-445ba4536953",
   "metadata": {},
   "outputs": [],
   "source": [
    "y = [178,177,176,177,178.2,178,175,179,180,175,178.9,176.2,177,172.5,178,176.5]"
   ]
  },
  {
   "cell_type": "code",
   "execution_count": 8,
   "id": "1fb6aab9-3858-4d93-bb69-526272278c95",
   "metadata": {},
   "outputs": [
    {
     "data": {
      "text/plain": [
       "1.7885814036548633"
      ]
     },
     "execution_count": 8,
     "metadata": {},
     "output_type": "execute_result"
    }
   ],
   "source": [
    "np.std(y)"
   ]
  },
  {
   "cell_type": "markdown",
   "id": "36e3b727-3fab-4f5c-b9d6-83c8c8a6f067",
   "metadata": {},
   "source": [
    "Q5. How are measures of dispersion such as range, variance, and standard deviation used to describe\n",
    "the spread of a dataset? Provide an example."
   ]
  },
  {
   "cell_type": "markdown",
   "id": "71d73cf8-0777-4d77-97ce-b0cd54a88add",
   "metadata": {},
   "source": [
    "- range - tells us about the difference between the highest value and the lowest.\n",
    "- standard deviation - tells us about the quartiles in the data and h=where we can find a specific value in the data.\n",
    "- variance - tells us abpout how the data is distributed around the mean."
   ]
  },
  {
   "cell_type": "markdown",
   "id": "9137ad8c-724c-431e-bca2-ffb6e2b16a49",
   "metadata": {},
   "source": [
    "Example:"
   ]
  },
  {
   "cell_type": "code",
   "execution_count": 10,
   "id": "629cf878-75f4-4096-a040-61f8f31728b4",
   "metadata": {},
   "outputs": [],
   "source": [
    "import seaborn as sns"
   ]
  },
  {
   "cell_type": "code",
   "execution_count": 11,
   "id": "73d6f56e-9562-4b15-bf4d-9e44f459dd07",
   "metadata": {},
   "outputs": [
    {
     "data": {
      "text/plain": [
       "<Axes: >"
      ]
     },
     "execution_count": 11,
     "metadata": {},
     "output_type": "execute_result"
    },
    {
     "data": {
      "image/png": "[encoded data removed]",
      "text/plain": [
       "<Figure size 640x480 with 1 Axes>"
      ]
     },
     "metadata": {},
     "output_type": "display_data"
    }
   ],
   "source": [
    "sns.boxplot(y)"
   ]
  },
  {
   "cell_type": "code",
   "execution_count": 12,
   "id": "582c8660-2fa9-43b9-82ca-dd45c0557c04",
   "metadata": {},
   "outputs": [
    {
     "name": "stderr",
     "output_type": "stream",
     "text": [
      "/opt/anaconda3/lib/python3.11/site-packages/seaborn/_oldcore.py:1119: FutureWarning: use_inf_as_na option is deprecated and will be removed in a future version. Convert inf values to NaN before operating instead.\n",
      "  with pd.option_context('mode.use_inf_as_na', True):\n"
     ]
    },
    {
     "data": {
      "text/plain": [
       "<seaborn.axisgrid.FacetGrid at 0x320905090>"
      ]
     },
     "execution_count": 12,
     "metadata": {},
     "output_type": "execute_result"
    },
    {
     "data": {
      "image/png": "[encoded data removed]",
      "text/plain": [
       "<Figure size 500x500 with 1 Axes>"
      ]
     },
     "metadata": {},
     "output_type": "display_data"
    }
   ],
   "source": [
    "sns.displot(y)"
   ]
  },
  {
   "cell_type": "markdown",
   "id": "0908638d-bc09-4ad7-bac1-45db610daae1",
   "metadata": {},
   "source": [
    "Q6. What is a Venn diagram?"
   ]
  },
  {
   "cell_type": "markdown",
   "id": "28d56100-a987-400b-b0bc-06bc663e9fef",
   "metadata": {},
   "source": [
    "Venn diagram is a diagram that shows about two sets of values and how the values in the are distributed among them."
   ]
  },
  {
   "cell_type": "markdown",
   "id": "0bb8796c-ab36-4e4e-a19e-d257d498ab56",
   "metadata": {},
   "source": [
    "Q7. For the two given sets A = (2,3,4,5,6,7) & B = (0,2,6,8,10). Find:\n",
    "(i) A B\n",
    "(ii) A ⋃ B"
   ]
  },
  {
   "cell_type": "markdown",
   "id": "e5725bcf-adf4-416b-947b-8d6566544e20",
   "metadata": {},
   "source": [
    "i) A intersection B = (2,6)"
   ]
  },
  {
   "cell_type": "markdown",
   "id": "81fd1eee-802f-45ae-b5b2-527798bddfb5",
   "metadata": {},
   "source": [
    "ii) A U B = (0,2,3,4,5,6,7,8,10)"
   ]
  },
  {
   "cell_type": "markdown",
   "id": "f6cca8ba-e471-4f26-8959-870786d14682",
   "metadata": {},
   "source": [
    "Q8. What do you understand about skewness in data?"
   ]
  },
  {
   "cell_type": "markdown",
   "id": "56e3bfa8-68a4-4de7-b180-3cd077b8b9cb",
   "metadata": {},
   "source": [
    "Skeweness of the data tells us about how the data is distributed and how its central tendencies are located in the data. "
   ]
  },
  {
   "cell_type": "markdown",
   "id": "b6fe35f4-e4c1-428b-ba88-356e928a99fc",
   "metadata": {},
   "source": [
    "Q9. If a data is right skewed then what will be the position of median with respect to mean?"
   ]
  },
  {
   "cell_type": "markdown",
   "id": "d145b513-db97-441a-b77c-19b4fef2c1fd",
   "metadata": {},
   "source": [
    "median will be on the right side of the mean where the data is skewed."
   ]
  },
  {
   "cell_type": "markdown",
   "id": "399f1070-4f69-4af3-9cfd-c1d65b0b8d0d",
   "metadata": {},
   "source": [
    "Q10. Explain the difference between covariance and correlation. How are these measures used in\n",
    "statistical analysis?"
   ]
  },
  {
   "cell_type": "markdown",
   "id": "e98b9c3a-9f1e-46c8-9d5d-1771ad646111",
   "metadata": {},
   "source": [
    "\n",
    "Covariance measures the directional relationship between two variables, indicating whether they move in tandem or opposite directions, but without a standardized scale. Correlation quantifies both the strength and direction of the linear relationship between two variables, ranging from -1 to 1, thus providing a clearer and more comparable measure of their relationship."
   ]
  },
  {
   "cell_type": "markdown",
   "id": "a682beae-4048-45a3-b893-ce812f4b042f",
   "metadata": {},
   "source": [
    "Q11. What is the formula for calculating the sample mean? Provide an example calculation for a\n",
    "dataset."
   ]
  },
  {
   "cell_type": "markdown",
   "id": "78016a97-9424-4f35-bb4a-e1d99173cbef",
   "metadata": {},
   "source": [
    "x̄ = ( Σ xi ) / n"
   ]
  },
  {
   "cell_type": "markdown",
   "id": "93743dc9-c7a8-4ca8-bcf1-953d24e2f233",
   "metadata": {},
   "source": [
    "a = [1,2,3,4]\n",
    "\n",
    "sum = 10\n",
    "mean = 10/4 = 2.5"
   ]
  },
  {
   "cell_type": "markdown",
   "id": "ceac7956-38ba-424a-bf4e-560ab0c60fc6",
   "metadata": {},
   "source": [
    "Q12. For a normal distribution data what is the relationship between its measure of central tendency?"
   ]
  },
  {
   "cell_type": "markdown",
   "id": "b208b37c-a856-4e91-9b70-f7c6b816d8fd",
   "metadata": {},
   "source": [
    "mean, median, and mode—are all equal."
   ]
  },
  {
   "cell_type": "markdown",
   "id": "104a001f-da0e-47df-b834-56afa12e877b",
   "metadata": {},
   "source": [
    "Q13. How is covariance different from correlation?"
   ]
  },
  {
   "cell_type": "markdown",
   "id": "3a80deea-153d-4d40-9c2f-fca9830dd2de",
   "metadata": {},
   "source": [
    "Covariance indicates the direction of the linear relationship between two variables, with its magnitude depending on the scale of the variables, making direct comparisons difficult. Correlation, on the other hand, standardizes covariance to a range between -1 and 1, providing a clear measure of both the strength and direction of the linear relationship, allowing for easy comparison across different datasets."
   ]
  },
  {
   "cell_type": "markdown",
   "id": "0a227db4-3981-4a4c-8fc4-b018da1a75a5",
   "metadata": {},
   "source": [
    "Q14. How do outliers affect measures of central tendency and dispersion? Provide an example."
   ]
  },
  {
   "cell_type": "markdown",
   "id": "88d2546d-a011-4b95-a4ea-9d5c714844a3",
   "metadata": {},
   "source": [
    "Outliers significantly skew the mean and measures of dispersion like range and variance, making them larger or smaller than they would be without outliers. The median and mode, however, are less affected by outliers. For example, in a dataset [20, 22, 23, 24, 25, 120], the presence of the outlier (120) drastically increases the mean and range, but the median remains stable."
   ]
  },
  {
   "cell_type": "code",
   "execution_count": null,
   "id": "f73ca410-bcc0-489b-a9e3-ea7231072038",
   "metadata": {},
   "outputs": [],
   "source": []
  }
 ],
 "metadata": {
  "kernelspec": {
   "display_name": "Python 3 (ipykernel)",
   "language": "python",
   "name": "python3"
  },
  "language_info": {
   "codemirror_mode": {
    "name": "ipython",
    "version": 3
   },
   "file_extension": ".py",
   "mimetype": "text/x-python",
   "name": "python",
   "nbconvert_exporter": "python",
   "pygments_lexer": "ipython3",
   "version": "3.11.7"
  }
 },
 "nbformat": 4,
 "nbformat_minor": 5
}
