{
 "cells": [
  {
   "cell_type": "markdown",
   "id": "9b014690-8b1e-48d1-bf61-e7257f4724f1",
   "metadata": {},
   "source": [
    "Q1. Which keyword is used to create a function? Create a function to return a list of odd numbers in the\n",
    "range of 1 to 25."
   ]
  },
  {
   "cell_type": "markdown",
   "id": "302b6000-d660-48ca-bef3-494fa227281e",
   "metadata": {},
   "source": [
    "A1. def keyword is used to create a function."
   ]
  },
  {
   "cell_type": "code",
   "execution_count": 1,
   "id": "53086e69-e0a4-432c-bd32-3b5b27ff2c75",
   "metadata": {},
   "outputs": [],
   "source": [
    "def odd():\n",
    "    a = range(0,26)\n",
    "    return [i for i in a if i%2 != 0]"
   ]
  },
  {
   "cell_type": "code",
   "execution_count": 2,
   "id": "68a2c6e1-5b8e-4f9e-94c0-83c66cd416f5",
   "metadata": {},
   "outputs": [
    {
     "data": {
      "text/plain": [
       "[1, 3, 5, 7, 9, 11, 13, 15, 17, 19, 21, 23, 25]"
      ]
     },
     "execution_count": 2,
     "metadata": {},
     "output_type": "execute_result"
    }
   ],
   "source": [
    "odd()"
   ]
  },
  {
   "cell_type": "markdown",
   "id": "0b6f4876-052e-4bd8-b29e-4f457449f0fe",
   "metadata": {},
   "source": [
    "Q2. Why *args and **kwargs is used in some functions? Create a function each for *args and **kwargs\n",
    "to demonstrate their use."
   ]
  },
  {
   "cell_type": "markdown",
   "id": "8b135170-39fa-4e72-92b8-86e0d65fb0aa",
   "metadata": {},
   "source": [
    "*args and **kwargs is used in some functions to take multiple inputs in the fuction. Inspite of defining the actual number of inputs the fuction will require we can use *args and **kwargs."
   ]
  },
  {
   "cell_type": "markdown",
   "id": "e8af1b93-0014-41ff-974f-18a4a0200be3",
   "metadata": {},
   "source": [
    "*args here is used to take multiple integer inputs in a function that returns a set of unique elements."
   ]
  },
  {
   "cell_type": "code",
   "execution_count": 7,
   "id": "f1d4831a-5838-4bfb-a8ab-116a5a11ddca",
   "metadata": {},
   "outputs": [],
   "source": [
    "def unique(*args):\n",
    "    return set(args) "
   ]
  },
  {
   "cell_type": "code",
   "execution_count": 8,
   "id": "9b123298-8e79-43fe-a993-e0e262bcb0cd",
   "metadata": {},
   "outputs": [
    {
     "data": {
      "text/plain": [
       "{1, 2, 3, 4, 5, 6}"
      ]
     },
     "execution_count": 8,
     "metadata": {},
     "output_type": "execute_result"
    }
   ],
   "source": [
    "unique(2,3,4,5,6,1,2,3,4,5,6)"
   ]
  },
  {
   "cell_type": "markdown",
   "id": "2867b26e-ae3f-44b9-88df-7b747c0adbbd",
   "metadata": {},
   "source": [
    "**kwargs here is used to take multiple key value pairs without hard coding which can further be used for various computations."
   ]
  },
  {
   "cell_type": "code",
   "execution_count": 18,
   "id": "72d6860d-eaa5-4c67-86b4-63e2bbb4bc22",
   "metadata": {},
   "outputs": [],
   "source": [
    "def fee_calculator(**kwargs):\n",
    "    return \"Total Fees: \"+str(sum(kwargs.values()))"
   ]
  },
  {
   "cell_type": "code",
   "execution_count": 19,
   "id": "f767dc53-7ce4-4e9e-9944-11225914c5f6",
   "metadata": {},
   "outputs": [
    {
     "data": {
      "text/plain": [
       "'Total Fees: 36350'"
      ]
     },
     "execution_count": 19,
     "metadata": {},
     "output_type": "execute_result"
    }
   ],
   "source": [
    "fee_calculator(Tution = 20000, Insurance = 1350, Housing = 15000 )"
   ]
  },
  {
   "cell_type": "markdown",
   "id": "7aceca55-ab39-4ec4-859d-34f1c10a21df",
   "metadata": {},
   "source": [
    "Q3. What is an iterator in python? Name the method used to initialise the iterator object and the method\n",
    "used for iteration. Use these methods to print the first five elements of the given list [2, 4, 6, 8, 10, 12, 14,\n",
    "16, 18, 20]."
   ]
  },
  {
   "cell_type": "markdown",
   "id": "899273c3-1d5d-4917-a6ac-fa29ca76be4a",
   "metadata": {},
   "source": [
    "Iterator in python is an object which is used to traverse over the given data. Iterator in python is also used to create a loop under which various tasks can be performed that needs a recursive execution. Each element in the given data that needs to be traversed once get assigned to the iterator individually using which we can perform various computations on it. Example: multiplying each element in a list by 2."
   ]
  },
  {
   "cell_type": "markdown",
   "id": "0c0e214f-fafd-4300-a56f-da23c209157d",
   "metadata": {},
   "source": [
    "There are mainly two methods available to iterate. That are For Loops and While Loops."
   ]
  },
  {
   "cell_type": "code",
   "execution_count": 1,
   "id": "adbf1ee1-5068-4f71-9959-c33d53942c9e",
   "metadata": {},
   "outputs": [
    {
     "name": "stdout",
     "output_type": "stream",
     "text": [
      "2\n",
      "4\n",
      "6\n",
      "8\n",
      "10\n"
     ]
    }
   ],
   "source": [
    "l = [2, 4, 6, 8, 10, 12, 14, 16, 18, 20]\n",
    "c = 0\n",
    "\n",
    "while c<5:\n",
    "    print(l[c])\n",
    "    c = c+1\n"
   ]
  },
  {
   "cell_type": "markdown",
   "id": "5fd38b71-6565-47ec-9836-f03092469e6c",
   "metadata": {},
   "source": [
    "Q4. What is a generator function in python? Why yield keyword is used? Give an example of a generator\n",
    "function."
   ]
  },
  {
   "cell_type": "markdown",
   "id": "43917914-3afa-4797-870a-dac8d9a83ad3",
   "metadata": {},
   "source": [
    "Generator function is a function that is used to generate elements one at a time unlike a regular function. It is created using the keyword yield. These functions are generally called iteratively to get the desired result. yield keyword here returns an individual value iteratively and make a function generator function. Example:  "
   ]
  },
  {
   "cell_type": "code",
   "execution_count": 5,
   "id": "3727abc2-043e-4dae-ac74-229670c664b5",
   "metadata": {},
   "outputs": [],
   "source": [
    "def sum(a):\n",
    "    \n",
    "    sum = 0\n",
    "    while sum<=a:\n",
    "        \n",
    "        yield sum\n",
    "        sum = sum + 1\n",
    "        "
   ]
  },
  {
   "cell_type": "code",
   "execution_count": 6,
   "id": "47b448f2-2aab-4702-961f-d7b521dc9616",
   "metadata": {},
   "outputs": [
    {
     "data": {
      "text/plain": [
       "<generator object sum at 0x7fe330301620>"
      ]
     },
     "execution_count": 6,
     "metadata": {},
     "output_type": "execute_result"
    }
   ],
   "source": [
    "sum(10)"
   ]
  },
  {
   "cell_type": "code",
   "execution_count": 7,
   "id": "d420f6dc-1a53-4355-91c6-db33afeb5297",
   "metadata": {},
   "outputs": [
    {
     "name": "stdout",
     "output_type": "stream",
     "text": [
      "0\n",
      "1\n",
      "2\n",
      "3\n",
      "4\n",
      "5\n",
      "6\n",
      "7\n"
     ]
    }
   ],
   "source": [
    "for i in sum(7):\n",
    "    print(i)"
   ]
  },
  {
   "cell_type": "markdown",
   "id": "06f35852-6847-4ce3-a14e-75ccf4fffe28",
   "metadata": {},
   "source": [
    "Q5. Create a generator function for prime numbers less than 1000. Use the next() method to print the\n",
    "first 20 prime numbers."
   ]
  },
  {
   "cell_type": "code",
   "execution_count": 63,
   "id": "0bfdd025-6e37-4204-96ae-c38dffe5fd42",
   "metadata": {},
   "outputs": [],
   "source": [
    "def prime(a = 1000):\n",
    "    \n",
    "    \n",
    "    for i in range(2,a):\n",
    "        isPrime = True\n",
    "        \n",
    "        for j in range(2,i):\n",
    "            if i%j == 0:\n",
    "                isPrime = False\n",
    "        \n",
    "        if isPrime:\n",
    "            yield i   "
   ]
  },
  {
   "cell_type": "code",
   "execution_count": 64,
   "id": "6f259cf3-addd-4507-b3d8-970782f8540c",
   "metadata": {},
   "outputs": [
    {
     "data": {
      "text/plain": [
       "<generator object prime at 0x7fdca4f5ea40>"
      ]
     },
     "execution_count": 64,
     "metadata": {},
     "output_type": "execute_result"
    }
   ],
   "source": [
    "prime()"
   ]
  },
  {
   "cell_type": "code",
   "execution_count": null,
   "id": "88aa279a-c90b-4b43-ac75-30bdc64725c9",
   "metadata": {},
   "outputs": [],
   "source": [
    "for i in range(0,20):\n",
    "    print(next(prime()))"
   ]
  },
  {
   "cell_type": "markdown",
   "id": "23766775-ad0a-42ef-9d19-2a584d873f1f",
   "metadata": {},
   "source": [
    "Q6. Write a python program to print the first 10 Fibonacci numbers using a while loop."
   ]
  },
  {
   "cell_type": "code",
   "execution_count": 2,
   "id": "41108632-8182-47b3-889f-ea264a7bf3dd",
   "metadata": {},
   "outputs": [
    {
     "name": "stdout",
     "output_type": "stream",
     "text": [
      "0\n",
      "1\n",
      "1\n",
      "2\n",
      "3\n",
      "5\n",
      "8\n",
      "13\n",
      "21\n",
      "34\n"
     ]
    }
   ],
   "source": [
    "count = 1\n",
    "a = 0\n",
    "b = 1\n",
    "while count<=10:\n",
    "    print(a)\n",
    "    c = a+b\n",
    "    a = b\n",
    "    b = c\n",
    "    \n",
    "    count = count+1\n",
    "\n",
    "        "
   ]
  },
  {
   "cell_type": "markdown",
   "id": "409f5290-6428-4da5-ade1-c3d553113583",
   "metadata": {},
   "source": [
    "Q7. Write a List Comprehension to iterate through the given string: ‘pwskills’.\n",
    "Expected output: ['p', 'w', 's', 'k', 'i', 'l', 'l', 's']"
   ]
  },
  {
   "cell_type": "code",
   "execution_count": 3,
   "id": "4519d71e-b770-427a-b743-acfbbc7a7ca5",
   "metadata": {},
   "outputs": [
    {
     "data": {
      "text/plain": [
       "['p', 'w', 's', 'k', 'i', 'l', 'l', 's']"
      ]
     },
     "execution_count": 3,
     "metadata": {},
     "output_type": "execute_result"
    }
   ],
   "source": [
    "l = 'pwskills'\n",
    "\n",
    "list(i for i in l)"
   ]
  },
  {
   "cell_type": "markdown",
   "id": "b0bfb161-2913-4f5a-8c8c-9c5733763fba",
   "metadata": {},
   "source": [
    "Q8. Write a python program to check whether a given number is Palindrome or not using a while loop."
   ]
  },
  {
   "cell_type": "code",
   "execution_count": 21,
   "id": "ae1b172e-12a4-444a-b4bd-dba679f4b3e1",
   "metadata": {},
   "outputs": [
    {
     "name": "stdin",
     "output_type": "stream",
     "text": [
      "Enter any number: 454\n"
     ]
    },
    {
     "name": "stdout",
     "output_type": "stream",
     "text": [
      "The number is palindrome!\n"
     ]
    }
   ],
   "source": [
    "a=int(input(\"Enter any number:\"))\n",
    "temp=a\n",
    "rev=0\n",
    "while(a>0):\n",
    "    dig=a%10\n",
    "    rev=rev*10+dig\n",
    "    a=a//10\n",
    "if(temp==rev):\n",
    "    print(\"The number is palindrome!\")\n",
    "else:\n",
    "    print(\"Not a palindrome!\")"
   ]
  },
  {
   "cell_type": "markdown",
   "id": "303a175e-3ab5-4c86-b223-d46a80167376",
   "metadata": {},
   "source": [
    "Q9. Write a code to print odd numbers from 1 to 100 using list comprehension."
   ]
  },
  {
   "cell_type": "code",
   "execution_count": 22,
   "id": "1b3b9364-01b9-40cf-b98b-07ec098d01af",
   "metadata": {},
   "outputs": [
    {
     "data": {
      "text/plain": [
       "[1,\n",
       " 3,\n",
       " 5,\n",
       " 7,\n",
       " 9,\n",
       " 11,\n",
       " 13,\n",
       " 15,\n",
       " 17,\n",
       " 19,\n",
       " 21,\n",
       " 23,\n",
       " 25,\n",
       " 27,\n",
       " 29,\n",
       " 31,\n",
       " 33,\n",
       " 35,\n",
       " 37,\n",
       " 39,\n",
       " 41,\n",
       " 43,\n",
       " 45,\n",
       " 47,\n",
       " 49,\n",
       " 51,\n",
       " 53,\n",
       " 55,\n",
       " 57,\n",
       " 59,\n",
       " 61,\n",
       " 63,\n",
       " 65,\n",
       " 67,\n",
       " 69,\n",
       " 71,\n",
       " 73,\n",
       " 75,\n",
       " 77,\n",
       " 79,\n",
       " 81,\n",
       " 83,\n",
       " 85,\n",
       " 87,\n",
       " 89,\n",
       " 91,\n",
       " 93,\n",
       " 95,\n",
       " 97,\n",
       " 99]"
      ]
     },
     "execution_count": 22,
     "metadata": {},
     "output_type": "execute_result"
    }
   ],
   "source": [
    "list(i for i in range(1,101) if i%2 != 0)"
   ]
  },
  {
   "cell_type": "code",
   "execution_count": null,
   "id": "9c86b898-3e80-4814-95bb-3f0d81719926",
   "metadata": {},
   "outputs": [],
   "source": []
  }
 ],
 "metadata": {
  "kernelspec": {
   "display_name": "Python 3 (ipykernel)",
   "language": "python",
   "name": "python3"
  },
  "language_info": {
   "codemirror_mode": {
    "name": "ipython",
    "version": 3
   },
   "file_extension": ".py",
   "mimetype": "text/x-python",
   "name": "python",
   "nbconvert_exporter": "python",
   "pygments_lexer": "ipython3",
   "version": "3.10.8"
  }
 },
 "nbformat": 4,
 "nbformat_minor": 5
}
