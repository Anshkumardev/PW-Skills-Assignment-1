{
 "cells": [
  {
   "cell_type": "markdown",
   "id": "f7a2956e-7e04-4c01-9b0d-dbb1fd761392",
   "metadata": {},
   "source": [
    "Q1. What is Statistics?"
   ]
  },
  {
   "cell_type": "markdown",
   "id": "c64e4569-86f9-43ce-a8bb-fa8f89bf5656",
   "metadata": {},
   "source": [
    "Statistics is a branch of mathematics that deals with collecting, analyzing, interpreting, presenting, and organizing data. It is used to describe and make inferences about populations based on sample data, aiding decision-making through the use of models, summaries, and estimation."
   ]
  },
  {
   "cell_type": "markdown",
   "id": "b1f8d19c-48a5-4063-a669-a947203790f9",
   "metadata": {},
   "source": [
    "Q2. Define the different types of statistics and give an example of when each type might be used."
   ]
  },
  {
   "cell_type": "markdown",
   "id": "2b3bfca1-a921-40aa-97db-5e418e7fa244",
   "metadata": {},
   "source": [
    "\n",
    "Statistics is broadly divided into two types:\n",
    "\n",
    "Descriptive Statistics: This type involves summarizing or describing a set of data. Examples include measures of central tendency (like mean, median, mode) and measures of dispersion (like range, variance, standard deviation). For instance, a company might use descriptive statistics to report the average salary of its employees or the range of hours they work per week.\n",
    "\n",
    "Inferential Statistics: This type involves making predictions or inferences about a larger population based on a sample of data from that population. It uses techniques like hypothesis testing, confidence intervals, and regression analysis. For example, a pollster might use inferential statistics to predict the outcome of an election based on a sample of voter opinions."
   ]
  },
  {
   "cell_type": "markdown",
   "id": "81bc8315-9a98-4a11-ab76-de765fdac327",
   "metadata": {},
   "source": [
    "Q3. What are the different types of data and how do they differ from each other? Provide an example of\n",
    "each type of data."
   ]
  },
  {
   "cell_type": "markdown",
   "id": "c3c1cdc2-b5c1-425e-ad36-7660782bfd66",
   "metadata": {},
   "source": [
    "Data can be classified into several types, primarily divided into qualitative and quantitative categories:\n",
    "\n",
    "Qualitative Data (Categorical):\n",
    "\n",
    "Nominal Data: Data that represent categories without any intrinsic ranking (e.g., types of fruits: apples, oranges, bananas).\n",
    "Ordinal Data: Data that represent categories with an intrinsic order but not equidistant (e.g., survey responses like poor, fair, good, excellent).\n",
    "\n",
    "Quantitative Data (Numerical):\n",
    "\n",
    "Interval Data: Numeric data that have meaningful intervals but no true zero point (e.g., temperature in Celsius or Fahrenheit, where 0 does not imply the absence of temperature).\n",
    "Ratio Data: Numeric data with meaningful intervals and a true zero point (e.g., weight, where 0 implies no weight)."
   ]
  },
  {
   "cell_type": "markdown",
   "id": "70373453-f8ef-41a2-b519-ed8817493d6f",
   "metadata": {},
   "source": [
    "Q4. Categorise the following datasets with respect to quantitative and qualitative data types:\n",
    "\n",
    "(i) Grading in exam: A+, A, B+, B, C+, C, D, E\n",
    "(ii) Colour of mangoes: yellow, green, orange, red\n",
    "(iii) Height data of a class: [178.9, 179, 179.5, 176, 177.2, 178.3, 175.8,...]\n",
    "(iv) Number of mangoes exported by a farm: [500, 600, 478, 672, ...]"
   ]
  },
  {
   "cell_type": "markdown",
   "id": "cb13917a-7885-449e-86e7-1a10a8656548",
   "metadata": {},
   "source": [
    "(i) Grading in exam: A+, A, B+, B, C+, C, D, E\n",
    "\n",
    "Qualitative Data (Ordinal): The grades are ordered by quality of performance but do not have a precise numerical difference between them.\n",
    "\n",
    "(ii) Colour of mangoes: yellow, green, orange, red\n",
    "\n",
    "Qualitative Data (Nominal): These are categories without any intrinsic ranking or order.\n",
    "\n",
    "(iii) Height data of a class: [178.9, 179, 179.5, 176, 177.2, 178.3, 175.8,...]\n",
    "\n",
    "Quantitative Data (Ratio): Heights are measured numerically with meaningful intervals and a true zero (0 cm means no height).\n",
    "\n",
    "(iv) Number of mangoes exported by a farm: [500, 600, 478, 672, ...]\n",
    "\n",
    "Quantitative Data (Ratio): Counts of mangoes are numeric values that can be meaningfully added, subtracted, or compared, and have a true zero (0 mangoes means none were exported)."
   ]
  },
  {
   "cell_type": "markdown",
   "id": "a1aaca8b-ccae-4842-8e5a-73ade30fb36a",
   "metadata": {},
   "source": [
    "Q5. Explain the concept of levels of measurement and give an example of a variable for each level."
   ]
  },
  {
   "cell_type": "markdown",
   "id": "0c25a7d3-aa8a-4d2e-8a63-1d0b444a42d5",
   "metadata": {},
   "source": [
    "# Levels of Measurement\n",
    "\n",
    "The concept of levels of measurement refers to the different ways that variables can be quantified and categorized. There are four main levels:\n",
    "\n",
    "## 1. Nominal Level\n",
    "This is the most basic level of measurement, where data are categorized without any order or ranking. Variables are used to label or name attributes uniquely. \n",
    "- **Example**: Types of pets (dog, cat, bird).\n",
    "\n",
    "## 2. Ordinal Level\n",
    "At this level, data are categorized with a specific order, but the intervals between categories are not necessarily equal or meaningful.\n",
    "- **Example**: Military ranks (corporal, sergeant, lieutenant).\n",
    "\n",
    "## 3. Interval Level\n",
    "Data at this level have meaningful intervals between measurements, but there is no true zero point (zero does not mean the absence of the quantity).\n",
    "- **Example**: Temperature in Celsius or Fahrenheit.\n",
    "\n",
    "## 4. Ratio Level\n",
    "This is the highest level of measurement, with ordered data that have equal intervals and a true zero point, which means the absence of the quantity being measured.\n",
    "- **Example**: Height in centimeters or weight in kilograms.\n",
    "\n",
    "Each level allows for different types of statistical analysis, with higher levels (interval and ratio) permitting a broader range of mathematical operations and analyses.\n"
   ]
  },
  {
   "cell_type": "markdown",
   "id": "fff71f46-1cd1-4664-a47b-94e3f1db3b9a",
   "metadata": {},
   "source": [
    "Q6. Why is it important to understand the level of measurement when analyzing data? Provide an\n",
    "example to illustrate your answer."
   ]
  },
  {
   "cell_type": "markdown",
   "id": "0e9d6dd2-3166-4fae-a425-d07b3ec11f4c",
   "metadata": {},
   "source": [
    "Understanding the level of measurement is crucial when analyzing data because it determines the types of statistical analyses that are appropriate for the data. Each level of measurement supports different types of calculations and conclusions.\n",
    "\n",
    "Example: Consider the variable \"temperature\" measured in Celsius (an interval level of measurement). With interval data, one can calculate the mean temperature, but one cannot validly say that 20°C is twice as hot as 10°C because the zero point is arbitrary (not a true zero). However, if temperature were measured on a ratio scale, like Kelvin, such calculations would be meaningful because Kelvin has a true zero point, indicating the absence of thermal energy. This illustrates why knowing the level of measurement helps in choosing the right statistical methods and in making accurate interpretations."
   ]
  },
  {
   "cell_type": "markdown",
   "id": "32d23ee9-ffdd-4305-8c0d-14fa7d4aeb65",
   "metadata": {},
   "source": [
    "Q7. How nominal data type is different from ordinal data type."
   ]
  },
  {
   "cell_type": "markdown",
   "id": "cd2d318c-7f11-4352-b28e-d501cf230992",
   "metadata": {},
   "source": [
    "Nominal and ordinal data types both fall under qualitative (categorical) data but differ in how the categories relate to each other:\n",
    "\n",
    "Nominal data have categories that do not have any inherent order or ranking. They are used purely for labeling or categorizing items without implying any sort of progression or scale among the categories. Example: Colors of a car (red, blue, green).\n",
    "\n",
    "Ordinal data, on the other hand, involve categories that have a defined order or ranking, but the intervals between these ranks are not necessarily equal or known. This type of data implies a hierarchy or progression among the categories. Example: Sizes of clothing (small, medium, large, extra-large)."
   ]
  },
  {
   "cell_type": "markdown",
   "id": "dcd7739c-4278-47b2-b1a4-b95631d334cc",
   "metadata": {},
   "source": [
    "Q8. Which type of plot can be used to display data in terms of range?"
   ]
  },
  {
   "cell_type": "markdown",
   "id": "2aef92c1-cfbf-4836-8f75-59b1369c96d8",
   "metadata": {},
   "source": [
    "Box plot"
   ]
  },
  {
   "cell_type": "markdown",
   "id": "437f0046-5fb8-41cd-a5b1-80fe7f2acc2b",
   "metadata": {},
   "source": [
    "Q9. Describe the difference between descriptive and inferential statistics. Give an example of each\n",
    "type of statistics and explain how they are used."
   ]
  },
  {
   "cell_type": "markdown",
   "id": "8760b4ce-85c8-4147-97dc-1441774fa451",
   "metadata": {},
   "source": [
    "Descriptive Statistics and Inferential Statistics serve different purposes in the field of statistics:\n",
    "\n",
    "Descriptive Statistics involve summarizing or describing a set of data. This can include calculating measures like the mean, median, mode, and standard deviation. Descriptive statistics provide a simple summary about the sample and the measures. Together, these statistics allow you to describe the basic features of the data you are studying.\n",
    "\n",
    "Example: A company may use descriptive statistics to summarize employee performance data, reporting the average sales per employee and the range of sales figures.\n",
    "\n",
    "Inferential Statistics involve making predictions or inferences about a larger population based on a sample of data. This uses complex analysis techniques like hypothesis testing, confidence intervals, and regression analysis to make predictions about a population from the sample data.\n",
    "\n",
    "Example: An analyst might use inferential statistics to predict the outcome of an upcoming election based on a sample poll. They might calculate confidence intervals to understand the accuracy of the poll predictions or perform hypothesis testing to see if there is a significant difference between groups."
   ]
  },
  {
   "cell_type": "markdown",
   "id": "55347ac5-27b7-4a71-8d44-80482538bd39",
   "metadata": {},
   "source": [
    "Q10. What are some common measures of central tendency and variability used in statistics? Explain\n",
    "how each measure can be used to describe a dataset."
   ]
  },
  {
   "cell_type": "markdown",
   "id": "f489596b-c7e3-4a7e-86ae-f85a556e8b31",
   "metadata": {},
   "source": [
    "# Common Measures of Central Tendency and Variability\n",
    "\n",
    "In statistics, measures of central tendency and variability are essential for summarizing and describing data sets.\n",
    "\n",
    "## Measures of Central Tendency:\n",
    "\n",
    "1. **Mean**: The average of all data points. Calculated by summing all values and dividing by the number of values. Useful for identifying the typical value but can be skewed by outliers.\n",
    "   \n",
    "2. **Median**: The middle value in a dataset when ordered from smallest to largest. Especially useful in skewed distributions as it better represents the central location.\n",
    "   \n",
    "3. **Mode**: The most frequently occurring value(s) in a dataset. Helpful for identifying the most common value, particularly in categorical data.\n",
    "\n",
    "## Measures of Variability:\n",
    "\n",
    "1. **Range**: The difference between the maximum and minimum values. Provides a basic sense of the spread of data but is sensitive to outliers.\n",
    "\n",
    "2. **Variance**: Measures the average squared deviations from the mean. Offers a comprehensive measure of spread by considering all data points.\n",
    "\n",
    "3. **Standard Deviation**: The square root of the variance. Widely used due to its interpretation in the same units as the data, making it easy to understand.\n",
    "\n",
    "4. **Interquartile Range (IQR)**: The difference between the 75th percentile (Q3) and the 25th percentile (Q1). Measures the middle 50% of the data and is less affected by outliers.\n",
    "\n",
    "These statistical measures help in providing a detailed description of the data, enabling insights and informed decision-making.\n"
   ]
  },
  {
   "cell_type": "code",
   "execution_count": null,
   "id": "bcd3a00e-79eb-4ab9-89f6-89de1cf052ac",
   "metadata": {},
   "outputs": [],
   "source": []
  }
 ],
 "metadata": {
  "kernelspec": {
   "display_name": "Python 3 (ipykernel)",
   "language": "python",
   "name": "python3"
  },
  "language_info": {
   "codemirror_mode": {
    "name": "ipython",
    "version": 3
   },
   "file_extension": ".py",
   "mimetype": "text/x-python",
   "name": "python",
   "nbconvert_exporter": "python",
   "pygments_lexer": "ipython3",
   "version": "3.11.7"
  }
 },
 "nbformat": 4,
 "nbformat_minor": 5
}
