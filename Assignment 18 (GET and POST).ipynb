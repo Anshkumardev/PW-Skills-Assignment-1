{
 "cells": [
  {
   "cell_type": "markdown",
   "id": "d52c48b2-3db0-4656-9a3d-7e141923d8f8",
   "metadata": {},
   "source": [
    "Q1. Explain GET and POST methods."
   ]
  },
  {
   "cell_type": "markdown",
   "id": "0ca4550c-82c8-48bb-9e0b-ef4cce744393",
   "metadata": {},
   "source": [
    "GET:\n",
    "\n",
    "- GET is an HTTP method used to retrieve data from a server.\n",
    "- Data is sent in the URL query parameters.\n",
    "- GET requests are safe, idempotent, and can be cached or bookmarked.\n",
    "\n",
    "POST:\n",
    "\n",
    "- POST is an HTTP method used to send data to a server to create or update a resource.\n",
    "- Data is sent in the request body.\n",
    "- POST requests are not idempotent and often result in a change of server state."
   ]
  },
  {
   "cell_type": "markdown",
   "id": "731d9851-cebe-487c-8bcb-340a665a87bf",
   "metadata": {},
   "source": [
    "Q2. Why is request used in Flask?"
   ]
  },
  {
   "cell_type": "markdown",
   "id": "704b0e4b-bcb0-4b7c-a1a9-2f665f1eb3e6",
   "metadata": {},
   "source": [
    "The request object in Flask is used to handle and process data sent by clients when they make requests to a Flask application. It allows the Flask application to access information like form data, URL parameters, headers, and more. With the request object, you can retrieve and validate data, access HTTP headers, handle different request methods, and manage session data. Essentially, it helps in receiving and understanding client requests in Flask applications."
   ]
  },
  {
   "cell_type": "markdown",
   "id": "6c911106-562a-4162-ae53-283293745a75",
   "metadata": {},
   "source": [
    "Q3. Why is redirect() used in Flask?"
   ]
  },
  {
   "cell_type": "markdown",
   "id": "b4c325d1-ed28-415c-9310-d46486420eef",
   "metadata": {},
   "source": [
    "The redirect() function in Flask is used to send the user to a different page or URL. It allows you to control the flow of the application and guide the user to a different route or external website. For example, after successfully submitting a form or completing an action, you can use redirect() to send the user to a thank-you page or back to the homepage. It helps in providing a smooth and intuitive user experience by directing users to the appropriate destinations based on their actions or the application's logic."
   ]
  },
  {
   "cell_type": "markdown",
   "id": "af873732-fea7-4ca2-8a35-c3a2065583b9",
   "metadata": {},
   "source": [
    "Q4. What are templates in Flask? Why is the render_template() function used?"
   ]
  },
  {
   "cell_type": "markdown",
   "id": "e75fe410-61ed-4f2b-9857-ef1fe87a30c0",
   "metadata": {},
   "source": [
    "Templates in Flask are files that define the structure and appearance of web pages. They allow you to separate the design and layout from the actual Python code in your Flask application. Templates provide placeholders where dynamic data can be inserted, making it easier to generate HTML pages dynamically.\n",
    "\n",
    "The render_template() function is used to render these templates and generate HTML responses. It takes the name of the template file as a parameter and combines it with the provided data to generate the final HTML. This function allows you to dynamically generate HTML pages by inserting data into the appropriate locations within the templates."
   ]
  },
  {
   "cell_type": "markdown",
   "id": "da5c7a7c-9556-47b5-bd45-d603f9fb775c",
   "metadata": {},
   "source": [
    "Q5. Create a simple API. Use Postman to test it. Attach the screenshot of the output in the Jupyter Notebook."
   ]
  },
  {
   "cell_type": "code",
   "execution_count": 4,
   "id": "54193d20-e845-494f-963c-27c347432c81",
   "metadata": {},
   "outputs": [
    {
     "name": "stdout",
     "output_type": "stream",
     "text": [
      "Collecting flask\n",
      "  Downloading Flask-2.3.2-py3-none-any.whl (96 kB)\n",
      "\u001b[2K     \u001b[90m━━━━━━━━━━━━━━━━━━━━━━━━━━━━━━━━━━━━━━━━\u001b[0m \u001b[32m96.9/96.9 kB\u001b[0m \u001b[31m4.8 MB/s\u001b[0m eta \u001b[36m0:00:00\u001b[0m\n",
      "\u001b[?25hCollecting blinker>=1.6.2\n",
      "  Downloading blinker-1.6.2-py3-none-any.whl (13 kB)\n",
      "Collecting itsdangerous>=2.1.2\n",
      "  Downloading itsdangerous-2.1.2-py3-none-any.whl (15 kB)\n",
      "Requirement already satisfied: Jinja2>=3.1.2 in /opt/conda/lib/python3.10/site-packages (from flask) (3.1.2)\n",
      "Collecting Werkzeug>=2.3.3\n",
      "  Downloading Werkzeug-2.3.6-py3-none-any.whl (242 kB)\n",
      "\u001b[2K     \u001b[90m━━━━━━━━━━━━━━━━━━━━━━━━━━━━━━━━━━━━━━\u001b[0m \u001b[32m242.5/242.5 kB\u001b[0m \u001b[31m30.5 MB/s\u001b[0m eta \u001b[36m0:00:00\u001b[0m\n",
      "\u001b[?25hRequirement already satisfied: click>=8.1.3 in /opt/conda/lib/python3.10/site-packages (from flask) (8.1.3)\n",
      "Requirement already satisfied: MarkupSafe>=2.0 in /opt/conda/lib/python3.10/site-packages (from Jinja2>=3.1.2->flask) (2.1.1)\n",
      "Installing collected packages: Werkzeug, itsdangerous, blinker, flask\n",
      "  Attempting uninstall: blinker\n",
      "    Found existing installation: blinker 1.5\n",
      "    Uninstalling blinker-1.5:\n",
      "      Successfully uninstalled blinker-1.5\n",
      "Successfully installed Werkzeug-2.3.6 blinker-1.6.2 flask-2.3.2 itsdangerous-2.1.2\n",
      "Note: you may need to restart the kernel to use updated packages.\n"
     ]
    }
   ],
   "source": [
    "pip install flask"
   ]
  },
  {
   "cell_type": "code",
   "execution_count": null,
   "id": "6c6eb32e-933e-412f-a2e6-b580a49f1cf1",
   "metadata": {},
   "outputs": [
    {
     "name": "stdout",
     "output_type": "stream",
     "text": [
      " * Serving Flask app '__main__'\n",
      " * Debug mode: off\n"
     ]
    },
    {
     "name": "stderr",
     "output_type": "stream",
     "text": [
      "WARNING: This is a development server. Do not use it in a production deployment. Use a production WSGI server instead.\n",
      " * Running on all addresses (0.0.0.0)\n",
      " * Running on http://127.0.0.1:5000\n",
      " * Running on http://172.18.0.3:5000\n",
      "Press CTRL+C to quit\n",
      "172.18.0.2 - - [07/Jul/2023 18:55:07] \"POST / HTTP/1.1\" 200 -\n"
     ]
    }
   ],
   "source": [
    "from flask import Flask, render_template, request, jsonify\n",
    "\n",
    "app = Flask(__name__)\n",
    "\n",
    "@app.route(\"/\",methods=[\"POST\"])\n",
    "def test_postman():\n",
    "    if(request.method==\"POST\"):\n",
    "       name = request.json[\"name\"]\n",
    "       age = request.json[\"age\"]\n",
    "       return jsonify(f\"Your name is {name} and age is {age}.\")\n",
    "    \n",
    "\n",
    "if __name__==\"__main__\":\n",
    "    app.run(host=\"0.0.0.0\")"
   ]
  },
  {
   "cell_type": "code",
   "execution_count": null,
   "id": "a30cc177-2d18-4daf-bf0e-ec65fd76afde",
   "metadata": {},
   "outputs": [],
   "source": []
  }
 ],
 "metadata": {
  "kernelspec": {
   "display_name": "Python 3 (ipykernel)",
   "language": "python",
   "name": "python3"
  },
  "language_info": {
   "codemirror_mode": {
    "name": "ipython",
    "version": 3
   },
   "file_extension": ".py",
   "mimetype": "text/x-python",
   "name": "python",
   "nbconvert_exporter": "python",
   "pygments_lexer": "ipython3",
   "version": "3.10.8"
  }
 },
 "nbformat": 4,
 "nbformat_minor": 5
}
