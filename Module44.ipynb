{
 "cells": [
  {
   "cell_type": "markdown",
   "id": "4c421bcb-01df-4cd8-9c7a-1c64b05e9a46",
   "metadata": {},
   "source": [
    "Q1. What is the Probability density function?"
   ]
  },
  {
   "cell_type": "markdown",
   "id": "671bc599-09d4-494a-9206-9183ca9cd8da",
   "metadata": {},
   "source": [
    "The probability density function (PDF) is a function that describes the likelihood or probability of a continuous random variable taking on a specific value. In simpler terms, it gives the relative likelihood of the random variable falling within a particular range of values, as opposed to taking on any one specific value."
   ]
  },
  {
   "cell_type": "markdown",
   "id": "80c56313-f07b-4593-80f0-e7bfa2675291",
   "metadata": {},
   "source": [
    "Q2. What are the types of Probability distribution?"
   ]
  },
  {
   "cell_type": "markdown",
   "id": "1bba91dd-d5cb-4a3d-acc0-3389df3b4ffe",
   "metadata": {},
   "source": [
    "Three types:\n",
    "\n",
    "Bernoulli Distribution, \n",
    "Binomial Distribution, \n",
    "Poisson Distribution,\n",
    "Normal Distribution."
   ]
  },
  {
   "cell_type": "markdown",
   "id": "3bc2c34d-ab90-44ac-a946-73ce68572e55",
   "metadata": {},
   "source": [
    "Q3. Write a Python function to calculate the probability density function of a normal distribution with\n",
    "given mean and standard deviation at a given point."
   ]
  },
  {
   "cell_type": "code",
   "execution_count": 10,
   "id": "999377dc-d7c2-4edf-9c8c-f1e450369d0a",
   "metadata": {},
   "outputs": [
    {
     "name": "stdout",
     "output_type": "stream",
     "text": [
      "The value of the probability density function at x = 1 is 0.24197072451914337\n"
     ]
    }
   ],
   "source": [
    "import numpy as np\n",
    "\n",
    "def normal_pdf(x, mu, sigma):\n",
    "    return (1 / (sigma * np.sqrt(2 * np.pi))) * np.exp(-0.5 * ((x - mu) / sigma) ** 2)\n",
    "\n",
    "x_value = 1\n",
    "mu = 0  # Mean\n",
    "sigma = 1  # Standard deviation\n",
    "\n",
    "pdf_value = normal_pdf(x_value, mu, sigma)\n",
    "print(f\"The value of the probability density function at x = {x_value} is {pdf_value}\")\n"
   ]
  },
  {
   "cell_type": "markdown",
   "id": "08934e8b-8f4e-41ba-a703-055cd26052f5",
   "metadata": {},
   "source": [
    "Q4. What are the properties of Binomial distribution? Give two examples of events where binomial\n",
    "distribution can be applied."
   ]
  },
  {
   "cell_type": "markdown",
   "id": "082c5943-16ac-46f7-8350-c97d23d8547e",
   "metadata": {},
   "source": [
    "The Binomial distribution is used for modeling the number of successes in a fixed number of independent trials, where each trial has only two possible outcomes (success or failure) and a constant probability of success. Key properties include:\n",
    "\n",
    "- Fixed Number of Trials (n): The total trials are constant.\n",
    "- Two Outcomes: Each trial results in either success or failure.\n",
    "- Constant Probability (p): The success probability doesn't change across trials.\n",
    "- Independence: Trials don't affect each other.\n",
    "\n",
    "\n",
    "Examples:\n",
    "\n",
    "Voting: If 1,000 people each have a 40% chance to vote for a candidate, the number voting for that candidate follows a Binomial distribution.\n",
    "Quality Control: In inspecting 500 widgets with each having a 1% defect chance, the count of defective widgets also follows a Binomial distribution."
   ]
  },
  {
   "cell_type": "markdown",
   "id": "1b6bf227-6da7-419d-9109-d6e93a266ec8",
   "metadata": {},
   "source": [
    "Q5. Generate a random sample of size 1000 from a binomial distribution with probability of success 0.4\n",
    "and plot a histogram of the results using matplotlib."
   ]
  },
  {
   "cell_type": "code",
   "execution_count": 13,
   "id": "c86a0046-8e7b-4795-a0a0-022ee0f6062b",
   "metadata": {},
   "outputs": [
    {
     "data": {
      "image/png": "[encoded data removed]",
      "text/plain": [
       "<Figure size 640x480 with 1 Axes>"
      ]
     },
     "metadata": {},
     "output_type": "display_data"
    }
   ],
   "source": [
    "import numpy as np\n",
    "import matplotlib.pyplot as plt\n",
    "\n",
    "# Parameters for the binomial distribution\n",
    "n_trials = 1000  # number of trials in each experiment\n",
    "p_success = 0.4  # probability of success in each trial\n",
    "size = 1000      # size of the sample\n",
    "\n",
    "# Generating the sample\n",
    "data = np.random.binomial(n=n_trials, p=p_success, size=size)\n",
    "\n",
    "# Plotting the histogram\n",
    "plt.hist(data, bins=30, color='blue', alpha=0.5)\n",
    "plt.title('Histogram of Binomial Distribution')\n",
    "plt.xlabel('Number of Successes')\n",
    "plt.ylabel('Frequency')\n",
    "plt.show()\n"
   ]
  },
  {
   "cell_type": "markdown",
   "id": "ff2f59c3-9889-4064-929d-07bd2bb2e98e",
   "metadata": {},
   "source": [
    "Q6. Write a Python function to calculate the cumulative distribution function of a Poisson distribution\n",
    "with given mean at a given point."
   ]
  },
  {
   "cell_type": "code",
   "execution_count": 15,
   "id": "85c2106e-c3cc-4135-a512-d829c942e3e8",
   "metadata": {},
   "outputs": [
    {
     "name": "stdout",
     "output_type": "stream",
     "text": [
      "The CDF of a Poisson distribution with λ = 3 at k = 5 is 0.9160820579686966\n"
     ]
    }
   ],
   "source": [
    "import math\n",
    "\n",
    "def poisson_cdf(lam, k):\n",
    "    cdf = 0\n",
    "    for i in range(k + 1):\n",
    "        cdf += (lam ** i) * math.exp(-lam) / math.factorial(i)\n",
    "    return cdf\n",
    "\n",
    "lam = 3  # Mean number of events\n",
    "k = 5    # CDF calculated at this point\n",
    "result = poisson_cdf(lam, k)\n",
    "print(f\"The CDF of a Poisson distribution with λ = {lam} at k = {k} is {result}\")"
   ]
  },
  {
   "cell_type": "markdown",
   "id": "d677991b-af34-4295-8e8c-e910f7f70eb9",
   "metadata": {},
   "source": [
    "Q7. How Binomial distribution different from Poisson distribution?"
   ]
  },
  {
   "cell_type": "markdown",
   "id": "c36fd2bc-d5d3-4b6e-bbe9-4c06cf903914",
   "metadata": {},
   "source": [
    "The main differences between the Binomial and Poisson distributions are:\n",
    "\n",
    "Binomial Distribution: Used when counting successes in a fixed number of independent trials with a known probability of success per trial.\n",
    "\n",
    "Poisson Distribution: Suitable for modeling the number of occurrences of events over a fixed interval or area, with a known average rate, and where the events occur independently."
   ]
  },
  {
   "cell_type": "markdown",
   "id": "b4e120e5-f760-409d-9034-9bdb67f796ea",
   "metadata": {},
   "source": [
    "Q8. Generate a random sample of size 1000 from a Poisson distribution with mean 5 and calculate the\n",
    "sample mean and variance."
   ]
  },
  {
   "cell_type": "code",
   "execution_count": 17,
   "id": "932951cc-4a76-47c6-9d29-26c64a40974e",
   "metadata": {},
   "outputs": [
    {
     "name": "stdout",
     "output_type": "stream",
     "text": [
      "Sample Mean: 4.948\n",
      "Sample Variance: 4.7792959999999995\n"
     ]
    }
   ],
   "source": [
    "import numpy as np\n",
    "\n",
    "sample_size = 1000\n",
    "lam = 5 \n",
    "sample = np.random.poisson(lam, sample_size)\n",
    "\n",
    "sample_mean = np.mean(sample)\n",
    "sample_variance = np.var(sample)\n",
    "\n",
    "print(f\"Sample Mean: {sample_mean}\")\n",
    "print(f\"Sample Variance: {sample_variance}\")\n"
   ]
  },
  {
   "cell_type": "markdown",
   "id": "9e819d9d-c1ec-40c6-9a1c-464de69959ee",
   "metadata": {},
   "source": [
    "Q9. How mean and variance are related in Binomial distribution and Poisson distribution?"
   ]
  },
  {
   "cell_type": "markdown",
   "id": "19810d46-42ce-484c-b5e5-94154031409e",
   "metadata": {},
   "source": [
    "## Relationship Between Mean and Variance\n",
    "\n",
    "### Binomial Distribution\n",
    "- **Mean**: \\( \\mu = n \\times p \\)\n",
    "- **Variance**: \\( \\sigma^2 = n \\times p \\times (1 - p) \\)\n",
    "  - Here, \\( n \\) is the number of trials and \\( p \\) is the probability of success per trial.\n",
    "  - The variance is influenced by the probability of failure (\\( 1-p \\)).\n",
    "\n",
    "### Poisson Distribution\n",
    "- **Mean and Variance**: \\( \\mu = \\lambda \\) and \\( \\sigma^2 = \\lambda \\)\n",
    "  - \\( \\lambda \\) is the rate of occurrences.\n",
    "  - In this distribution, the mean equals the variance, highlighting a unique property where variance scales linearly with the mean.\n"
   ]
  },
  {
   "cell_type": "markdown",
   "id": "40ed2dbb-dd23-4f19-9eb0-54699bba5394",
   "metadata": {},
   "source": [
    "Q10. In normal distribution with respect to mean position, where does the least frequent data appear? "
   ]
  },
  {
   "cell_type": "markdown",
   "id": "d8acf046-53ee-40b9-85e7-2556aa31dfad",
   "metadata": {},
   "source": [
    "In a normal distribution, the least frequent data appears in the tails of the distribution, farthest from the mean."
   ]
  }
 ],
 "metadata": {
  "kernelspec": {
   "display_name": "Python 3 (ipykernel)",
   "language": "python",
   "name": "python3"
  },
  "language_info": {
   "codemirror_mode": {
    "name": "ipython",
    "version": 3
   },
   "file_extension": ".py",
   "mimetype": "text/x-python",
   "name": "python",
   "nbconvert_exporter": "python",
   "pygments_lexer": "ipython3",
   "version": "3.11.7"
  }
 },
 "nbformat": 4,
 "nbformat_minor": 5
}
