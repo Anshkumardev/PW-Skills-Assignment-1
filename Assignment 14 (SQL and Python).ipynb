{
 "cells": [
  {
   "cell_type": "markdown",
   "id": "dde1eed8-2e95-4d7d-b7d2-351e6a11ed14",
   "metadata": {},
   "source": [
    "Q1. What is a database? Differentiate between SQL and NoSQL databases."
   ]
  },
  {
   "cell_type": "markdown",
   "id": "c87f2503-0cbb-4bc4-ba05-1d21eabcd226",
   "metadata": {},
   "source": [
    "Database is a place or memmory where we can store our data for various purposes. Here data can be manipulated according to the needs. All full fledge applications take advantages of different types of databases to store and retrieve their data."
   ]
  },
  {
   "cell_type": "markdown",
   "id": "0f4691d5-f90a-4f11-9b25-9ff08dd406be",
   "metadata": {},
   "source": [
    "SQL: SQL stands for Structured querry language. This is used to communicate with structured databases or files. It usually have rows and columns format where data is stored in an organised manner and different operations can be performed on that."
   ]
  },
  {
   "cell_type": "markdown",
   "id": "65e7c9c9-f9f6-4a1d-9c09-87906bd78ef2",
   "metadata": {},
   "source": [
    "NoSQL: This stands for Not only SQL. This does not have have a structured architecture instead, they use various data models, such as key-value pairs, document-oriented, columnar, or graph-based models, to store and organize data."
   ]
  },
  {
   "cell_type": "markdown",
   "id": "f9e6e6ea-13c8-4456-ac54-d20fdda3e5db",
   "metadata": {},
   "source": [
    "Q2. What is DDL? Explain why CREATE, DROP, ALTER, and TRUNCATE are used with an example."
   ]
  },
  {
   "cell_type": "markdown",
   "id": "32dc14d8-edb3-47c6-9b68-98c7d42cae28",
   "metadata": {},
   "source": [
    "DDL (Data Definition Language) is a subset of SQL used to define and manage the structure of a database."
   ]
  },
  {
   "cell_type": "markdown",
   "id": "299b007a-2323-460b-988e-303c0d4f5edd",
   "metadata": {},
   "source": [
    "CREATE: Used to create a new database object. For example, CREATE TABLE is used to create a new table.\n",
    "\n",
    "DROP: Used to delete a database object. For example, DROP TABLE is used to delete a table.\n",
    "\n",
    "ALTER: Used to modify the structure of an existing database object. For example, ALTER TABLE is used to add or remove columns from a table.\n",
    "\n",
    "TRUNCATE: Used to remove all the data from a table, while keeping its structure intact. For example, TRUNCATE TABLE removes all rows from a table."
   ]
  },
  {
   "cell_type": "markdown",
   "id": "d7ad460b-7261-4a0e-8ea7-c94b16fbbea2",
   "metadata": {},
   "source": [
    "Q3. What is DML? Explain INSERT, UPDATE, and DELETE with an example."
   ]
  },
  {
   "cell_type": "markdown",
   "id": "22769420-388d-4a70-9c01-61841af4c0da",
   "metadata": {},
   "source": [
    "DML (Data Manipulation Language) is a subset of SQL used to manipulate data within database objects."
   ]
  },
  {
   "cell_type": "markdown",
   "id": "bb7f49ac-8411-431f-8aa8-17f1f907b122",
   "metadata": {},
   "source": [
    "INSERT: Used to insert new records into a table. For example, \n",
    "        \n",
    "        INSERT INTO Employees (ID, Name, Age) VALUES (1, 'John', 25); \n",
    "        \n",
    "        inserts a new row into the \"Employees\" table."
   ]
  },
  {
   "cell_type": "markdown",
   "id": "2aee8e1e-b0c5-4086-a1a8-02f7d406d205",
   "metadata": {},
   "source": [
    "UPDATE: Used to modify existing records in a table. For example, \n",
    "\n",
    "        UPDATE Employees SET Age = 26 WHERE ID = 1; \n",
    "        \n",
    "        updates the age of the employee with ID 1 to 26."
   ]
  },
  {
   "cell_type": "markdown",
   "id": "5fb7dd8b-7256-47c6-bb94-c690fd2560c5",
   "metadata": {},
   "source": [
    "DELETE: Used to delete records from a table. \n",
    "        \n",
    "        For example, DELETE FROM Employees WHERE ID = 1; \n",
    "        \n",
    "        deletes the row from the \"Employees\" table where the ID is 1."
   ]
  },
  {
   "cell_type": "markdown",
   "id": "5701b064-fe7b-40c0-957a-fd275f63cdb2",
   "metadata": {},
   "source": [
    "Q4. What is DQL? Explain SELECT with an example."
   ]
  },
  {
   "cell_type": "markdown",
   "id": "b10d17dc-deb5-4bce-820a-fe3f51e2790d",
   "metadata": {},
   "source": [
    "DQL (Data Query Language) is a subset of SQL used to retrieve data from a database.\n",
    "\n",
    "SELECT: Used to retrieve data from one or more tables. For example, \n",
    "\n",
    "        SELECT * FROM Employees; \n",
    "        \n",
    "        retrieves all rows and columns from the \"Employees\" table."
   ]
  },
  {
   "cell_type": "markdown",
   "id": "54d01540-35c6-4233-9ad6-b6ff78d5e344",
   "metadata": {},
   "source": [
    "Q5. Explain Primary Key and Foreign Key."
   ]
  },
  {
   "cell_type": "markdown",
   "id": "d6111657-2861-437b-92d9-1c9c32ff41b1",
   "metadata": {},
   "source": [
    "Primary Key: A primary key is a column or a set of columns that uniquely identifies each record in a table. It ensures the uniqueness and integrity of the data. Only one primary key can exist in a table. For example, in an \"Employees\" table, the \"ID\" column can be designated as the primary key.\n",
    "\n",
    "Foreign Key: A foreign key is a column or a set of columns in a table that refers to the primary key of another table. It establishes a relationship between two tables. It enforces referential integrity and maintains data consistency. For example, in a \"Orders\" table, the \"EmployeeID\" column can be a foreign key that refers to the \"ID\" column in the \"Employees\" table.\n"
   ]
  },
  {
   "cell_type": "markdown",
   "id": "61121891-fed0-402e-85aa-84d5b0cce71d",
   "metadata": {},
   "source": [
    "Q6. Write a Python code to connect MySQL to Python. Explain the cursor() and execute()"
   ]
  },
  {
   "cell_type": "code",
   "execution_count": null,
   "id": "251e281f-c4a0-4402-a1c1-b0e8a2e62dd7",
   "metadata": {},
   "outputs": [],
   "source": [
    "import mysql.connector\n",
    "\n",
    "mydb = mysql.connector.connect(\n",
    "  host=\"localhost\",\n",
    "  user=\"your_username\",\n",
    "  password=\"your_password\"\n",
    ")\n",
    "\n",
    "cursor = mydb.cursor()\n",
    "\n",
    "cursor.execute(\"SELECT * FROM employees\")\n",
    "\n",
    "result = cursor.fetchall()\n",
    "\n",
    "for row in result:\n",
    "  print(row)\n",
    "\n",
    "cursor.close()\n",
    "mydb.close()"
   ]
  },
  {
   "cell_type": "markdown",
   "id": "82a0fb72-ef20-4283-9bf2-179ba8249aa2",
   "metadata": {},
   "source": [
    "The cursor() method creates a cursor object that allows us to execute SQL queries and fetch the results.\n",
    "\n",
    "Using the execute() method, we execute an SQL query. In this example, we retrieve all the rows from the \"employees\" table."
   ]
  },
  {
   "cell_type": "code",
   "execution_count": null,
   "id": "10bfdbe3-e175-4ae5-94d1-ccb5cfbc222a",
   "metadata": {},
   "outputs": [],
   "source": []
  }
 ],
 "metadata": {
  "kernelspec": {
   "display_name": "Python 3 (ipykernel)",
   "language": "python",
   "name": "python3"
  },
  "language_info": {
   "codemirror_mode": {
    "name": "ipython",
    "version": 3
   },
   "file_extension": ".py",
   "mimetype": "text/x-python",
   "name": "python",
   "nbconvert_exporter": "python",
   "pygments_lexer": "ipython3",
   "version": "3.10.8"
  }
 },
 "nbformat": 4,
 "nbformat_minor": 5
}
