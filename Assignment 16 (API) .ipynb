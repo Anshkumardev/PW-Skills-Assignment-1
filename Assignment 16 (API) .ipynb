{
 "cells": [
  {
   "cell_type": "markdown",
   "id": "58ae88d8-2daa-4dd1-a3be-debc44b56ad8",
   "metadata": {},
   "source": [
    "Q1. What is an API? Give an example, where an API is used in real life."
   ]
  },
  {
   "cell_type": "markdown",
   "id": "5ce872c4-b4a8-446f-b52a-2cdb1632ca21",
   "metadata": {},
   "source": [
    "API stands for Application Programming Interface. It allows two or more systems or components to connect or communicate with each other irrespective of the programming languages they are build upon. It allows different softwares and applications to communicate with other fuctional units like databases, servers etc online. "
   ]
  },
  {
   "cell_type": "markdown",
   "id": "4d307064-0412-468c-a554-2e9c7fe08a3a",
   "metadata": {},
   "source": [
    "In real life every single mobile application and computer softwares use api to communicate with their databases and servers. All the present websites also take advantages of thes APIs."
   ]
  },
  {
   "cell_type": "markdown",
   "id": "ac8d99f1-26a9-4530-8380-7e5f059f65d8",
   "metadata": {},
   "source": [
    "Q2. Give advantages and disadvantages of using API."
   ]
  },
  {
   "cell_type": "markdown",
   "id": "0041d2b6-205f-410b-834c-519eea2d432e",
   "metadata": {},
   "source": [
    "Advantages:\n",
    "\n",
    "- Easy integration: APIs make it easier for different software systems to work together and share information, saving time and effort in development.\n",
    "\n",
    "- Access to additional functionality: APIs allow developers to use existing services or features provided by other systems, expanding the capabilities of their own applications without having to build everything from scratch.\n",
    "\n",
    "- Reusability: APIs can be reused in multiple applications, enabling developers to save time and effort by leveraging pre-built components.\n",
    "\n",
    "Disadvantages:\n",
    "\n",
    "- Dependency: When relying on external APIs, any changes or disruptions to those APIs can affect the functioning of the application, requiring modifications or alternative solutions.\n",
    "\n",
    "- Security risks: Poorly implemented APIs can introduce security vulnerabilities, potentially leading to unauthorized access or data breaches.\n",
    "\n",
    "- Performance concerns: Integrating APIs may introduce additional latency or performance issues due to network communication, impacting the overall speed and responsiveness of the application."
   ]
  },
  {
   "cell_type": "markdown",
   "id": "27f7c8a1-240f-401e-98a4-974865005d0b",
   "metadata": {},
   "source": [
    "Q3. What is a Web API? Differentiate between API and Web API."
   ]
  },
  {
   "cell_type": "markdown",
   "id": "a7ad6dfb-dcbe-4ece-bbde-5cff6bc1efe6",
   "metadata": {},
   "source": [
    "Any API that transfers their data or communicates over web using HTTP protocol is usually known to be a web API."
   ]
  },
  {
   "cell_type": "markdown",
   "id": "4c9e2957-f46a-4de8-9ada-c27d32331614",
   "metadata": {},
   "source": [
    "API:\n",
    "\n",
    "- API (Application Programming Interface) is a general term that encompasses various types of interfaces or methods that allow different software components to communicate and interact with each other.\n",
    "- APIs can be used for communication within a single application, between different applications, or even between different systems or services.\n",
    "- APIs can use different protocols, such as HTTP, REST, SOAP, or GraphQL, depending on the requirements and design choices.\n",
    "\n",
    "Web API:\n",
    "\n",
    "- Web API is a specific type of API that is designed to be used over the internet using the protocols of the World Wide Web.\n",
    "- Web APIs are typically accessed through URLs (Uniform Resource Locators) and utilize HTTP (Hypertext Transfer Protocol) for communication.\n",
    "- Web APIs often follow the principles of REST (Representational State Transfer) architecture, which is a set of guidelines for creating scalable, stateless, and interoperable web services."
   ]
  },
  {
   "cell_type": "markdown",
   "id": "fd77712e-7046-4961-be44-a072accaa6c1",
   "metadata": {},
   "source": [
    "Q4. Explain REST and SOAP Architecture. Mention shortcomings of SOAP."
   ]
  },
  {
   "cell_type": "markdown",
   "id": "5b3fee40-f74d-4fad-a05d-99a4fbd758a6",
   "metadata": {},
   "source": [
    "REST Architecture:\n",
    "\n",
    "- REST (Representational State Transfer) is an architectural style for designing web services.\n",
    "- It focuses on simplicity, scalability, and statelessness.\n",
    "- REST APIs use standard HTTP methods (GET, POST, PUT, DELETE) to interact with resources identified by URLs.\n",
    "- They typically respond with data formats like JSON or XML, making them easy to consume and understand.\n",
    "\n",
    "SOAP Architecture (in short):\n",
    "\n",
    "- SOAP (Simple Object Access Protocol) is an architectural style for web services.\n",
    "- It uses XML-based messaging to exchange structured information between systems.\n",
    "- SOAP APIs define operations and data types using a contract called WSDL (Web Services Description Language).\n",
    "- SOAP provides features like encryption, authentication, and error handling, making it suitable for enterprise-level applications."
   ]
  },
  {
   "cell_type": "markdown",
   "id": "6ef638ab-e893-4b53-9ad4-605ce3825ffa",
   "metadata": {},
   "source": [
    "Shortcomings of SOAP:"
   ]
  },
  {
   "cell_type": "markdown",
   "id": "cd0b6e81-dc5b-4d6b-936a-956936ed2fb7",
   "metadata": {},
   "source": [
    "- Complexity: SOAP can be complex to implement and understand due to its XML-based structure and strict adherence to the WSDL contract.\n",
    "\n",
    "- Overhead: SOAP messages are larger in size compared to other formats, resulting in increased bandwidth usage and slower performance.\n",
    "\n",
    "- Limited compatibility: SOAP may not be supported in lightweight or resource-constrained environments, limiting its compatibility with certain platforms and devices.\n",
    "\n",
    "- Lack of flexibility: SOAP's rigid contract defined by WSDL can make it less flexible for evolving service interfaces, requiring updates on both the server and client sides."
   ]
  },
  {
   "cell_type": "markdown",
   "id": "346ea237-5b8c-4b69-ac0a-4799e1cc6199",
   "metadata": {},
   "source": [
    "Q5. Differentiate between REST and SOAP."
   ]
  },
  {
   "cell_type": "markdown",
   "id": "d078bc01-bcda-4f67-a8f7-ad25483440e5",
   "metadata": {},
   "source": [
    "REST Architecture:\n",
    "\n",
    "- REST is an architectural style that focuses on the principles of simplicity, scalability, and statelessness.\n",
    "- In REST architecture, resources (such as data or services) are identified by URLs, and interactions with these resources are performed using standard HTTP methods like GET, POST, PUT, and DELETE.\n",
    "- REST APIs typically respond with data formats like JSON or XML, making them easier to consume and understand by client applications.\n",
    "- REST allows for easy scalability and wide compatibility with different platforms and devices, making it a popular choice for building web APIs.\n",
    "\n",
    "SOAP Architecture:\n",
    "\n",
    "- SOAP is an architectural style that defines a standardized XML-based messaging protocol for exchanging structured information between web services.\n",
    "- In SOAP architecture, messages are sent in XML format over various protocols, including HTTP, SMTP, or TCP.\n",
    "- SOAP APIs use a predefined contract, known as a Web Services Description Language (WSDL), which describes the operations, data types, and protocols used by the service.\n",
    "- SOAP provides a robust and extensible framework with features like encryption, authentication, and error handling, making it suitable for enterprise-level applications."
   ]
  },
  {
   "cell_type": "code",
   "execution_count": null,
   "id": "8da06aae-8c2b-4692-a69b-d24902a580b6",
   "metadata": {},
   "outputs": [],
   "source": []
  }
 ],
 "metadata": {
  "kernelspec": {
   "display_name": "Python 3 (ipykernel)",
   "language": "python",
   "name": "python3"
  },
  "language_info": {
   "codemirror_mode": {
    "name": "ipython",
    "version": 3
   },
   "file_extension": ".py",
   "mimetype": "text/x-python",
   "name": "python",
   "nbconvert_exporter": "python",
   "pygments_lexer": "ipython3",
   "version": "3.10.8"
  }
 },
 "nbformat": 4,
 "nbformat_minor": 5
}
