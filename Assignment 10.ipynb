{
 "cells": [
  {
   "cell_type": "markdown",
   "id": "e502b07c-323d-4533-8711-56a5d70b3587",
   "metadata": {},
   "source": [
    "Q1, Create a vehicle class with an init method having instance variables as name_of_vehicle, max_speed\n",
    "and average_of_vehicle."
   ]
  },
  {
   "cell_type": "code",
   "execution_count": 44,
   "id": "6ccf3df6-addf-4775-a725-960c9dda0d08",
   "metadata": {},
   "outputs": [],
   "source": [
    "class vehicle():\n",
    "    \n",
    "    def __init__(self, name_of_vehicle,max_speed, average_of_vehicle):\n",
    "        \n",
    "        self.name_of_vehicle = name_of_vehicle\n",
    "        self.max_speed = max_speed\n",
    "        self.average_of_vehicle = average_of_vehicle"
   ]
  },
  {
   "cell_type": "code",
   "execution_count": 38,
   "id": "a1b7af44-3cb7-413e-8f1b-ce7859c22e2c",
   "metadata": {},
   "outputs": [],
   "source": [
    "class car(vehicle):\n",
    "    \n",
    "    def __init__(self,name_of_vehicle,max_speed, average_of_vehicle):\n",
    "        super().__init__(name_of_vehicle,max_speed, average_of_vehicle)\n",
    "        \n",
    "    def seating_capacity(self,capacity):\n",
    "        self.capacity = capacity\n",
    "        \n",
    "        print(self.name_of_vehicle, self.capacity)\n",
    "        "
   ]
  },
  {
   "cell_type": "code",
   "execution_count": 39,
   "id": "60f1dbd2-3841-40ad-81ac-a5fb109d584d",
   "metadata": {},
   "outputs": [],
   "source": [
    "car1 = car('i10',150,15)"
   ]
  },
  {
   "cell_type": "code",
   "execution_count": 40,
   "id": "0ffc3a1b-ad22-4e35-ae1b-c0ce11460abe",
   "metadata": {},
   "outputs": [
    {
     "name": "stdout",
     "output_type": "stream",
     "text": [
      "i10 5\n"
     ]
    }
   ],
   "source": [
    "car1.seating_capacity(5)"
   ]
  },
  {
   "cell_type": "markdown",
   "id": "4d8eadfa-c27e-4b88-aa6f-fad32dce36cd",
   "metadata": {},
   "source": [
    "Q3. What is multiple inheritance? Write a python code to demonstrate multiple inheritance.\n"
   ]
  },
  {
   "cell_type": "markdown",
   "id": "5e501181-032d-4995-929f-552b265668da",
   "metadata": {},
   "source": [
    "Multiple inheritance is a condition when a child class inherit properties from two or different classes at the same time."
   ]
  },
  {
   "cell_type": "markdown",
   "id": "7a65cca6-e7c7-44d0-9b1d-da59e98102c9",
   "metadata": {},
   "source": [
    "Example:"
   ]
  },
  {
   "cell_type": "code",
   "execution_count": 66,
   "id": "c852ee38-146e-41fe-91b8-807bb6c6121f",
   "metadata": {},
   "outputs": [],
   "source": [
    "class Class1:\n",
    "    def m(self):\n",
    "        print(\"In Class1\") \n",
    "        \n",
    "class Class2(Class1):\n",
    "    def m(self):\n",
    "        print(\"In Class2\")\n",
    "        \n",
    "class Class3(Class2,Class1):\n",
    "    def m(self):\n",
    "        print(\"In Class3\")\n",
    "        Class1.m(self)\n",
    "        Class2.m(self)"
   ]
  },
  {
   "cell_type": "code",
   "execution_count": 67,
   "id": "60e81406-be48-48fa-8ac5-b68eb3a72af9",
   "metadata": {},
   "outputs": [],
   "source": [
    "c = Class3()"
   ]
  },
  {
   "cell_type": "code",
   "execution_count": 68,
   "id": "d556dfb8-dc9a-4cfa-8adf-a6943fc00379",
   "metadata": {},
   "outputs": [
    {
     "name": "stdout",
     "output_type": "stream",
     "text": [
      "In Class3\n",
      "In Class1\n",
      "In Class2\n"
     ]
    }
   ],
   "source": [
    "c.m()"
   ]
  },
  {
   "cell_type": "markdown",
   "id": "aa6ac218-dfad-410e-bd94-f3773687b0de",
   "metadata": {},
   "source": [
    "Q4. What are getter and setter in python? Create a class and create a getter and a setter method in this\n",
    "class."
   ]
  },
  {
   "cell_type": "markdown",
   "id": "ddcc851c-9118-4aa5-89c3-b4aab84d9994",
   "metadata": {},
   "source": [
    "Getter is a method used to get the values of instance variables whereas setter is used to set them."
   ]
  },
  {
   "cell_type": "code",
   "execution_count": 77,
   "id": "9667fac9-7a2d-49b6-925c-db1aa466766c",
   "metadata": {},
   "outputs": [],
   "source": [
    "class speed_limit():\n",
    "    \n",
    "    def __init__(self,limit):\n",
    "        self.limit = limit\n",
    "    \n",
    "    def set_limit(self,limit):\n",
    "        self.limit = limit\n",
    "        \n",
    "    def get_limit(self):\n",
    "        return self.limit"
   ]
  },
  {
   "cell_type": "code",
   "execution_count": 78,
   "id": "9ca00c8b-00ae-4113-adf2-5cbc9eda385a",
   "metadata": {},
   "outputs": [],
   "source": [
    "sl = speed_limit(50)"
   ]
  },
  {
   "cell_type": "code",
   "execution_count": 79,
   "id": "2a77c968-2d69-4783-950e-3c896335f59c",
   "metadata": {},
   "outputs": [
    {
     "data": {
      "text/plain": [
       "50"
      ]
     },
     "execution_count": 79,
     "metadata": {},
     "output_type": "execute_result"
    }
   ],
   "source": [
    "sl.get_limit()"
   ]
  },
  {
   "cell_type": "code",
   "execution_count": 80,
   "id": "ac32cb52-69f7-4917-adde-cf9be4d2a3b6",
   "metadata": {},
   "outputs": [],
   "source": [
    "sl.set_limit(70)"
   ]
  },
  {
   "cell_type": "code",
   "execution_count": 81,
   "id": "600ef84c-8632-4a3a-9076-5d5d4311d671",
   "metadata": {},
   "outputs": [
    {
     "data": {
      "text/plain": [
       "70"
      ]
     },
     "execution_count": 81,
     "metadata": {},
     "output_type": "execute_result"
    }
   ],
   "source": [
    "sl.get_limit()"
   ]
  },
  {
   "cell_type": "markdown",
   "id": "006af947-a866-443a-b471-ad87506c7786",
   "metadata": {},
   "source": [
    "Q5.What is method overriding in python? Write a python code to demonstrate method overriding."
   ]
  },
  {
   "cell_type": "markdown",
   "id": "c6702bd3-5be4-4df6-a464-a7f5cdc27688",
   "metadata": {},
   "source": [
    "Method overriding is an instance where child class modifies the predefined method in parent class according to how it is defined in the child class."
   ]
  },
  {
   "cell_type": "markdown",
   "id": "96c0e7b6-cae5-490d-9a1e-8b9f27745b86",
   "metadata": {},
   "source": [
    "Example:"
   ]
  },
  {
   "cell_type": "code",
   "execution_count": 95,
   "id": "08ad7aa1-06e9-40b6-b676-f0764985f955",
   "metadata": {},
   "outputs": [],
   "source": [
    "class parent():\n",
    "    \n",
    "    def __init__(self):\n",
    "        self.value = \"In parent class\"\n",
    "        \n",
    "    def pnt(self):\n",
    "        print(self.value)\n",
    "        \n",
    "class child(parent):\n",
    "    \n",
    "    def __init__(self):\n",
    "        self.value = \"In child class\"\n",
    "        \n",
    "    def pnt(self):\n",
    "        print(self.value)\n",
    "        "
   ]
  },
  {
   "cell_type": "code",
   "execution_count": 96,
   "id": "83597aad-0337-4bea-8112-0fb0ef1188e3",
   "metadata": {},
   "outputs": [],
   "source": [
    "p = parent()\n",
    "c = child()"
   ]
  },
  {
   "cell_type": "code",
   "execution_count": 97,
   "id": "aa878609-92fa-44cf-a82a-aa7d9c13816e",
   "metadata": {},
   "outputs": [
    {
     "name": "stdout",
     "output_type": "stream",
     "text": [
      "In parent class\n",
      "In child class\n"
     ]
    }
   ],
   "source": [
    "p.pnt()\n",
    "c.pnt()\n",
    "\n"
   ]
  },
  {
   "cell_type": "code",
   "execution_count": null,
   "id": "f520f75a-2f37-4d5d-8f6a-ffa7aa939d7e",
   "metadata": {},
   "outputs": [],
   "source": []
  }
 ],
 "metadata": {
  "kernelspec": {
   "display_name": "Python 3 (ipykernel)",
   "language": "python",
   "name": "python3"
  },
  "language_info": {
   "codemirror_mode": {
    "name": "ipython",
    "version": 3
   },
   "file_extension": ".py",
   "mimetype": "text/x-python",
   "name": "python",
   "nbconvert_exporter": "python",
   "pygments_lexer": "ipython3",
   "version": "3.10.8"
  }
 },
 "nbformat": 4,
 "nbformat_minor": 5
}
