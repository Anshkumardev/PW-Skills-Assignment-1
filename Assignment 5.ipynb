{
 "cells": [
  {
   "cell_type": "markdown",
   "id": "f920d3f1-1e62-4ab0-98ad-785ab547573e",
   "metadata": {},
   "source": [
    "1. Who developed python programming language?"
   ]
  },
  {
   "cell_type": "markdown",
   "id": "2bea7a94-66db-4b13-9a4d-e7116abf1437",
   "metadata": {},
   "source": [
    "Guido van Rossum"
   ]
  },
  {
   "cell_type": "markdown",
   "id": "362f835d-cd7d-4037-9957-f52a5b10b6c5",
   "metadata": {},
   "source": [
    "2. Which type of programming does python support?"
   ]
  },
  {
   "cell_type": "markdown",
   "id": "752402eb-4323-4aad-b092-cf21ab3875bc",
   "metadata": {},
   "source": [
    "object-oriented, structured, and functional programming"
   ]
  },
  {
   "cell_type": "markdown",
   "id": "8fec0dee-6718-4a05-b2af-a2c1e734c7aa",
   "metadata": {},
   "source": [
    "3. Is python case sensitive when dealing with identifiers?"
   ]
  },
  {
   "cell_type": "markdown",
   "id": "c1033686-1683-4373-a421-96b49d3b83b2",
   "metadata": {},
   "source": [
    "Yes"
   ]
  },
  {
   "cell_type": "markdown",
   "id": "ce02cc52-2313-468c-a765-0cc6a4d559da",
   "metadata": {},
   "source": [
    "4. What is the correct extension of python file?"
   ]
  },
  {
   "cell_type": "markdown",
   "id": "4162b4cb-444b-423e-bf5d-235c470cd01c",
   "metadata": {},
   "source": [
    ".py"
   ]
  },
  {
   "cell_type": "markdown",
   "id": "4f36380e-08a9-4b09-8f26-21990c648efc",
   "metadata": {},
   "source": [
    "5. Is python code compiled or interpreted?"
   ]
  },
  {
   "cell_type": "markdown",
   "id": "cef0e7da-7d5b-46ce-a034-6d3bcf8267fd",
   "metadata": {},
   "source": [
    "Interpreted"
   ]
  },
  {
   "cell_type": "markdown",
   "id": "79bec4b9-d955-49f6-a902-e75aebe303b9",
   "metadata": {},
   "source": [
    "6. Name a few blocks of code used to define in python language?"
   ]
  },
  {
   "cell_type": "markdown",
   "id": "575b2526-e06d-4756-932a-ee2be3baadc0",
   "metadata": {},
   "source": [
    "a module, a function body, and a class definition"
   ]
  },
  {
   "cell_type": "markdown",
   "id": "096f4cf9-c4ed-4c1a-99e1-81712ba678ae",
   "metadata": {},
   "source": [
    "7. State a character used to give single-line comments in python?"
   ]
  },
  {
   "cell_type": "markdown",
   "id": "02cb41fa-5b5d-4a70-9d85-5472204737d6",
   "metadata": {},
   "source": [
    "'#' character is used to make single-line comments."
   ]
  },
  {
   "cell_type": "markdown",
   "id": "733779f9-ad35-4b73-865e-7955ea7d1596",
   "metadata": {},
   "source": [
    "8. Mention functions which can help us to find the version of python that we are currently working on?"
   ]
  },
  {
   "cell_type": "code",
   "execution_count": 7,
   "id": "476b9374-2c1a-47f2-830f-00f67712b68e",
   "metadata": {},
   "outputs": [
    {
     "data": {
      "text/plain": [
       "'3.10.8 | packaged by conda-forge | (main, Nov 22 2022, 08:26:04) [GCC 10.4.0]'"
      ]
     },
     "execution_count": 7,
     "metadata": {},
     "output_type": "execute_result"
    }
   ],
   "source": [
    "import sys\n",
    "sys.version"
   ]
  },
  {
   "cell_type": "markdown",
   "id": "ccd8ca27-b67e-407a-8ac4-886b66071630",
   "metadata": {},
   "source": [
    "9. Python supports the creation of anonymous functions at runtime, using a construct called"
   ]
  },
  {
   "cell_type": "markdown",
   "id": "02f8008d-93b8-4038-aad6-bcde92e4b4f8",
   "metadata": {},
   "source": [
    "lambda"
   ]
  },
  {
   "cell_type": "markdown",
   "id": "a7f8f255-639c-458e-a22d-d1e0b2d69dbd",
   "metadata": {},
   "source": [
    "10. What does pip stands for in python?"
   ]
  },
  {
   "cell_type": "markdown",
   "id": "ee19c468-5716-4945-b510-1836e385b4b2",
   "metadata": {},
   "source": [
    "PIP stands for \"Pip Installs Packages\""
   ]
  },
  {
   "cell_type": "markdown",
   "id": "752b544b-85ce-46a7-a24f-bdea3eed5762",
   "metadata": {},
   "source": [
    "11. Mention a few built-in functions in python."
   ]
  },
  {
   "cell_type": "markdown",
   "id": "8a362509-6757-4839-a298-3625d06060a6",
   "metadata": {},
   "source": [
    "Type(), sum(), append(), extend(), len(), upper(), isnum(), isint()"
   ]
  },
  {
   "cell_type": "markdown",
   "id": "7711c125-eb27-4ff0-bf4b-4136bf900080",
   "metadata": {},
   "source": [
    "12. What is the maximum possible lenght of an identifier in python?"
   ]
  },
  {
   "cell_type": "markdown",
   "id": "5d4792a7-dc75-4ae6-ab78-12c47a50fedc",
   "metadata": {},
   "source": [
    "79 characters.\n"
   ]
  },
  {
   "cell_type": "markdown",
   "id": "58e7d101-c540-414a-8d7c-67ce05479d8f",
   "metadata": {},
   "source": [
    "13. What are the benefits of using python?"
   ]
  },
  {
   "cell_type": "markdown",
   "id": "2c16240c-3592-4916-be60-4919095741f8",
   "metadata": {},
   "source": [
    "- Easy to use\n",
    "- Large libraries available\n",
    "- open-source and free\n",
    "- great for data visualization and analysis\n",
    "- Fast prototyping and development"
   ]
  },
  {
   "cell_type": "markdown",
   "id": "074a4f67-efc1-4ccb-a32b-fe820394baa3",
   "metadata": {},
   "source": [
    "14. How is memory managed in python?"
   ]
  },
  {
   "cell_type": "markdown",
   "id": "2ce60e3d-d90b-4962-ad8e-6403d23b8506",
   "metadata": {},
   "source": [
    "Python memory manager is used to automatically manage the memory. Python uses a garbage collector that periodically frees up memory that is no longer being used by objects in the heap space. Python also uses a reference counting mechanism to keep track of object references. "
   ]
  },
  {
   "cell_type": "markdown",
   "id": "e7e6ec82-f09a-4f68-9de5-cb81758f6385",
   "metadata": {},
   "source": [
    "15. How to install python on Windows and set path variables."
   ]
  },
  {
   "cell_type": "markdown",
   "id": "933f408c-5c11-45a8-8775-352987c2aa6e",
   "metadata": {},
   "source": [
    "Download Python: Go to the official Python website (https://www.python.org/downloads/) and download the latest version of Python for Windows.\n",
    "\n",
    "Install Python: Once the download is complete, run the installer and follow the on-screen instructions to install Python on your Windows machine.\n",
    "\n",
    "Add Python to the PATH variable: During the installation process, you will be asked if you want to add Python to the PATH variable. Check the box to add Python to the PATH variable so that you can run Python from any directory in the command prompt.\n",
    "\n",
    "If you did not select the option during installation, you can add Python to the PATH variable manually:\n",
    "\n",
    "Right-click on the \"My Computer\" icon and select \"Properties\".\n",
    "Click on \"Advanced system settings\".\n",
    "Click on the \"Environment Variables\" button.\n",
    "Under \"System Variables\", scroll down and find the \"Path\" variable, then click \"Edit\".\n",
    "Add the path to the Python installation directory to the \"Path\" variable. For example, if Python is installed in the default directory, the path should be: C:\\PythonXX;C:\\PythonXX\\Scripts\\ (where XX is the version number).\n",
    "Click \"OK\" to save the changes.\n",
    "Verify the installation: Open a command prompt and type \"python\" to verify that Python is installed correctly and that the PATH variable is set up correctly. The Python prompt should appear, indicating that Python is installed and ready to use.\n",
    "That's it! Python is now installed on your Windows machine and you can start using it for your projects.\n",
    "\n",
    "\n",
    "\n",
    "\n"
   ]
  },
  {
   "cell_type": "markdown",
   "id": "9e57ae20-3c17-4f7c-9ff1-44d58da4c0f6",
   "metadata": {},
   "source": [
    "16. Is indentation required in python?"
   ]
  },
  {
   "cell_type": "markdown",
   "id": "6e5c775e-0869-469e-ab8e-ff7e5bfa7375",
   "metadata": {},
   "source": [
    "Yes, It is very important while creating loops defining classes, methods and at many more places."
   ]
  },
  {
   "cell_type": "code",
   "execution_count": null,
   "id": "fa802f60-ec81-4aa3-aacf-669546794952",
   "metadata": {},
   "outputs": [],
   "source": []
  }
 ],
 "metadata": {
  "kernelspec": {
   "display_name": "Python 3 (ipykernel)",
   "language": "python",
   "name": "python3"
  },
  "language_info": {
   "codemirror_mode": {
    "name": "ipython",
    "version": 3
   },
   "file_extension": ".py",
   "mimetype": "text/x-python",
   "name": "python",
   "nbconvert_exporter": "python",
   "pygments_lexer": "ipython3",
   "version": "3.10.8"
  }
 },
 "nbformat": 4,
 "nbformat_minor": 5
}
