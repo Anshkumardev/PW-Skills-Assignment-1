{
 "cells": [
  {
   "cell_type": "markdown",
   "id": "15d61040-8567-4fad-bd24-d6c5f0b5390c",
   "metadata": {},
   "source": [
    "1. Write a program to accept percentage from the user and display the grade."
   ]
  },
  {
   "cell_type": "code",
   "execution_count": 5,
   "id": "a0bc0e69-6795-45ee-b7e9-72bd8513239d",
   "metadata": {},
   "outputs": [
    {
     "name": "stdin",
     "output_type": "stream",
     "text": [
      "Enter percentage:  75\n"
     ]
    },
    {
     "name": "stdout",
     "output_type": "stream",
     "text": [
      "Your grade is: c\n"
     ]
    }
   ],
   "source": [
    "a = int(input(\"Enter percentage: \"))\n",
    "\n",
    "if a>90:\n",
    "    grade = \"A\"\n",
    "elif a>80 and a<=90:\n",
    "    grade = \"B\"\n",
    "elif a>=60 and a<=80:\n",
    "    grade = \"c\"\n",
    "else:\n",
    "    grade = \"D\"\n",
    "\n",
    "print(\"Your grade is: \"+grade)"
   ]
  },
  {
   "cell_type": "markdown",
   "id": "c3770eb8-5289-484a-b181-b2307f013294",
   "metadata": {},
   "source": [
    "2. Write a program to accept the cost price of a bike and display the road tax to be paid according to the criteria."
   ]
  },
  {
   "cell_type": "code",
   "execution_count": 9,
   "id": "12fd3bcf-4890-4f07-94ef-8190b89c92e1",
   "metadata": {},
   "outputs": [
    {
     "name": "stdin",
     "output_type": "stream",
     "text": [
      "Enter the cost price:  80000\n"
     ]
    },
    {
     "name": "stdout",
     "output_type": "stream",
     "text": [
      "Tax to be paid: 10%\n"
     ]
    }
   ],
   "source": [
    "b = int(input(\"Enter the cost price: \"))\n",
    "\n",
    "if b>100000:\n",
    "    tax = 15\n",
    "elif b>50000 and b<=100000:\n",
    "    tax = 10\n",
    "else:\n",
    "    tax = 5\n",
    "    \n",
    "print(\"Tax to be paid: \"+str(tax)+\"%\")"
   ]
  },
  {
   "cell_type": "markdown",
   "id": "08d7b4b5-7951-4929-9425-0cdf8c7cfb3a",
   "metadata": {},
   "source": [
    "3. Accept any city from the user and display monuments of that city."
   ]
  },
  {
   "cell_type": "code",
   "execution_count": 10,
   "id": "ec5b0318-e24a-46aa-840f-a7cf68568146",
   "metadata": {},
   "outputs": [
    {
     "name": "stdin",
     "output_type": "stream",
     "text": [
      "Enter a city form Delhi, Agra or Jaipur:  delhi\n"
     ]
    },
    {
     "name": "stdout",
     "output_type": "stream",
     "text": [
      "Red Fort\n"
     ]
    }
   ],
   "source": [
    "c = input(\"Enter a city form Delhi, Agra or Jaipur: \")\n",
    "\n",
    "c = c.title()\n",
    "\n",
    "if c == \"Delhi\":\n",
    "    print(\"Red Fort\")\n",
    "elif c == \"Agra\":\n",
    "    print(\"Taj Mahal\")\n",
    "else:\n",
    "    print(\"Jaipur\")"
   ]
  },
  {
   "cell_type": "code",
   "execution_count": 16,
   "id": "cf67321c-6d56-47ef-a190-c93f81d51e94",
   "metadata": {},
   "outputs": [
    {
     "name": "stdin",
     "output_type": "stream",
     "text": [
      "Enter a number:  90\n"
     ]
    },
    {
     "name": "stdout",
     "output_type": "stream",
     "text": [
      "1\n"
     ]
    }
   ],
   "source": [
    "d = int(input(\"Enter a number: \"))\n",
    "count = 0\n",
    "\n",
    "while d/3>10:\n",
    "    \n",
    "    d = d/3\n",
    "    count += 1\n",
    "    \n",
    "print(count)"
   ]
  },
  {
   "cell_type": "markdown",
   "id": "11a89185-b693-4ce0-928d-bb28698f970e",
   "metadata": {},
   "source": [
    "5. Why and when to use while loop in python give a detailed description with example."
   ]
  },
  {
   "cell_type": "markdown",
   "id": "5ecce2f2-45ab-48cb-a112-b392863942ac",
   "metadata": {},
   "source": [
    "while loops are used when we have to perform something untill a particular condition remains true. For example we need a code which can print sum of input numbers until user enters a 0.\n",
    "\n",
    "Example for while loop:"
   ]
  },
  {
   "cell_type": "code",
   "execution_count": 17,
   "id": "7b7079b7-76ea-49b8-8bc6-cc761bc3b594",
   "metadata": {},
   "outputs": [
    {
     "name": "stdin",
     "output_type": "stream",
     "text": [
      "Enter a number: 5\n",
      "Enter a number: 1\n",
      "Enter a number: 0\n"
     ]
    },
    {
     "name": "stdout",
     "output_type": "stream",
     "text": [
      "6\n"
     ]
    }
   ],
   "source": [
    "s = 0\n",
    "\n",
    "a = int(input(\"Enter a number:\"))\n",
    "\n",
    "while a != 0:\n",
    "    s = s+a\n",
    "    a = int(input(\"Enter a number:\"))\n",
    "    \n",
    "print(s)"
   ]
  },
  {
   "cell_type": "markdown",
   "id": "9080a331-1c89-4022-afe9-651f3036cc62",
   "metadata": {},
   "source": [
    "6. Use nested while loops to print 3 different patterns."
   ]
  },
  {
   "cell_type": "code",
   "execution_count": 4,
   "id": "f58649b9-d7c2-4e76-9cba-3a8d3e6db57b",
   "metadata": {},
   "outputs": [
    {
     "name": "stdout",
     "output_type": "stream",
     "text": [
      "* \n",
      "\n",
      "* * \n",
      "\n",
      "* * * \n",
      "\n",
      "* * * * \n",
      "\n",
      "* * * * * \n",
      "\n"
     ]
    }
   ],
   "source": [
    "a = 1\n",
    "\n",
    "\n",
    "while a<=5:\n",
    "    b = 1\n",
    "    while b<=a:\n",
    "        print('*',end = ' ')\n",
    "        b += 1\n",
    "    print('\\n')\n",
    "    a += 1\n",
    "    \n"
   ]
  },
  {
   "cell_type": "code",
   "execution_count": 2,
   "id": "b79bc6a6-c1cd-43cb-be85-76ad1e50017a",
   "metadata": {},
   "outputs": [
    {
     "name": "stdout",
     "output_type": "stream",
     "text": [
      "* * * * * \n",
      "\n",
      "* * * * \n",
      "\n",
      "* * * \n",
      "\n",
      "* * \n",
      "\n",
      "* \n",
      "\n"
     ]
    }
   ],
   "source": [
    "a = 1\n",
    "\n",
    "while a<=5:\n",
    "    b = 5\n",
    "    while b>=a:\n",
    "        print('*',end = ' ')\n",
    "        b -= 1\n",
    "    print('\\n')\n",
    "    a += 1"
   ]
  },
  {
   "cell_type": "code",
   "execution_count": 5,
   "id": "2b03d95c-4030-4f34-917b-7584224122ea",
   "metadata": {},
   "outputs": [
    {
     "name": "stdout",
     "output_type": "stream",
     "text": [
      "1 \n",
      "\n",
      "2 2 \n",
      "\n",
      "3 3 3 \n",
      "\n",
      "4 4 4 4 \n",
      "\n",
      "5 5 5 5 5 \n",
      "\n"
     ]
    }
   ],
   "source": [
    "a = 1\n",
    "\n",
    "\n",
    "while a<=5:\n",
    "    b = 1\n",
    "    while b<=a:\n",
    "        print(a,end = ' ')\n",
    "        b += 1\n",
    "    print('\\n')\n",
    "    a += 1"
   ]
  },
  {
   "cell_type": "markdown",
   "id": "632dac63-ce17-4ec5-b198-ab4ffe706a7e",
   "metadata": {},
   "source": [
    "7. Reverse a while loop to display numbers from 10 to 1."
   ]
  },
  {
   "cell_type": "code",
   "execution_count": 6,
   "id": "0a90b96a-03af-43fe-969e-22bb570af1b3",
   "metadata": {},
   "outputs": [
    {
     "name": "stdout",
     "output_type": "stream",
     "text": [
      "10 9 8 7 6 5 4 3 2 1 "
     ]
    }
   ],
   "source": [
    "a = 10\n",
    "while a>=1:\n",
    "    print(a,end = ' ')\n",
    "    a -=1"
   ]
  },
  {
   "cell_type": "code",
   "execution_count": null,
   "id": "4ef36427-676c-4494-96ff-6f3d895a4d0d",
   "metadata": {},
   "outputs": [],
   "source": []
  }
 ],
 "metadata": {
  "kernelspec": {
   "display_name": "Python 3 (ipykernel)",
   "language": "python",
   "name": "python3"
  },
  "language_info": {
   "codemirror_mode": {
    "name": "ipython",
    "version": 3
   },
   "file_extension": ".py",
   "mimetype": "text/x-python",
   "name": "python",
   "nbconvert_exporter": "python",
   "pygments_lexer": "ipython3",
   "version": "3.10.8"
  }
 },
 "nbformat": 4,
 "nbformat_minor": 5
}
