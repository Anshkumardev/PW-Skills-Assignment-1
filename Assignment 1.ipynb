{
 "cells": [
  {
   "cell_type": "markdown",
   "id": "d5889762-9812-4eca-b3f7-04179ca7c989",
   "metadata": {},
   "source": [
    "Q1. Explain with an example each when to use a for loop and a while loop."
   ]
  },
  {
   "cell_type": "markdown",
   "id": "b0f8bd51-8bd1-4ec1-8906-fe666a1cc579",
   "metadata": {},
   "source": [
    "A1. For Loop: For loops are usually used when we have a particular range or an object to be iterated over. For Example if we have a list whose elements are need to be multiplied by some integer then we will use a for loop although it can also be performed via while loop. But it woult be more easily done using for loop as their we don't need any seperate variable to maintain the count."
   ]
  },
  {
   "cell_type": "markdown",
   "id": "d39420f9-fe12-4028-9b84-8934265bca37",
   "metadata": {},
   "source": [
    "Example for for loop:\n"
   ]
  },
  {
   "cell_type": "code",
   "execution_count": 29,
   "id": "835985c8-e14f-479f-a3bb-f80c2bb801d9",
   "metadata": {},
   "outputs": [],
   "source": [
    "l = [1,2,3,4]\n",
    "f = []\n",
    "for i in l:\n",
    "    f.append(i*2)"
   ]
  },
  {
   "cell_type": "code",
   "execution_count": 30,
   "id": "cb039047-f08d-4869-be46-a9c9bba7b587",
   "metadata": {},
   "outputs": [
    {
     "data": {
      "text/plain": [
       "[2, 4, 6, 8]"
      ]
     },
     "execution_count": 30,
     "metadata": {},
     "output_type": "execute_result"
    }
   ],
   "source": [
    "f"
   ]
  },
  {
   "cell_type": "markdown",
   "id": "6761112b-1128-4a1a-9fe4-3a2f257d568a",
   "metadata": {},
   "source": [
    "Whereas while loops are used when we have to perform something untill a particular condition remains true. For example we need a code which can print sum of input numbers until user enters a 0."
   ]
  },
  {
   "cell_type": "markdown",
   "id": "93763ea9-61ba-4984-b001-95c9d8f5cca3",
   "metadata": {},
   "source": [
    "Example for while loop:"
   ]
  },
  {
   "cell_type": "code",
   "execution_count": 32,
   "id": "b2ede067-d9b4-4078-bd14-6c3621765343",
   "metadata": {},
   "outputs": [
    {
     "name": "stdin",
     "output_type": "stream",
     "text": [
      "Enter a number: 5\n",
      "Enter a number: 4\n",
      "Enter a number: 1\n",
      "Enter a number: 0\n"
     ]
    },
    {
     "name": "stdout",
     "output_type": "stream",
     "text": [
      "10\n"
     ]
    }
   ],
   "source": [
    "s = 0\n",
    "\n",
    "a = int(input(\"Enter a number:\"))\n",
    "\n",
    "while a != 0:\n",
    "    s = s+a\n",
    "    a = int(input(\"Enter a number:\"))\n",
    "    \n",
    "print(s)\n",
    "\n",
    "\n",
    "    "
   ]
  },
  {
   "cell_type": "markdown",
   "id": "3584ea09-7e77-416c-a791-0868462d5d67",
   "metadata": {},
   "source": [
    "Q2. Write a python program to print the sum and product of the first 10 natural numbers using for\n",
    "and while loop."
   ]
  },
  {
   "cell_type": "markdown",
   "id": "bc5b20aa-cc8e-4d3f-996a-845a9f944e39",
   "metadata": {},
   "source": [
    "Finding sum of first 10 natural numbers using for loop:"
   ]
  },
  {
   "cell_type": "code",
   "execution_count": 33,
   "id": "394fedcb-965f-4c70-af22-08f06d064cdb",
   "metadata": {},
   "outputs": [
    {
     "name": "stdout",
     "output_type": "stream",
     "text": [
      "sum: 45\n"
     ]
    }
   ],
   "source": [
    "s = 0\n",
    "\n",
    "for i in range(1,10):\n",
    "    s = s+i\n",
    "\n",
    "print(\"sum: \"+str(s))"
   ]
  },
  {
   "cell_type": "markdown",
   "id": "6c26a7e0-8e0b-489b-a275-0af75619dd53",
   "metadata": {},
   "source": [
    "Finding product of first 10 natural numbers using while loop:"
   ]
  },
  {
   "cell_type": "code",
   "execution_count": 34,
   "id": "0999230d-933f-4278-865d-8154fdd29797",
   "metadata": {},
   "outputs": [
    {
     "name": "stdout",
     "output_type": "stream",
     "text": [
      "product: 3628800\n"
     ]
    }
   ],
   "source": [
    "p = 1\n",
    "c = 1\n",
    "\n",
    "while c<11:\n",
    "    p = p*c\n",
    "    c = c+1\n",
    "print(\"product: \"+str(p))"
   ]
  },
  {
   "cell_type": "markdown",
   "id": "804f3f19-a432-4bf2-876a-2e13a1ff7c6e",
   "metadata": {},
   "source": [
    "Q3. Create a python program to compute the electricity bill for a household.\n",
    "\n",
    "The per-unit charges in rupees are as follows: \n",
    "\n",
    "For the first 100 units, the user will be charged Rs. 4.5 per\n",
    "unit, for the next 100 units, the user will be charged Rs. 6 per unit, and for the next 100 units, the user will\n",
    "be charged Rs. 10 per unit, After 300 units and above the user will be charged Rs. 20 per unit.\n",
    "\n",
    "You are required to take the units of electricity consumed in a month from the user as input.\n",
    "Your program must pass this test case: \n",
    "when the unit of electricity consumed by the user in a month is\n",
    "310, the total electricity bill should be 2250."
   ]
  },
  {
   "cell_type": "code",
   "execution_count": 35,
   "id": "e61a54b7-0dab-4ebe-955a-786d52ca1f67",
   "metadata": {},
   "outputs": [
    {
     "name": "stdin",
     "output_type": "stream",
     "text": [
      "Enter the number of units consumedd:  310\n"
     ]
    },
    {
     "name": "stdout",
     "output_type": "stream",
     "text": [
      "Total Bill: 2250.0\n"
     ]
    }
   ],
   "source": [
    "u = int(input(\"Enter the number of units consumedd: \"))\n",
    "\n",
    "a,b,c,d = 1,1,1,1\n",
    "\n",
    "if(u>100):\n",
    "    a = 100\n",
    "    b = u-100\n",
    "    if(u>200):\n",
    "        b = 100\n",
    "        c = u-200\n",
    "        if(u>300):\n",
    "            c = 100\n",
    "            d = u-300\n",
    "else:\n",
    "    a = u\n",
    "    \n",
    "print(\"Total Bill: \"+str((a*4.5)+(b*6)+(c*10)+(d*20)))\n",
    "    "
   ]
  },
  {
   "cell_type": "markdown",
   "id": "b9d48cdc-3381-4c16-9058-07ab1ee3b968",
   "metadata": {},
   "source": [
    "Q4. Create a list of numbers from 1 to 100. Use for loop and while loop to calculate the cube of each\n",
    "number and if the cube of that number is divisible by 4 or 5 then append that number in a list and print\n",
    "that list."
   ]
  },
  {
   "cell_type": "markdown",
   "id": "90e02c43-5aed-4304-826d-67c0cdb4286d",
   "metadata": {},
   "source": [
    "Using for loop:"
   ]
  },
  {
   "cell_type": "code",
   "execution_count": 36,
   "id": "1b85acd6-1b89-4e02-9009-ecd0e68a9dcb",
   "metadata": {},
   "outputs": [
    {
     "name": "stdout",
     "output_type": "stream",
     "text": [
      "[2, 4, 5, 6, 8, 10, 12, 14, 15, 16, 18, 20, 22, 24, 25, 26, 28, 30, 32, 34, 35, 36, 38, 40, 42, 44, 45, 46, 48, 50, 52, 54, 55, 56, 58, 60, 62, 64, 65, 66, 68, 70, 72, 74, 75, 76, 78, 80, 82, 84, 85, 86, 88, 90, 92, 94, 95, 96, 98, 100]\n"
     ]
    }
   ],
   "source": [
    "n = []\n",
    "\n",
    "for i in range(1,101):\n",
    "    if((i*i*i)%4 == 0 or (i*i*i)%5 == 0):\n",
    "        n.append(i)\n",
    "print(n)   "
   ]
  },
  {
   "cell_type": "markdown",
   "id": "42878afe-5e7c-4714-a863-863614cfdc92",
   "metadata": {},
   "source": [
    "Q5. Write a program to filter count vowels in the below-given string.\n",
    "\n",
    "string = \"I want to become a data scientist\""
   ]
  },
  {
   "cell_type": "code",
   "execution_count": 37,
   "id": "27f670ae-6e32-4e82-bd9a-b1bdbda4c825",
   "metadata": {},
   "outputs": [
    {
     "name": "stdout",
     "output_type": "stream",
     "text": [
      "12\n"
     ]
    }
   ],
   "source": [
    "s = \"I want to become a data scientist\"\n",
    "c = 0\n",
    "\n",
    "for i in s:\n",
    "    if i in[\"a\",\"e\",\"i\",\"o\",\"u\",\"A\",\"E\",\"I\",\"O\",\"U\"]:\n",
    "        c = c+1\n",
    "print(c)"
   ]
  },
  {
   "cell_type": "code",
   "execution_count": null,
   "id": "188ca1bc-6cec-4299-8690-7b06f9fe49d7",
   "metadata": {},
   "outputs": [],
   "source": []
  }
 ],
 "metadata": {
  "kernelspec": {
   "display_name": "Python 3 (ipykernel)",
   "language": "python",
   "name": "python3"
  },
  "language_info": {
   "codemirror_mode": {
    "name": "ipython",
    "version": 3
   },
   "file_extension": ".py",
   "mimetype": "text/x-python",
   "name": "python",
   "nbconvert_exporter": "python",
   "pygments_lexer": "ipython3",
   "version": "3.10.8"
  }
 },
 "nbformat": 4,
 "nbformat_minor": 5
}
