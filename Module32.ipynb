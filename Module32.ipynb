{
 "cells": [
  {
   "cell_type": "markdown",
   "id": "ed4b2539-8126-4a8c-90a5-418ea5d6ad0d",
   "metadata": {},
   "source": [
    "Q1. Create a Pandas Series that contains the following data: 4, 8, 15, 16, 23, and 42. Then, print the series."
   ]
  },
  {
   "cell_type": "code",
   "execution_count": 4,
   "id": "e23866af-a919-4aec-9f8e-99b4567de6dd",
   "metadata": {},
   "outputs": [],
   "source": [
    "import pandas as pd\n",
    "series = pd.Series(data = [4,8,15,16,23,42])"
   ]
  },
  {
   "cell_type": "code",
   "execution_count": 5,
   "id": "8144695c-f805-49df-88d6-18eed8993f63",
   "metadata": {},
   "outputs": [
    {
     "data": {
      "text/plain": [
       "0     4\n",
       "1     8\n",
       "2    15\n",
       "3    16\n",
       "4    23\n",
       "5    42\n",
       "dtype: int64"
      ]
     },
     "execution_count": 5,
     "metadata": {},
     "output_type": "execute_result"
    }
   ],
   "source": [
    "series"
   ]
  },
  {
   "cell_type": "code",
   "execution_count": 6,
   "id": "552370d3-9ff4-435e-9139-e68a66be04c8",
   "metadata": {},
   "outputs": [
    {
     "data": {
      "text/plain": [
       "pandas.core.series.Series"
      ]
     },
     "execution_count": 6,
     "metadata": {},
     "output_type": "execute_result"
    }
   ],
   "source": [
    "type(series)"
   ]
  },
  {
   "cell_type": "markdown",
   "id": "a44b468d-7703-4fee-a2da-7cf821ccff4f",
   "metadata": {},
   "source": [
    "Q2. Create a variable of list type containing 10 elements in it, and apply pandas.Series function on the\n",
    "variable print it."
   ]
  },
  {
   "cell_type": "code",
   "execution_count": 7,
   "id": "4982fd58-2bec-461f-a008-fb902e47dab0",
   "metadata": {},
   "outputs": [],
   "source": [
    "data = ['a','b','c','d','e','f','g','h','i','j']\n",
    "series_new = pd.Series(data)"
   ]
  },
  {
   "cell_type": "code",
   "execution_count": 8,
   "id": "465fef19-05cc-4f44-8b8d-6cc201e047c6",
   "metadata": {},
   "outputs": [
    {
     "data": {
      "text/plain": [
       "0    a\n",
       "1    b\n",
       "2    c\n",
       "3    d\n",
       "4    e\n",
       "5    f\n",
       "6    g\n",
       "7    h\n",
       "8    i\n",
       "9    j\n",
       "dtype: object"
      ]
     },
     "execution_count": 8,
     "metadata": {},
     "output_type": "execute_result"
    }
   ],
   "source": [
    "series_new"
   ]
  },
  {
   "cell_type": "code",
   "execution_count": 10,
   "id": "76b1fb7b-b2f1-416b-b71c-a31da2168813",
   "metadata": {},
   "outputs": [
    {
     "data": {
      "text/plain": [
       "pandas.core.series.Series"
      ]
     },
     "execution_count": 10,
     "metadata": {},
     "output_type": "execute_result"
    }
   ],
   "source": [
    "type(series_new)"
   ]
  },
  {
   "cell_type": "markdown",
   "id": "f1e85596-4a20-4c2f-b603-c291e05e1b5f",
   "metadata": {},
   "source": [
    "Q3. Create a Pandas DataFrame that contains the following data:"
   ]
  },
  {
   "cell_type": "code",
   "execution_count": 11,
   "id": "74e152de-eebd-43e4-8d7b-494791bb6ae4",
   "metadata": {},
   "outputs": [],
   "source": [
    "data = {\n",
    "    'name': ['Alice','Bob','Claire'],\n",
    "    'age': [25,30,27],\n",
    "    'gender' : ['Female','Male','Female']}"
   ]
  },
  {
   "cell_type": "code",
   "execution_count": 14,
   "id": "d66a0bee-8879-4225-be0b-5eb07bbd03bc",
   "metadata": {},
   "outputs": [],
   "source": [
    "dataframe = pd.DataFrame(data)"
   ]
  },
  {
   "cell_type": "code",
   "execution_count": 15,
   "id": "4c737a57-b1c0-4a0d-82e7-ad289ea78e00",
   "metadata": {},
   "outputs": [
    {
     "data": {
      "text/html": [
       "<div>\n",
       "<style scoped>\n",
       "    .dataframe tbody tr th:only-of-type {\n",
       "        vertical-align: middle;\n",
       "    }\n",
       "\n",
       "    .dataframe tbody tr th {\n",
       "        vertical-align: top;\n",
       "    }\n",
       "\n",
       "    .dataframe thead th {\n",
       "        text-align: right;\n",
       "    }\n",
       "</style>\n",
       "<table border=\"1\" class=\"dataframe\">\n",
       "  <thead>\n",
       "    <tr style=\"text-align: right;\">\n",
       "      <th></th>\n",
       "      <th>name</th>\n",
       "      <th>age</th>\n",
       "      <th>gender</th>\n",
       "    </tr>\n",
       "  </thead>\n",
       "  <tbody>\n",
       "    <tr>\n",
       "      <th>0</th>\n",
       "      <td>Alice</td>\n",
       "      <td>25</td>\n",
       "      <td>Female</td>\n",
       "    </tr>\n",
       "    <tr>\n",
       "      <th>1</th>\n",
       "      <td>Bob</td>\n",
       "      <td>30</td>\n",
       "      <td>Male</td>\n",
       "    </tr>\n",
       "    <tr>\n",
       "      <th>2</th>\n",
       "      <td>Claire</td>\n",
       "      <td>27</td>\n",
       "      <td>Female</td>\n",
       "    </tr>\n",
       "  </tbody>\n",
       "</table>\n",
       "</div>"
      ],
      "text/plain": [
       "     name  age  gender\n",
       "0   Alice   25  Female\n",
       "1     Bob   30    Male\n",
       "2  Claire   27  Female"
      ]
     },
     "execution_count": 15,
     "metadata": {},
     "output_type": "execute_result"
    }
   ],
   "source": [
    "dataframe"
   ]
  },
  {
   "cell_type": "code",
   "execution_count": 16,
   "id": "fb5365d0-97b5-41a1-89f9-ebb06af620da",
   "metadata": {},
   "outputs": [
    {
     "data": {
      "text/plain": [
       "pandas.core.frame.DataFrame"
      ]
     },
     "execution_count": 16,
     "metadata": {},
     "output_type": "execute_result"
    }
   ],
   "source": [
    "type(dataframe)"
   ]
  },
  {
   "cell_type": "markdown",
   "id": "151e83e0-ff3e-4b00-9010-c3377701c838",
   "metadata": {},
   "source": [
    "Q4. What is ‘DataFrame’ in pandas and how is it different from pandas.series? Explain with an example."
   ]
  },
  {
   "cell_type": "markdown",
   "id": "86ea7840-898c-43f0-a873-fd78426579f4",
   "metadata": {},
   "source": [
    "Dataframe in pandas is a structured two dimensional data structure that is organised in rows and columns table like format. Here each column is homogeneous. Series is a one directional array like structure. Also series shows you an index of each row whereas dataframe doesn't. "
   ]
  },
  {
   "cell_type": "markdown",
   "id": "fcc59481-871a-4202-98bc-97a1d826bbd0",
   "metadata": {},
   "source": [
    "#### Example"
   ]
  },
  {
   "cell_type": "code",
   "execution_count": 18,
   "id": "840958e6-cbd8-45d1-ad7b-fd01846fd1f8",
   "metadata": {},
   "outputs": [
    {
     "data": {
      "text/html": [
       "<div>\n",
       "<style scoped>\n",
       "    .dataframe tbody tr th:only-of-type {\n",
       "        vertical-align: middle;\n",
       "    }\n",
       "\n",
       "    .dataframe tbody tr th {\n",
       "        vertical-align: top;\n",
       "    }\n",
       "\n",
       "    .dataframe thead th {\n",
       "        text-align: right;\n",
       "    }\n",
       "</style>\n",
       "<table border=\"1\" class=\"dataframe\">\n",
       "  <thead>\n",
       "    <tr style=\"text-align: right;\">\n",
       "      <th></th>\n",
       "      <th>name</th>\n",
       "      <th>age</th>\n",
       "      <th>gender</th>\n",
       "    </tr>\n",
       "  </thead>\n",
       "  <tbody>\n",
       "    <tr>\n",
       "      <th>0</th>\n",
       "      <td>Alice</td>\n",
       "      <td>25</td>\n",
       "      <td>Female</td>\n",
       "    </tr>\n",
       "    <tr>\n",
       "      <th>1</th>\n",
       "      <td>Bob</td>\n",
       "      <td>30</td>\n",
       "      <td>Male</td>\n",
       "    </tr>\n",
       "    <tr>\n",
       "      <th>2</th>\n",
       "      <td>Claire</td>\n",
       "      <td>27</td>\n",
       "      <td>Female</td>\n",
       "    </tr>\n",
       "  </tbody>\n",
       "</table>\n",
       "</div>"
      ],
      "text/plain": [
       "     name  age  gender\n",
       "0   Alice   25  Female\n",
       "1     Bob   30    Male\n",
       "2  Claire   27  Female"
      ]
     },
     "execution_count": 18,
     "metadata": {},
     "output_type": "execute_result"
    }
   ],
   "source": [
    "dataframe"
   ]
  },
  {
   "cell_type": "code",
   "execution_count": 17,
   "id": "6a1aa392-9522-46b1-bc7a-56414817e66b",
   "metadata": {},
   "outputs": [
    {
     "data": {
      "text/plain": [
       "0    a\n",
       "1    b\n",
       "2    c\n",
       "3    d\n",
       "4    e\n",
       "5    f\n",
       "6    g\n",
       "7    h\n",
       "8    i\n",
       "9    j\n",
       "dtype: object"
      ]
     },
     "execution_count": 17,
     "metadata": {},
     "output_type": "execute_result"
    }
   ],
   "source": [
    "series_new"
   ]
  },
  {
   "cell_type": "markdown",
   "id": "abb3968a-bd0b-445d-89c0-3ee49c33e2b6",
   "metadata": {},
   "source": [
    "Q5. What are some common functions you can use to manipulate data in a Pandas DataFrame? Can\n",
    "you give an example of when you might use one of these functions?"
   ]
  },
  {
   "cell_type": "markdown",
   "id": "cf0b1272-ebc1-4802-8d06-6be7bbda0ea3",
   "metadata": {},
   "source": [
    "1. **`.head()`**\n",
    "   - **Usage**: View the first few rows of a DataFrame.\n",
    "   - **Example**: `df.head(5)` shows the first five rows.\n",
    "\n",
    "2. **`.describe()`**\n",
    "   - **Usage**: Get a statistical summary of numerical columns.\n",
    "   - **Example**: `df.describe()` provides statistics like mean, standard deviation, min, and max.\n",
    "\n",
    "3. **`.groupby()`**\n",
    "   - **Usage**: Group data by specific columns for aggregation.\n",
    "   - **Example**: `df.groupby('category').sum()` sums up data grouped by 'category'.\n",
    "\n",
    "4. **`.merge()`**\n",
    "   - **Usage**: Join two DataFrames based on a common key.\n",
    "   - **Example**: `pd.merge(df1, df2, on='id', how='inner')` performs an inner join on 'id'.\n",
    "\n",
    "5. **`.pivot_table()`**\n",
    "   - **Usage**: Create a pivot table for summarizing data.\n",
    "   - **Example**: `df.pivot_table(values='sales', index='month', aggfunc='mean')` calculates average sales per month.\n"
   ]
  },
  {
   "cell_type": "markdown",
   "id": "2d182507-c81f-49b3-8ae6-26e74c80d6c5",
   "metadata": {},
   "source": [
    "Q6. Which of the following is mutable in nature Series, DataFrame, Panel?"
   ]
  },
  {
   "cell_type": "markdown",
   "id": "8e64c488-c1a6-4998-adb1-7e92b93b381e",
   "metadata": {},
   "source": [
    "In Pandas, both Series and DataFrame are mutable in nature. "
   ]
  },
  {
   "cell_type": "markdown",
   "id": "40d4e938-6a5a-461c-b2be-53b9ff5e6095",
   "metadata": {},
   "source": [
    "Q7. Create a DataFrame using multiple Series. Explain with an example."
   ]
  },
  {
   "cell_type": "code",
   "execution_count": 1,
   "id": "656f044d-6d78-48d2-8552-b62eb6c0d5bd",
   "metadata": {},
   "outputs": [],
   "source": [
    "import pandas as pd\n",
    "\n",
    "names = pd.Series(['Alice', 'Bob', 'Charlie'])\n",
    "scores = pd.Series([85, 90, 88])"
   ]
  },
  {
   "cell_type": "code",
   "execution_count": 2,
   "id": "d8b9eea8-b3b7-4d6f-ac5b-bfd2ddf55641",
   "metadata": {},
   "outputs": [],
   "source": [
    "data = pd.DataFrame({'Name':names,'Score':scores})"
   ]
  },
  {
   "cell_type": "code",
   "execution_count": 3,
   "id": "c1e1de2e-67ad-4d49-9e08-155e428e6c16",
   "metadata": {},
   "outputs": [
    {
     "data": {
      "text/html": [
       "<div>\n",
       "<style scoped>\n",
       "    .dataframe tbody tr th:only-of-type {\n",
       "        vertical-align: middle;\n",
       "    }\n",
       "\n",
       "    .dataframe tbody tr th {\n",
       "        vertical-align: top;\n",
       "    }\n",
       "\n",
       "    .dataframe thead th {\n",
       "        text-align: right;\n",
       "    }\n",
       "</style>\n",
       "<table border=\"1\" class=\"dataframe\">\n",
       "  <thead>\n",
       "    <tr style=\"text-align: right;\">\n",
       "      <th></th>\n",
       "      <th>Name</th>\n",
       "      <th>Score</th>\n",
       "    </tr>\n",
       "  </thead>\n",
       "  <tbody>\n",
       "    <tr>\n",
       "      <th>0</th>\n",
       "      <td>Alice</td>\n",
       "      <td>85</td>\n",
       "    </tr>\n",
       "    <tr>\n",
       "      <th>1</th>\n",
       "      <td>Bob</td>\n",
       "      <td>90</td>\n",
       "    </tr>\n",
       "    <tr>\n",
       "      <th>2</th>\n",
       "      <td>Charlie</td>\n",
       "      <td>88</td>\n",
       "    </tr>\n",
       "  </tbody>\n",
       "</table>\n",
       "</div>"
      ],
      "text/plain": [
       "      Name  Score\n",
       "0    Alice     85\n",
       "1      Bob     90\n",
       "2  Charlie     88"
      ]
     },
     "execution_count": 3,
     "metadata": {},
     "output_type": "execute_result"
    }
   ],
   "source": [
    "data"
   ]
  },
  {
   "cell_type": "code",
   "execution_count": null,
   "id": "1c4efdc6-4135-4092-b728-022771cc594a",
   "metadata": {},
   "outputs": [],
   "source": []
  }
 ],
 "metadata": {
  "kernelspec": {
   "display_name": "Python 3 (ipykernel)",
   "language": "python",
   "name": "python3"
  },
  "language_info": {
   "codemirror_mode": {
    "name": "ipython",
    "version": 3
   },
   "file_extension": ".py",
   "mimetype": "text/x-python",
   "name": "python",
   "nbconvert_exporter": "python",
   "pygments_lexer": "ipython3",
   "version": "3.11.7"
  }
 },
 "nbformat": 4,
 "nbformat_minor": 5
}
