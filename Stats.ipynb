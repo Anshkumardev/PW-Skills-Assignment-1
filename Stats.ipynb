{
 "cells": [
  {
   "cell_type": "markdown",
   "id": "e0d4b944-fb3c-4ba6-bad5-dc233ad1db57",
   "metadata": {},
   "source": [
    "Q1: What are the Probability Mass Function (PMF) and Probability Density Function (PDF)? Explain with\n",
    "an example."
   ]
  },
  {
   "cell_type": "markdown",
   "id": "5ed2fa8a-1ea7-4f42-9ca0-f4e76099bfd1",
   "metadata": {},
   "source": [
    "### Probability Mass Function (PMF)\n",
    "The PMF applies to discrete random variables. It gives the probability that a discrete random variable is exactly equal to some value.\n",
    "\n",
    "**Example:** \n",
    "For a fair six-sided die, the PMF for the random variable \\( X \\) (the number rolled) is:\n",
    "\\[ P(X = k) = \\frac{1}{6} \\]\n",
    "for \\( k = 1, 2, 3, 4, 5, 6 \\).\n",
    "\n",
    "### Probability Density Function (PDF)\n",
    "The PDF applies to continuous random variables. It describes the likelihood of a random variable to take on a particular value, but the probability of any single exact value is zero; instead, the area under the curve within an interval gives the probability.\n",
    "\n",
    "**Example:**\n",
    "For a standard normal distribution (mean \\( \\mu = 0 \\), standard deviation \\( \\sigma = 1 \\)), the PDF is:\n",
    "\\[ f(x) = \\frac{1}{\\sqrt{2\\pi}} e^{-\\frac{x^2}{2}} \\]\n",
    "\n",
    "The probability that the variable falls within an interval, say \\( a \\) to \\( b \\), is found by integrating the PDF over that interval:\n",
    "\\[ P(a \\leq X \\leq b) = \\int_a^b f(x) \\, dx \\]\n"
   ]
  },
  {
   "cell_type": "markdown",
   "id": "5c1f35a7-59e2-4710-b716-f7556a1fb17e",
   "metadata": {},
   "source": [
    "Q2: What is Cumulative Density Function (CDF)? Explain with an example. Why CDF is used?"
   ]
  },
  {
   "cell_type": "markdown",
   "id": "940b6984-c6e6-4b0c-a384-1f8adb11dced",
   "metadata": {},
   "source": [
    "### Cumulative Density Function (CDF)\n",
    "The CDF applies to both discrete and continuous random variables. It gives the probability that a random variable \\( X \\) takes on a value less than or equal to \\( x \\).\n",
    "\n",
    "**Definition:**\n",
    "For a random variable \\( X \\), the CDF \\( F(x) \\) is defined as:\n",
    "\\[ F(x) = P(X \\leq x) \\]\n",
    "\n",
    "### Example\n",
    "For a standard normal distribution (mean \\( \\mu = 0 \\), standard deviation \\( \\sigma = 1 \\)), the CDF is:\n",
    "\\[ F(x) = \\int_{-\\infty}^x \\frac{1}{\\sqrt{2\\pi}} e^{-\\frac{t^2}{2}} \\, dt \\]\n",
    "\n",
    "### Why CDF is Used?\n",
    "- **Probability Calculation:** It provides the probability that a variable is within a certain range.\n",
    "- **Comparison:** It allows for the comparison of distributions.\n",
    "- **Quantiles:** It is used to determine percentiles and other quantiles.\n",
    "\n"
   ]
  },
  {
   "cell_type": "markdown",
   "id": "e0a232b2-400f-4203-86cf-d2178ad896cc",
   "metadata": {},
   "source": [
    "Q3: What are some examples of situations where the normal distribution might be used as a model?\n",
    "Explain how the parameters of the normal distribution relate to the shape of the distribution."
   ]
  },
  {
   "cell_type": "markdown",
   "id": "b54437d4-3676-490f-8515-fcbe5e251144",
   "metadata": {},
   "source": [
    "### Examples of Normal Distribution Use\n",
    "- **Heights of People:** Human heights often follow a normal distribution.\n",
    "- **Test Scores:** Standardized test scores are typically modeled using a normal distribution.\n",
    "\n",
    "\n",
    "### Parameters of the Normal Distribution\n",
    "The normal distribution is characterized by two parameters:\n",
    "1. **Mean (\\( \\mu \\))**: \n",
    "   - **Location Parameter:** It determines the center of the distribution. The peak of the bell curve is at \\( \\mu \\).\n",
    "2. **Standard Deviation (\\( \\sigma \\))**: \n",
    "   - **Scale Parameter:** It measures the spread of the distribution. A smaller \\( \\sigma \\) results in a steeper curve, while a larger \\( \\sigma \\) results in a flatter curve.\n",
    "\n",
    "**Shape Relation:**\n",
    "- **Mean (\\( \\mu \\))** shifts the distribution left or right.\n",
    "- **Standard Deviation (\\( \\sigma \\))** affects the width of the bell curve. Larger \\( \\sigma \\) means more spread out, while smaller \\( \\sigma \\) means more concentrated around the mean.\n"
   ]
  },
  {
   "cell_type": "markdown",
   "id": "cdccf358-019a-44fa-ba4a-d8e860c7383e",
   "metadata": {},
   "source": [
    "Q4: Explain the importance of Normal Distribution. Give a few real-life examples of Normal\n",
    "Distribution."
   ]
  },
  {
   "cell_type": "markdown",
   "id": "1c6fc3ce-ca07-477d-933a-7463e1f87c90",
   "metadata": {},
   "source": [
    "### Importance of Normal Distribution\n",
    "- **Central Limit Theorem:** Many statistical methods rely on the normal distribution because of the Central Limit Theorem, which states that the sum of a large number of independent random variables tends to be normally distributed, regardless of the original distribution.\n",
    "- **Statistical Inference:** It is widely used in hypothesis testing, confidence intervals, and regression analysis.\n",
    "- **Predictive Modeling:** Many machine learning algorithms assume normality in the data.\n",
    "\n",
    "### Real-Life Examples of Normal Distribution\n",
    "1. **Human Heights:** Heights of people within a specific population tend to follow a normal distribution.\n",
    "2. **Blood Pressure:** The distribution of blood pressure readings among a healthy population.\n",
    "3. **IQ Scores:** IQ scores are designed to follow a normal distribution, with most people scoring around the average.\n",
    "4. **Measurement Errors:** Errors in physical measurements in scientific experiments often follow a normal distribution.\n",
    "5. **Daily Stock Returns:** The daily returns of stock prices are often modeled using a normal distribution for financial analyses.\n",
    "\n",
    "These examples demonstrate how the normal distribution appears naturally in various fields, making it a crucial concept in statistics and data analysis.\n"
   ]
  },
  {
   "cell_type": "markdown",
   "id": "559c7fcd-6acb-4e2a-b080-5575add9adcc",
   "metadata": {},
   "source": [
    "Q5: What is Bernaulli Distribution? Give an Example. What is the difference between Bernoulli\n",
    "Distribution and Binomial Distribution?"
   ]
  },
  {
   "cell_type": "markdown",
   "id": "3372b142-a718-46cf-a027-5cf272c21f72",
   "metadata": {},
   "source": [
    "### Bernoulli Distribution\n",
    "The Bernoulli distribution is a discrete distribution having two possible outcomes, labeled by 0 and 1 where 1 typically represents \"success\" and 0 represents \"failure\". It is characterized by a single parameter \\( p \\), which is the probability of success.\n",
    "\n",
    "**Example:**\n",
    "Flipping a biased coin where the probability of getting heads (success) is 0.3. The random variable \\( X \\) that equals 1 if heads and 0 if tails follows a Bernoulli distribution.\n",
    "\n",
    "### Difference Between Bernoulli Distribution and Binomial Distribution\n",
    "- **Bernoulli Distribution** is a special case of the Binomial distribution where a single trial is conducted (n=1).\n",
    "- **Binomial Distribution** describes the number of successes in a fixed number \\( n \\) of independent Bernoulli trials with the same probability of success \\( p \\). It generalizes Bernoulli distribution to more than one trial.\n",
    "\n",
    "**In essence:**\n",
    "- Use **Bernoulli** for the outcome of a single trial (e.g., success/failure).\n",
    "- Use **Binomial** for the number of successes in multiple trials (e.g., 3 successes in 10 trials).\n"
   ]
  },
  {
   "cell_type": "markdown",
   "id": "e8b8c041-deba-4766-a853-f4f5d13c0469",
   "metadata": {},
   "source": [
    "Q6. Consider a dataset with a mean of 50 and a standard deviation of 10. If we assume that the dataset\n",
    "is normally distributed, what is the probability that a randomly selected observation will be greater\n",
    "than 60? Use the appropriate formula and show your calculations."
   ]
  },
  {
   "cell_type": "code",
   "execution_count": 4,
   "id": "78ce0b9e-f824-4875-a6a1-b8f959f0e003",
   "metadata": {},
   "outputs": [
    {
     "name": "stdout",
     "output_type": "stream",
     "text": [
      "1.0\n"
     ]
    }
   ],
   "source": [
    "mean = 50\n",
    "std = 10\n",
    "xi = 60\n",
    "\n",
    "z_score = (xi - mean)/std\n",
    "print(z_score)"
   ]
  },
  {
   "cell_type": "markdown",
   "id": "c93e7533-1b82-4a3d-8243-b353bb92dcb7",
   "metadata": {},
   "source": [
    "According to 0.8413% data is leass than 60. So 1-0.8413% will be grater than 60. i.e 0.1587"
   ]
  },
  {
   "cell_type": "markdown",
   "id": "ad2c0b25-bfce-41a4-8bf4-aa3726420a47",
   "metadata": {},
   "source": [
    "Q7: Explain uniform Distribution with an example."
   ]
  },
  {
   "cell_type": "markdown",
   "id": "027e7073-4e84-4bc6-b3ed-9f87f5891c91",
   "metadata": {},
   "source": [
    "### Uniform Distribution\n",
    "The uniform distribution is a probability distribution where all outcomes are equally likely. It can be either discrete or continuous.\n",
    "\n",
    "### Example\n",
    "- **Discrete Uniform Distribution:** Rolling a fair six-sided die. Each face (1 through 6) has an equal probability of \\( \\frac{1}{6} \\).\n",
    "- **Continuous Uniform Distribution:** Selecting a random point along a ruler from 0 to 1 meter. Any point along the ruler is equally probable.\n",
    "\n",
    "**Key Features:**\n",
    "- In a discrete uniform distribution, all outcomes have the same probability.\n",
    "- In a continuous uniform distribution, every interval of the same length has the same probability of containing the random variable.\n",
    "\n"
   ]
  },
  {
   "cell_type": "markdown",
   "id": "d4fa2bf1-2b82-4d97-b69c-5c2b1f9d07b0",
   "metadata": {},
   "source": [
    "Q8: What is the z score? State the importance of the z score.\""
   ]
  },
  {
   "cell_type": "markdown",
   "id": "f939a10a-5003-48aa-bf2a-a6098137d5b4",
   "metadata": {},
   "source": [
    "### Z Score\n",
    "The z score, also known as a standard score, quantifies the number of standard deviations a data point is from the mean of the data set. It is calculated using the formula:\n",
    "\n",
    "\\[ z = \\frac{(X - \\mu)}{\\sigma} \\]\n",
    "\n",
    "where \\( X \\) is the data point, \\( \\mu \\) is the mean, and \\( \\sigma \\) is the standard deviation.\n",
    "\n",
    "### Importance of the Z Score\n",
    "- **Standardization:** Z scores transform the data into a standard form, making different data sets comparable by removing the effects of the scale and location of the original data.\n",
    "- **Outlier Detection:** Z scores can help identify outliers, as data points with very high or very low z scores (e.g., more than 3 or less than -3) are typically considered outliers.\n",
    "- **Normalization:** In statistical analysis and machine learning, z scores are used to normalize data, ensuring that each feature contributes equally to the analysis.\n",
    "- **Probabilistic Interpretation:** Z scores directly relate to the normal distribution, allowing for the determination of probabilities and critical values in statistical tests.\n"
   ]
  },
  {
   "cell_type": "markdown",
   "id": "dbeb8b14-3fa6-48fd-879b-7cedf2bd414b",
   "metadata": {},
   "source": [
    "Q9: What is Central Limit Theorem? State the significance of the Central Limit Theorem."
   ]
  },
  {
   "cell_type": "markdown",
   "id": "c942ffea-1937-4db1-8b84-4ce8a5d24125",
   "metadata": {},
   "source": [
    "### Central Limit Theorem (CLT)\n",
    "The Central Limit Theorem is a fundamental statistical principle that states if you have a large enough sample size, the distribution of the sample means will be approximately normally distributed, regardless of the shape of the original population distribution. This holds true provided the samples are independent and identically distributed (i.i.d.).\n",
    "\n",
    "### Significance of the Central Limit Theorem\n",
    "- **Statistical Inference:** CLT allows for the use of normal probability distributions to estimate probabilities and conduct hypothesis tests about means, even when the original population is not normally distributed.\n",
    "- **Confidence Intervals:** It underpins the creation of confidence intervals around sample means, which are critical for making decisions based on sample data.\n",
    "- **Simplification in Analysis:** By ensuring that sample means are normally distributed, CLT simplifies the analysis of data and the application of various statistical tools that assume normality.\n",
    "- **Applicability:** The theorem is crucial for practical applications because it justifies the use of the normal distribution in many scenarios involving averages and means, thereby broadening the scope of various statistical methodologies.\n",
    "\n",
    "Overall, the Central Limit Theorem is essential for performing accurate and meaningful statistical analyses when dealing with real-world data.\n"
   ]
  },
  {
   "cell_type": "markdown",
   "id": "4718d7ff-5c4b-49db-8b61-725dcda4bc2a",
   "metadata": {},
   "source": [
    "Q10: State the assumptions of the Central Limit Theorem."
   ]
  },
  {
   "cell_type": "markdown",
   "id": "844a527e-e77e-41bd-b747-53e1b09e58c8",
   "metadata": {},
   "source": [
    "### Assumptions of the Central Limit Theorem\n",
    "1. **Independence:** The sampled observations must be independent of each other. This means the sampling should be done with replacement, or if without replacement, the sample size should not exceed 10% of the population to avoid dependence.\n",
    "\n",
    "2. **Identically Distributed:** The data points in the population from which samples are drawn must be identically distributed, meaning they all come from the same distribution, with the same mean and variance.\n",
    "\n",
    "3. **Sample Size:** The sample size must be sufficiently large. Although \"large\" is subjective, a common rule of thumb is that the sample size should be at least 30 to sufficiently approximate a normal distribution, particularly if the underlying distribution is not normal.\n",
    "\n",
    "4. **Finite Variance:** The population from which samples are drawn must have a finite variance. If the variance is infinite, the central limit theorem may not hold.\n",
    "\n",
    "These assumptions ensure that the theorem applies, allowing the mean of the sample means to approximate a normal distribution regardless of the shape of the population distribution.\n"
   ]
  },
  {
   "cell_type": "code",
   "execution_count": null,
   "id": "a753165e-9b44-4b8c-b8fc-f4306447b587",
   "metadata": {},
   "outputs": [],
   "source": []
  }
 ],
 "metadata": {
  "kernelspec": {
   "display_name": "Python 3 (ipykernel)",
   "language": "python",
   "name": "python3"
  },
  "language_info": {
   "codemirror_mode": {
    "name": "ipython",
    "version": 3
   },
   "file_extension": ".py",
   "mimetype": "text/x-python",
   "name": "python",
   "nbconvert_exporter": "python",
   "pygments_lexer": "ipython3",
   "version": "3.11.7"
  }
 },
 "nbformat": 4,
 "nbformat_minor": 5
}
