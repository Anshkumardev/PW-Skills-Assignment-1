{
 "cells": [
  {
   "cell_type": "markdown",
   "id": "a407e93d-66a4-4d10-9f35-16c046715d20",
   "metadata": {},
   "source": [
    "Q1. You are writing code for a company. The requirement of the company is that you create a python\n",
    "function that will check whether the password entered by the user is correct or not. The function should\n",
    "take the password as input and return the string “Valid Password” if the entered password follows the\n",
    "below-given password guidelines else it should return “Invalid Password”.\n",
    "\n",
    "Note: 1. The Password should contain at least two uppercase letters and at least two lowercase letters.\n",
    "\n",
    "2. The Password should contain at least a number and three special characters.\n",
    "\n",
    "3. The length of the password should be 10 characters long."
   ]
  },
  {
   "cell_type": "code",
   "execution_count": 47,
   "id": "e85a40b8-bd0b-4fed-a7c0-bb1480c188e6",
   "metadata": {},
   "outputs": [],
   "source": [
    "def checkPassword(s):\n",
    "    \n",
    "    l_c = ['a','b','c','d','e','f','g','h','i','j','k','l','m','n','o','p','q','r','s','t','u','v','w','x','y','z']\n",
    "    u_c = [x.upper() for x in l_c]\n",
    "    num = ['0','1','2','3','4','5','6','7','8','9']\n",
    "    special = ['`','~','!','@','#','$','%','^','&','*','(',')','_','-','+','=','{','[','}','}','|','\\\\',':',';','<',',','>','.','?','/','\"',\"'\"]\n",
    "    \n",
    "    upper_case_count = len([i for i in s if i in u_c])\n",
    "    lower_case_count = len([i for i in s if i in l_c])\n",
    "    number_count = len([i for i in s if i in num])\n",
    "    special_count = len([i for i in s if i in special])\n",
    "    \n",
    "    if ((upper_case_count >= 2) and (lower_case_count >= 2) and (number_count != 0) and (special_count >= 3) and (len(s) >= 10)):\n",
    "        print('Valid Password')\n",
    "    else:\n",
    "        print('Invalid Password')"
   ]
  },
  {
   "cell_type": "code",
   "execution_count": 48,
   "id": "3c905139-bd47-46d5-bcc8-3abe894063c6",
   "metadata": {},
   "outputs": [
    {
     "name": "stdout",
     "output_type": "stream",
     "text": [
      "Invalid Password\n"
     ]
    }
   ],
   "source": [
    "checkPassword('n\"%#H01HNAH')"
   ]
  },
  {
   "cell_type": "code",
   "execution_count": 46,
   "id": "f9c4f5ce-b475-4d86-89c6-10b6079247cd",
   "metadata": {},
   "outputs": [
    {
     "name": "stdout",
     "output_type": "stream",
     "text": [
      "Valid Password\n"
     ]
    }
   ],
   "source": [
    "checkPassword('naz\"%#H01HNAH')"
   ]
  },
  {
   "cell_type": "markdown",
   "id": "9e4fba97-94ef-4d6e-b6e2-6616331cdcc0",
   "metadata": {},
   "source": [
    "Q2. Solve the below-given questions using at least one of the following:\n",
    "\n",
    "1. Lambda function\n",
    "2. Filter function\n",
    "3. Zap function\n",
    "4. List Comprehension\n",
    "\n",
    "- Check if the string starts with a particular letter\n",
    "- Check if the string is numeric\n",
    "- Sort a list of tuples having fruit names and their quantity. [(\"mango\",99),(\"orange\",80), (\"grapes\", 1000)\n",
    "- Find the squares of numbers from 1 to 10\n",
    "- Find the cube root of numbers from 1 to 10\n",
    "- Check if a given number is even\n",
    "- Filter odd numbers from the given list. [1,2,3,4,5,6,7,8,9,10]\n",
    "- Sort a list of integers into positive and negative integers lists.\n",
    "[1,2,3,4,5,6,-1,-2,-3,-4,-5,0]"
   ]
  },
  {
   "cell_type": "markdown",
   "id": "ce2277b8-597e-4f61-9c17-a86e7aa33f00",
   "metadata": {},
   "source": [
    "1. Check if the string starts with a particular letter"
   ]
  },
  {
   "cell_type": "code",
   "execution_count": 53,
   "id": "e17e6aec-21e5-402e-8ebf-6705a325d592",
   "metadata": {},
   "outputs": [],
   "source": [
    "check_for_y = lambda a : True if a[0] == 'y' else False"
   ]
  },
  {
   "cell_type": "code",
   "execution_count": 54,
   "id": "605dc4ec-20ea-4a36-a1bf-683f694d69e9",
   "metadata": {},
   "outputs": [
    {
     "data": {
      "text/plain": [
       "True"
      ]
     },
     "execution_count": 54,
     "metadata": {},
     "output_type": "execute_result"
    }
   ],
   "source": [
    "check_for_y(\"yes\")"
   ]
  },
  {
   "cell_type": "code",
   "execution_count": 55,
   "id": "8579de1b-e31f-47fd-8f59-30ba0314f6b6",
   "metadata": {},
   "outputs": [
    {
     "data": {
      "text/plain": [
       "False"
      ]
     },
     "execution_count": 55,
     "metadata": {},
     "output_type": "execute_result"
    }
   ],
   "source": [
    "check_for_y(\"No\")"
   ]
  },
  {
   "cell_type": "markdown",
   "id": "ea5e3e22-cca5-4666-af91-91053d052d65",
   "metadata": {},
   "source": [
    "2. Check if the string is numeric"
   ]
  },
  {
   "cell_type": "code",
   "execution_count": 56,
   "id": "b727ead7-ace4-4793-b5f0-60d91f17a92b",
   "metadata": {},
   "outputs": [],
   "source": [
    "num = ['0','1','2','3','4','5','6','7','8','9']\n",
    "\n",
    "def check_str_for_num(s):\n",
    "    if len([x for x in s if x in num]) == len(s):\n",
    "        return True\n",
    "    else:\n",
    "        return False"
   ]
  },
  {
   "cell_type": "code",
   "execution_count": 58,
   "id": "154a1307-8f27-4f16-ab64-f73cf55c19b5",
   "metadata": {},
   "outputs": [
    {
     "data": {
      "text/plain": [
       "False"
      ]
     },
     "execution_count": 58,
     "metadata": {},
     "output_type": "execute_result"
    }
   ],
   "source": [
    "check_str_for_num('0a2')"
   ]
  },
  {
   "cell_type": "code",
   "execution_count": 59,
   "id": "4ac30326-5e73-4ba4-8180-9061d6a6be6e",
   "metadata": {},
   "outputs": [
    {
     "data": {
      "text/plain": [
       "True"
      ]
     },
     "execution_count": 59,
     "metadata": {},
     "output_type": "execute_result"
    }
   ],
   "source": [
    "check_str_for_num('012')"
   ]
  },
  {
   "cell_type": "markdown",
   "id": "6460f2d4-a326-4b38-be71-7779d4ef4f64",
   "metadata": {},
   "source": [
    "3. Sort a list of tuples having fruit names and their quantity. [(\"mango\",99),(\"orange\",80), (\"grapes\", 1000)]"
   ]
  },
  {
   "cell_type": "code",
   "execution_count": 60,
   "id": "6059f823-18a5-4a72-b85b-547a34de1338",
   "metadata": {},
   "outputs": [],
   "source": [
    "l = [(\"mango\",99),(\"orange\",80), (\"grapes\", 1000)]"
   ]
  },
  {
   "cell_type": "code",
   "execution_count": 61,
   "id": "c1867459-016c-4a3e-bd68-f9afda378f54",
   "metadata": {},
   "outputs": [],
   "source": [
    "l.sort(key = lambda x:x[1])"
   ]
  },
  {
   "cell_type": "code",
   "execution_count": 62,
   "id": "ce4535ed-8c22-4119-8e5e-5f8a42a7af75",
   "metadata": {},
   "outputs": [
    {
     "data": {
      "text/plain": [
       "[('orange', 80), ('mango', 99), ('grapes', 1000)]"
      ]
     },
     "execution_count": 62,
     "metadata": {},
     "output_type": "execute_result"
    }
   ],
   "source": [
    "l"
   ]
  },
  {
   "cell_type": "markdown",
   "id": "a008e950-02bc-472c-af65-d1056839fab9",
   "metadata": {},
   "source": [
    "4. Find the squares of numbers from 1 to 10"
   ]
  },
  {
   "cell_type": "code",
   "execution_count": 64,
   "id": "ac8b393c-abd7-4362-b75f-28faf1b4dc00",
   "metadata": {},
   "outputs": [
    {
     "data": {
      "text/plain": [
       "[1, 4, 9, 16, 25, 36, 49, 64, 81, 100]"
      ]
     },
     "execution_count": 64,
     "metadata": {},
     "output_type": "execute_result"
    }
   ],
   "source": [
    "[x*x for x in range(1,11) ]"
   ]
  },
  {
   "cell_type": "markdown",
   "id": "761b1049-ddc2-4a8c-a5b1-1e4adacd880e",
   "metadata": {},
   "source": [
    "5. Find the cube root of numbers from 1 to 10"
   ]
  },
  {
   "cell_type": "code",
   "execution_count": 66,
   "id": "85ab99a5-193f-484f-af54-7e57d42a2a78",
   "metadata": {},
   "outputs": [
    {
     "data": {
      "text/plain": [
       "[1.0,\n",
       " 1.2599210498948732,\n",
       " 1.4422495703074083,\n",
       " 1.5874010519681994,\n",
       " 1.7099759466766968,\n",
       " 1.8171205928321397,\n",
       " 1.912931182772389,\n",
       " 2.0,\n",
       " 2.080083823051904,\n",
       " 2.154434690031884]"
      ]
     },
     "execution_count": 66,
     "metadata": {},
     "output_type": "execute_result"
    }
   ],
   "source": [
    "[num ** (1/3) for num in range(1,11)]"
   ]
  },
  {
   "cell_type": "markdown",
   "id": "d635d804-0f8b-456b-9139-ca160f4ad031",
   "metadata": {},
   "source": [
    "6. Check if a given number is even"
   ]
  },
  {
   "cell_type": "code",
   "execution_count": 67,
   "id": "d1848eb1-c24a-461a-b391-cea57822fc7c",
   "metadata": {},
   "outputs": [],
   "source": [
    "check_even = lambda num : True if num%2 == 0 else False"
   ]
  },
  {
   "cell_type": "code",
   "execution_count": 68,
   "id": "3fdbed7d-43be-423b-b707-e65a2cd6d391",
   "metadata": {},
   "outputs": [
    {
     "data": {
      "text/plain": [
       "False"
      ]
     },
     "execution_count": 68,
     "metadata": {},
     "output_type": "execute_result"
    }
   ],
   "source": [
    "check_even(5)"
   ]
  },
  {
   "cell_type": "code",
   "execution_count": 69,
   "id": "3b380d02-bb9b-4e69-99ae-cbfdb239a7df",
   "metadata": {},
   "outputs": [
    {
     "data": {
      "text/plain": [
       "True"
      ]
     },
     "execution_count": 69,
     "metadata": {},
     "output_type": "execute_result"
    }
   ],
   "source": [
    "check_even(6)"
   ]
  },
  {
   "cell_type": "markdown",
   "id": "6deafefe-2361-4da6-9e37-ef8b1575286c",
   "metadata": {},
   "source": [
    "7. Filter odd numbers from the given list. [1,2,3,4,5,6,7,8,9,10]"
   ]
  },
  {
   "cell_type": "code",
   "execution_count": 72,
   "id": "2127ed61-e0fa-40e2-a0be-9c61ff58f560",
   "metadata": {},
   "outputs": [
    {
     "data": {
      "text/plain": [
       "[1, 3, 5, 7, 9]"
      ]
     },
     "execution_count": 72,
     "metadata": {},
     "output_type": "execute_result"
    }
   ],
   "source": [
    "list(filter(lambda x : x%2 != 0,[1,2,3,4,5,6,7,8,9,10]))"
   ]
  },
  {
   "cell_type": "markdown",
   "id": "56b5e8c6-7b9e-4ebf-9c55-df45b2e8ad16",
   "metadata": {},
   "source": [
    "8. Sort a list of integers into positive and negative integers lists. [1,2,3,4,5,6,-1,-2,-3,-4,-5,0]"
   ]
  },
  {
   "cell_type": "code",
   "execution_count": 77,
   "id": "e2243cf1-64e2-43fd-becc-4b9d59e600ed",
   "metadata": {},
   "outputs": [],
   "source": [
    "l = [1,2,3,4,5,6,-1,-2,-3,-4,-5,0]"
   ]
  },
  {
   "cell_type": "code",
   "execution_count": 90,
   "id": "a50e4985-836a-4045-9d6b-e482af25a782",
   "metadata": {},
   "outputs": [],
   "source": [
    "positive_list = []\n",
    "negative_list = []\n",
    "\n",
    "sort = lambda x : positive_list.append(x) if x>=0 else negative_list.append(x)"
   ]
  },
  {
   "cell_type": "code",
   "execution_count": 91,
   "id": "3025690d-2529-4739-9dfa-772ae632d3e9",
   "metadata": {},
   "outputs": [
    {
     "data": {
      "text/plain": [
       "[None, None, None, None, None, None, None, None, None, None, None, None]"
      ]
     },
     "execution_count": 91,
     "metadata": {},
     "output_type": "execute_result"
    }
   ],
   "source": [
    "list(map(sort,l))"
   ]
  },
  {
   "cell_type": "code",
   "execution_count": 92,
   "id": "53c412dd-dab1-4746-941d-088ab5e407b0",
   "metadata": {},
   "outputs": [
    {
     "data": {
      "text/plain": [
       "[1, 2, 3, 4, 5, 6, 0]"
      ]
     },
     "execution_count": 92,
     "metadata": {},
     "output_type": "execute_result"
    }
   ],
   "source": [
    "positive_list"
   ]
  },
  {
   "cell_type": "code",
   "execution_count": 89,
   "id": "e5232ab6-f5f2-4636-bbb8-1938852f166c",
   "metadata": {},
   "outputs": [
    {
     "data": {
      "text/plain": [
       "[-1, -2, -3, -4, -5, 0]"
      ]
     },
     "execution_count": 89,
     "metadata": {},
     "output_type": "execute_result"
    }
   ],
   "source": [
    "negative_list"
   ]
  },
  {
   "cell_type": "code",
   "execution_count": null,
   "id": "a1bf3360-953a-4776-924e-bde3299c99af",
   "metadata": {},
   "outputs": [],
   "source": []
  }
 ],
 "metadata": {
  "kernelspec": {
   "display_name": "Python 3 (ipykernel)",
   "language": "python",
   "name": "python3"
  },
  "language_info": {
   "codemirror_mode": {
    "name": "ipython",
    "version": 3
   },
   "file_extension": ".py",
   "mimetype": "text/x-python",
   "name": "python",
   "nbconvert_exporter": "python",
   "pygments_lexer": "ipython3",
   "version": "3.10.8"
  }
 },
 "nbformat": 4,
 "nbformat_minor": 5
}
