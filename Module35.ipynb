{
 "cells": [
  {
   "cell_type": "code",
   "execution_count": 2,
   "id": "ce57665e-72b5-4d15-8e8f-e48acf9e7154",
   "metadata": {},
   "outputs": [],
   "source": [
    "import numpy as np\n",
    "list_ = ['1','2','3','4','5']\n",
    "array_list = np.array(object = list_)"
   ]
  },
  {
   "cell_type": "code",
   "execution_count": 5,
   "id": "0ef89bde-d0e7-40cc-aecf-166ff8aaa6cc",
   "metadata": {},
   "outputs": [
    {
     "data": {
      "text/plain": [
       "['1', '2', '3', '4', '5']"
      ]
     },
     "execution_count": 5,
     "metadata": {},
     "output_type": "execute_result"
    }
   ],
   "source": [
    "list_"
   ]
  },
  {
   "cell_type": "code",
   "execution_count": 3,
   "id": "d77c7d52-556c-4b4c-83d1-e5216abb812a",
   "metadata": {},
   "outputs": [
    {
     "data": {
      "text/plain": [
       "array(['1', '2', '3', '4', '5'], dtype='<U1')"
      ]
     },
     "execution_count": 3,
     "metadata": {},
     "output_type": "execute_result"
    }
   ],
   "source": [
    "array_list"
   ]
  },
  {
   "cell_type": "markdown",
   "id": "4e09c315-f8c3-426a-a5c9-e5d3871f3e4d",
   "metadata": {},
   "source": [
    "Q1. Is there any difference in the data type of variables list_ and array_list? If there is then write a code\n",
    "to print the data types of both the variables."
   ]
  },
  {
   "cell_type": "code",
   "execution_count": 7,
   "id": "56db085b-10b2-458e-a84d-501dfd5d418a",
   "metadata": {},
   "outputs": [
    {
     "data": {
      "text/plain": [
       "list"
      ]
     },
     "execution_count": 7,
     "metadata": {},
     "output_type": "execute_result"
    }
   ],
   "source": [
    "type(list_)"
   ]
  },
  {
   "cell_type": "code",
   "execution_count": 8,
   "id": "0ebb0ba6-5420-4135-a278-9bbcbf46e28a",
   "metadata": {},
   "outputs": [
    {
     "data": {
      "text/plain": [
       "numpy.ndarray"
      ]
     },
     "execution_count": 8,
     "metadata": {},
     "output_type": "execute_result"
    }
   ],
   "source": [
    "type(array_list)"
   ]
  },
  {
   "cell_type": "markdown",
   "id": "186adb1e-0e3e-4652-b099-403f2cf3b03d",
   "metadata": {},
   "source": [
    "List_ is just a list whereas thr array_list is a numpy array."
   ]
  },
  {
   "cell_type": "markdown",
   "id": "beac4e0e-fea0-4b8c-afc0-e92e6de604ac",
   "metadata": {},
   "source": [
    "Q2. Write a code to print the data type of each and every element of both the variables list_ and\n",
    "arra_list."
   ]
  },
  {
   "cell_type": "code",
   "execution_count": 11,
   "id": "095c286e-3f39-47fd-b353-aa961b858ad7",
   "metadata": {},
   "outputs": [
    {
     "data": {
      "text/plain": [
       "[str, str, str, str, str]"
      ]
     },
     "execution_count": 11,
     "metadata": {},
     "output_type": "execute_result"
    }
   ],
   "source": [
    "[type(i) for i in list_]"
   ]
  },
  {
   "cell_type": "code",
   "execution_count": 12,
   "id": "4aa55048-1e7e-488b-b0b0-e4001c2dd424",
   "metadata": {},
   "outputs": [
    {
     "data": {
      "text/plain": [
       "[numpy.str_, numpy.str_, numpy.str_, numpy.str_, numpy.str_]"
      ]
     },
     "execution_count": 12,
     "metadata": {},
     "output_type": "execute_result"
    }
   ],
   "source": [
    "[type(i) for i in array_list]"
   ]
  },
  {
   "cell_type": "markdown",
   "id": "8bf21f72-6a90-4834-a17c-f4db4173183e",
   "metadata": {},
   "source": [
    "Q3. Considering the following changes in the variable, array_list:"
   ]
  },
  {
   "cell_type": "code",
   "execution_count": 14,
   "id": "57843a83-5832-4616-8acb-6a996697b2cd",
   "metadata": {},
   "outputs": [],
   "source": [
    "array_list = np.array(object = list_, dtype = int)"
   ]
  },
  {
   "cell_type": "code",
   "execution_count": 15,
   "id": "de9965e1-30a6-4170-acb0-ec7a044b68e2",
   "metadata": {},
   "outputs": [
    {
     "data": {
      "text/plain": [
       "array([1, 2, 3, 4, 5])"
      ]
     },
     "execution_count": 15,
     "metadata": {},
     "output_type": "execute_result"
    }
   ],
   "source": [
    "array_list"
   ]
  },
  {
   "cell_type": "code",
   "execution_count": 16,
   "id": "86f296fe-97a2-4fae-97c3-12936b2d1ce7",
   "metadata": {},
   "outputs": [
    {
     "data": {
      "text/plain": [
       "[numpy.int64, numpy.int64, numpy.int64, numpy.int64, numpy.int64]"
      ]
     },
     "execution_count": 16,
     "metadata": {},
     "output_type": "execute_result"
    }
   ],
   "source": [
    "[type(i) for i in array_list]"
   ]
  },
  {
   "cell_type": "code",
   "execution_count": 17,
   "id": "42d35707-c467-4078-9c2f-61b2ee109ee3",
   "metadata": {},
   "outputs": [
    {
     "data": {
      "text/plain": [
       "[str, str, str, str, str]"
      ]
     },
     "execution_count": 17,
     "metadata": {},
     "output_type": "execute_result"
    }
   ],
   "source": [
    "[type(i) for i in list_]"
   ]
  },
  {
   "cell_type": "markdown",
   "id": "bf40cc4d-35d8-40a8-a732-25315f424e5e",
   "metadata": {},
   "source": [
    "The data types of array_list element has now changed to integer wheras the data types for elements in list_ variable remains string."
   ]
  },
  {
   "cell_type": "code",
   "execution_count": 18,
   "id": "e59a1168-cfc7-4c81-880f-ca37f6cf5ef3",
   "metadata": {},
   "outputs": [],
   "source": [
    "import numpy as np\n",
    "num_list = [ [ 1 , 2 , 3 ] , [ 4 , 5 , 6 ] ]\n",
    "num_array = np.array(object = num_list)"
   ]
  },
  {
   "cell_type": "markdown",
   "id": "41f325bd-4aa6-4385-8f26-f2575d2d235a",
   "metadata": {},
   "source": [
    "Q4. Write a code to find the following characteristics of variable, num_array:"
   ]
  },
  {
   "cell_type": "code",
   "execution_count": 19,
   "id": "cf4c6ee6-bdae-4458-96b5-17a4194a49d2",
   "metadata": {},
   "outputs": [
    {
     "data": {
      "text/plain": [
       "array([[1, 2, 3],\n",
       "       [4, 5, 6]])"
      ]
     },
     "execution_count": 19,
     "metadata": {},
     "output_type": "execute_result"
    }
   ],
   "source": [
    "num_array"
   ]
  },
  {
   "cell_type": "code",
   "execution_count": 21,
   "id": "30687e11-2b90-42ce-b7c7-fa1f1600dfff",
   "metadata": {},
   "outputs": [
    {
     "data": {
      "text/plain": [
       "(2, 3)"
      ]
     },
     "execution_count": 21,
     "metadata": {},
     "output_type": "execute_result"
    }
   ],
   "source": [
    "num_array.shape"
   ]
  },
  {
   "cell_type": "code",
   "execution_count": 22,
   "id": "88539671-5f94-4792-8437-156b6ff7d4b2",
   "metadata": {},
   "outputs": [
    {
     "data": {
      "text/plain": [
       "6"
      ]
     },
     "execution_count": 22,
     "metadata": {},
     "output_type": "execute_result"
    }
   ],
   "source": [
    "num_array.size"
   ]
  },
  {
   "cell_type": "markdown",
   "id": "ea9a9205-a103-46af-857b-c12ff7bb1c77",
   "metadata": {},
   "source": [
    "Q5. Write a code to create numpy array of 3*3 matrix containing zeros only, using a numpy array\n",
    "creation function."
   ]
  },
  {
   "cell_type": "code",
   "execution_count": 28,
   "id": "5d871e08-7f00-4f49-be45-1e408e1de6f0",
   "metadata": {},
   "outputs": [],
   "source": [
    "arr = np.zeros((3,3))"
   ]
  },
  {
   "cell_type": "code",
   "execution_count": 29,
   "id": "ea356dcb-3502-4b9c-a9b2-09159c0502ff",
   "metadata": {},
   "outputs": [
    {
     "data": {
      "text/plain": [
       "array([[0., 0., 0.],\n",
       "       [0., 0., 0.],\n",
       "       [0., 0., 0.]])"
      ]
     },
     "execution_count": 29,
     "metadata": {},
     "output_type": "execute_result"
    }
   ],
   "source": [
    "arr"
   ]
  },
  {
   "cell_type": "markdown",
   "id": "94f505aa-e48d-4d3c-a732-153b685e9a04",
   "metadata": {},
   "source": [
    "Create an identity matrix of shape (5,5) using numpy functions?"
   ]
  },
  {
   "cell_type": "code",
   "execution_count": 31,
   "id": "f463a109-6b25-4e6f-ad35-992e78671db5",
   "metadata": {},
   "outputs": [],
   "source": [
    "arr1 = np.eye(5,5)"
   ]
  },
  {
   "cell_type": "code",
   "execution_count": 32,
   "id": "1b59a1be-3396-45f1-a8fe-f08ad351f20b",
   "metadata": {},
   "outputs": [
    {
     "data": {
      "text/plain": [
       "array([[1., 0., 0., 0., 0.],\n",
       "       [0., 1., 0., 0., 0.],\n",
       "       [0., 0., 1., 0., 0.],\n",
       "       [0., 0., 0., 1., 0.],\n",
       "       [0., 0., 0., 0., 1.]])"
      ]
     },
     "execution_count": 32,
     "metadata": {},
     "output_type": "execute_result"
    }
   ],
   "source": [
    "arr1"
   ]
  },
  {
   "cell_type": "code",
   "execution_count": null,
   "id": "6e6de113-8ed3-4c01-b0f5-bc992a79f47c",
   "metadata": {},
   "outputs": [],
   "source": []
  }
 ],
 "metadata": {
  "kernelspec": {
   "display_name": "Python 3 (ipykernel)",
   "language": "python",
   "name": "python3"
  },
  "language_info": {
   "codemirror_mode": {
    "name": "ipython",
    "version": 3
   },
   "file_extension": ".py",
   "mimetype": "text/x-python",
   "name": "python",
   "nbconvert_exporter": "python",
   "pygments_lexer": "ipython3",
   "version": "3.11.7"
  }
 },
 "nbformat": 4,
 "nbformat_minor": 5
}
