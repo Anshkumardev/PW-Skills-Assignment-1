{
 "cells": [
  {
   "cell_type": "markdown",
   "id": "71322d71-a9a0-481d-a5c8-4f577915493d",
   "metadata": {},
   "source": [
    "Q1. Which function is used to open a file? What are the different modes of opening a file? Explain each mode\n",
    "of file opening."
   ]
  },
  {
   "cell_type": "markdown",
   "id": "499353d2-e0cf-402d-8cff-b5cb5f38a238",
   "metadata": {},
   "source": [
    "open() function is used to open a file. Also it can be used for both read and write purposes and can also be used to read and write different types of files like JSON, CSV etc."
   ]
  },
  {
   "cell_type": "markdown",
   "id": "13783062-b970-430c-b6ae-41a5ea1bf1e0",
   "metadata": {},
   "source": [
    "Different modes of opening a file are\n",
    "\n",
    "1. 'r' used to read files\n",
    "2. 'w' used to write a file. This re-writes the whole data again and delete the previously written data.\n",
    "3. 'a' used to append new data to the file and keeps the previous data too.\n",
    "4. 'b' used to open a file in binary mode.\n",
    "5. 't' used to open a file in text mode.\n",
    "\n",
    "These are some of the most common modes that are used frequently."
   ]
  },
  {
   "cell_type": "markdown",
   "id": "24890293-c6b6-4680-b24a-e1bb4c334a3b",
   "metadata": {},
   "source": [
    "Q2. Why close() function is used? Why is it important to close a file?"
   ]
  },
  {
   "cell_type": "markdown",
   "id": "cd360d78-547a-4438-a960-26e6878618db",
   "metadata": {},
   "source": [
    "close function is used to close the file on which the operations using open() function are performed. After calling close function only the new text is updated in the file.\n",
    "\n",
    "Close function is important because without closing the data of the file cannot be updated and also can't be accessed."
   ]
  },
  {
   "cell_type": "markdown",
   "id": "25384e09-9bf2-46ac-8806-7ea7c36343fe",
   "metadata": {},
   "source": [
    "Q3. Write a python program to create a text file. Write ‘I want to become a Data Scientist’ in that file. Then\n",
    "close the file. Open this file and read the content of the file."
   ]
  },
  {
   "cell_type": "code",
   "execution_count": 10,
   "id": "411bab28-6620-4878-9bff-76108a813921",
   "metadata": {},
   "outputs": [],
   "source": [
    "new_file = open('New_file.txt','w')"
   ]
  },
  {
   "cell_type": "code",
   "execution_count": 11,
   "id": "a80e71cf-07ea-45d1-b755-cde1168b526a",
   "metadata": {},
   "outputs": [
    {
     "data": {
      "text/plain": [
       "33"
      ]
     },
     "execution_count": 11,
     "metadata": {},
     "output_type": "execute_result"
    }
   ],
   "source": [
    "new_file.write('I want to become a Data Scientist')"
   ]
  },
  {
   "cell_type": "code",
   "execution_count": 12,
   "id": "6883e5f0-18b7-4a6e-b9fd-1efd8d555607",
   "metadata": {},
   "outputs": [],
   "source": [
    "new_file.close()"
   ]
  },
  {
   "cell_type": "code",
   "execution_count": 13,
   "id": "8145c9c6-d984-4491-959e-53edc000ea33",
   "metadata": {},
   "outputs": [],
   "source": [
    "new_file = open('New_file.txt','r')"
   ]
  },
  {
   "cell_type": "code",
   "execution_count": 14,
   "id": "6b8a728f-c7db-4e32-ab93-3079901098d5",
   "metadata": {},
   "outputs": [
    {
     "data": {
      "text/plain": [
       "'I want to become a Data Scientist'"
      ]
     },
     "execution_count": 14,
     "metadata": {},
     "output_type": "execute_result"
    }
   ],
   "source": [
    "new_file.read()"
   ]
  },
  {
   "cell_type": "markdown",
   "id": "35439265-f71d-41d0-8fe8-8e246f5e138a",
   "metadata": {},
   "source": [
    "Q4. Explain the following with python code: read(), readline() and readlines()."
   ]
  },
  {
   "cell_type": "markdown",
   "id": "cbe8d98f-ce86-4e4b-9afa-f043b2b5ac2e",
   "metadata": {},
   "source": [
    "read(): This function reads the whole text in a file at a time as bytes and return them as string.\n",
    "\n",
    "readline(): This function reads the text line by line. Means it reads a line first and return it as string and then reads the other line and the process goes on.\n",
    "\n",
    "readlines(): This function reads the lines in a file and then return them as string in a list."
   ]
  },
  {
   "cell_type": "markdown",
   "id": "15033cb0-3a77-46f4-8109-8161286ca675",
   "metadata": {},
   "source": [
    "Q5. Explain why with statement is used with open(). What is the advantage of using with statement and\n",
    "open() together?"
   ]
  },
  {
   "cell_type": "markdown",
   "id": "87cf60f9-e398-4540-bd19-235df501abaf",
   "metadata": {},
   "source": [
    "with statement is used with open() to open a file with less code. Also it provides capability of performing tasks on the file without closing it. It basically heps to optimize the code and allows to import more kind of formats for a file like JSON, CSV etc."
   ]
  },
  {
   "cell_type": "markdown",
   "id": "a44de0ee-2a89-4629-a9c2-0acc489e1bcf",
   "metadata": {},
   "source": [
    "Q6. Explain the write() and writelines() functions. Give a suitable example."
   ]
  },
  {
   "cell_type": "markdown",
   "id": "161ca6e7-43c7-4e9d-9113-8b98b02d383d",
   "metadata": {},
   "source": [
    "write() function is used to write strings into an open file. It does not include \\n in the files but support all the other special characters.\n",
    "\n",
    "writelines() is very similar to the write() function it also performs the same but it takes input as strings from a list."
   ]
  },
  {
   "cell_type": "code",
   "execution_count": null,
   "id": "da35b637-75eb-4962-a529-13a853c8772e",
   "metadata": {},
   "outputs": [],
   "source": []
  }
 ],
 "metadata": {
  "kernelspec": {
   "display_name": "Python 3 (ipykernel)",
   "language": "python",
   "name": "python3"
  },
  "language_info": {
   "codemirror_mode": {
    "name": "ipython",
    "version": 3
   },
   "file_extension": ".py",
   "mimetype": "text/x-python",
   "name": "python",
   "nbconvert_exporter": "python",
   "pygments_lexer": "ipython3",
   "version": "3.10.8"
  }
 },
 "nbformat": 4,
 "nbformat_minor": 5
}
