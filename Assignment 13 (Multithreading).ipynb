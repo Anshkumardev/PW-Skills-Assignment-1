{
 "cells": [
  {
   "cell_type": "markdown",
   "id": "eec65778-486e-4973-8090-d9dda8c5affa",
   "metadata": {},
   "source": [
    "Q1. What is multithreading in python? Why is it used? Name the module used to handle threads in python"
   ]
  },
  {
   "cell_type": "markdown",
   "id": "f7e644a1-0460-40eb-8e82-e8376fe1dbeb",
   "metadata": {},
   "source": [
    "MUltithreading is a process where tasks can be assigned as threads and can be processed under single core. Multiple threads can be created for different operations and can be runned one after another. This helps to maintane processing time. It is mainly used to perform taks concurrently or simultaneously. It improves the performance of any program as it utilize multicore functionality and improves the response of the program. "
   ]
  },
  {
   "cell_type": "markdown",
   "id": "0e9c1e39-e4ef-47cb-91e6-f30a4452b8ed",
   "metadata": {},
   "source": [
    "threading module is used to handle threads in python."
   ]
  },
  {
   "cell_type": "markdown",
   "id": "1fcf12c6-52e6-41f6-9134-473627a3c27d",
   "metadata": {},
   "source": [
    "Q2. Why threading module used? Write the use of the following functions"
   ]
  },
  {
   "cell_type": "markdown",
   "id": "2a87e9b2-e373-4431-9730-f94c2ee32508",
   "metadata": {},
   "source": [
    "threading module is used to handle threads in python."
   ]
  },
  {
   "cell_type": "markdown",
   "id": "070a80f5-6c11-493c-a3f1-2358a8cd7b44",
   "metadata": {},
   "source": [
    "- activeCount() in multithreading returns the number of Thread objects currently alive."
   ]
  },
  {
   "cell_type": "markdown",
   "id": "733ccbf3-37ff-47c2-adc7-e20e6953e23c",
   "metadata": {},
   "source": [
    "- currentThread() in multithreading returns the currently executing Thread object."
   ]
  },
  {
   "cell_type": "markdown",
   "id": "cfa67936-6ecc-48d4-beff-2645a962d4b4",
   "metadata": {},
   "source": [
    "- enumerate() in multithreading returns a list of all currently alive Thread objects."
   ]
  },
  {
   "cell_type": "markdown",
   "id": "95ba0e4c-24d2-4740-9fb3-fbb0087835c4",
   "metadata": {},
   "source": [
    "Q3. Explain the following functions"
   ]
  },
  {
   "cell_type": "markdown",
   "id": "4668e8b4-da01-42e5-9535-067ff32f190e",
   "metadata": {},
   "source": [
    "- run() : The run() method contains the code that will be executed in the thread."
   ]
  },
  {
   "cell_type": "markdown",
   "id": "866ee8ad-5356-4f35-94ea-b7daac9c0056",
   "metadata": {},
   "source": [
    "- start() : The start() method is used to start a thread's execution."
   ]
  },
  {
   "cell_type": "markdown",
   "id": "385be26e-0fb8-4e3a-9d6b-125d09038706",
   "metadata": {},
   "source": [
    "- join() : It is used to synchronize the execution of multiple threads so that one thread can finish the execution before another one starts."
   ]
  },
  {
   "cell_type": "markdown",
   "id": "d68b29b1-b6d9-4946-a9b0-f711375d8205",
   "metadata": {},
   "source": [
    "- isAlive() : It is used to check whether a thread is currently running or not."
   ]
  },
  {
   "cell_type": "markdown",
   "id": "37b8bb1e-772c-4cf9-bb73-b490856f9bd7",
   "metadata": {},
   "source": [
    "Q4. Write a python program to create two threads. Thread one must print the list of squares and thread\n",
    "two must print the list of cubes"
   ]
  },
  {
   "cell_type": "code",
   "execution_count": 20,
   "id": "568c8961-643b-4a7a-a8fd-01023b9fa119",
   "metadata": {},
   "outputs": [],
   "source": [
    "l1 = [1,2,3,4,5,6,7,8,9,10]"
   ]
  },
  {
   "cell_type": "code",
   "execution_count": 21,
   "id": "ef17ddf6-ce8f-4e88-af4c-7613141c3475",
   "metadata": {},
   "outputs": [],
   "source": [
    "def sqr(i):\n",
    "    print(i*i)"
   ]
  },
  {
   "cell_type": "code",
   "execution_count": 22,
   "id": "83f6eee0-8063-4e5e-be51-9e50851ce66e",
   "metadata": {},
   "outputs": [],
   "source": [
    "def cube(j):\n",
    "    print(j*j*j)"
   ]
  },
  {
   "cell_type": "code",
   "execution_count": 23,
   "id": "956d12bd-80ac-4c0a-b33d-c2acd1d7f65b",
   "metadata": {},
   "outputs": [],
   "source": [
    "import threading"
   ]
  },
  {
   "cell_type": "code",
   "execution_count": 24,
   "id": "50f15067-1dc8-454a-9f45-f1d6d1d29b71",
   "metadata": {},
   "outputs": [],
   "source": [
    "thread1 = [threading.Thread(target=sqr, args=(i,)) for i in l1]"
   ]
  },
  {
   "cell_type": "code",
   "execution_count": 25,
   "id": "c3e2db23-bc24-49dd-b965-4f47c0ac4ca0",
   "metadata": {},
   "outputs": [],
   "source": [
    "thread2 = [threading.Thread(target=cube, args=(i,)) for i in l1]"
   ]
  },
  {
   "cell_type": "code",
   "execution_count": 26,
   "id": "79078003-1658-416b-9590-e6bbb77af584",
   "metadata": {},
   "outputs": [
    {
     "name": "stdout",
     "output_type": "stream",
     "text": [
      "1\n",
      "4\n",
      "9\n",
      "16\n",
      "25\n",
      "36\n",
      "49\n",
      "64\n",
      "81\n",
      "100\n"
     ]
    }
   ],
   "source": [
    "for i in thread1:\n",
    "    i.start()"
   ]
  },
  {
   "cell_type": "code",
   "execution_count": 27,
   "id": "7ce41358-e687-4525-823d-659b4a6c553e",
   "metadata": {},
   "outputs": [
    {
     "name": "stdout",
     "output_type": "stream",
     "text": [
      "1\n",
      "8\n",
      "27\n",
      "64\n",
      "125\n",
      "216\n",
      "343\n",
      "512\n",
      "729\n",
      "1000\n"
     ]
    }
   ],
   "source": [
    "for i in thread2:\n",
    "    i.start()"
   ]
  },
  {
   "cell_type": "markdown",
   "id": "60227c9c-93a2-48a5-9d21-e71362289287",
   "metadata": {},
   "source": [
    "Q5. State advantages and disadvantages of multithreading"
   ]
  },
  {
   "cell_type": "markdown",
   "id": "34f93f59-3b03-4c86-ba97-a06dc67167e8",
   "metadata": {},
   "source": [
    "Advantages of Multithreading:\n",
    "\n",
    "- Improved Performance through concurrent execution.\n",
    "- Responsiveness of applications by separating time-consuming tasks.\n",
    "- Efficient Resource Sharing among threads within the same process.\n",
    "\n",
    "Disadvantages of Multithreading:\n",
    "\n",
    "- Increased Complexity in design, implementation, and debugging.\n",
    "- Concurrency Issues like race conditions and deadlocks.\n",
    "- Limited Scaling on single-core CPUs and potential memory overhead."
   ]
  },
  {
   "cell_type": "markdown",
   "id": "2ba80be2-ba1e-4b03-ab6c-60b4586edc93",
   "metadata": {},
   "source": [
    "Q6. Explain deadlocks and race conditions."
   ]
  },
  {
   "cell_type": "markdown",
   "id": "b96eced5-ab5b-4010-a970-3871ab7f3bee",
   "metadata": {},
   "source": [
    "- Deadlocks: Deadlocks occur when two or more threads or processes are unable to proceed because each is waiting for a resource held by another, resulting in a stalemate. It typically happens when there is a circular dependency between threads or processes, where each is holding a resource that the other needs, causing a deadlock and halting progress.\n",
    "\n",
    "- Race conditions: Race conditions occur when multiple threads access shared data concurrently, and the final outcome of the program depends on the order and timing of their execution. It leads to unpredictable and undesired results as threads may interfere with each other's operations, overwrite data, or produce inconsistent outcomes due to the lack of proper synchronization mechanisms."
   ]
  },
  {
   "cell_type": "code",
   "execution_count": null,
   "id": "a5dfaeb6-8fcb-4ad7-b120-ec84aec84992",
   "metadata": {},
   "outputs": [],
   "source": []
  }
 ],
 "metadata": {
  "kernelspec": {
   "display_name": "Python 3 (ipykernel)",
   "language": "python",
   "name": "python3"
  },
  "language_info": {
   "codemirror_mode": {
    "name": "ipython",
    "version": 3
   },
   "file_extension": ".py",
   "mimetype": "text/x-python",
   "name": "python",
   "nbconvert_exporter": "python",
   "pygments_lexer": "ipython3",
   "version": "3.10.8"
  }
 },
 "nbformat": 4,
 "nbformat_minor": 5
}
