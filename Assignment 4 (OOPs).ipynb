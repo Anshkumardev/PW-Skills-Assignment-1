{
 "cells": [
  {
   "cell_type": "markdown",
   "id": "7577f5fd-aa1a-4952-b339-30205228fb98",
   "metadata": {},
   "source": [
    "Q1. Explain Class and Object with respect to Object-Oriented Programming. Give a suitable example."
   ]
  },
  {
   "cell_type": "markdown",
   "id": "54879adb-5290-47e9-b39d-a7f00441787c",
   "metadata": {},
   "source": [
    "Class are the universal categories under which various objects are classified whereas object are the instances of these classes that consist of specific information of that object of that particular class."
   ]
  },
  {
   "cell_type": "markdown",
   "id": "520a7003-7d82-4a4d-a095-813d1f37ef33",
   "metadata": {},
   "source": [
    "Example: class = Car, whose object would contain information like color, brand, price etc."
   ]
  },
  {
   "cell_type": "markdown",
   "id": "09ff0395-c074-4807-834d-e87074b34bc7",
   "metadata": {},
   "source": [
    "Q2. Name the four pillars of OOPs."
   ]
  },
  {
   "cell_type": "markdown",
   "id": "d01a0936-cab6-45a9-849a-bf307eafe954",
   "metadata": {},
   "source": [
    "Encapsulation,\n",
    "Inheritance,\n",
    "Polymorphism,\n",
    "Abstraction."
   ]
  },
  {
   "cell_type": "markdown",
   "id": "17bc755a-03bb-40a4-b462-679bf741dd33",
   "metadata": {},
   "source": [
    "Q3. Explain why the __init__() function is used. Give a suitable example."
   ]
  },
  {
   "cell_type": "markdown",
   "id": "0e6c1313-bec2-4da1-8a9b-14c3da4dc1a8",
   "metadata": {},
   "source": [
    "init() function is used to pass parameter values to the methods which can further be used inside the class."
   ]
  },
  {
   "cell_type": "code",
   "execution_count": 2,
   "id": "0eba7e3e-5fce-4c15-8005-2e98787ec756",
   "metadata": {},
   "outputs": [],
   "source": [
    "##Example: \n",
    "\n",
    "class cars:\n",
    "    \n",
    "    def __init__(self,name,brand,price):\n",
    "        self.name = name\n",
    "        self.brand = brand\n",
    "        self.price = price"
   ]
  },
  {
   "cell_type": "markdown",
   "id": "75ce9375-e7f1-4e67-ae50-716a9c5797de",
   "metadata": {},
   "source": [
    "Q4. Why self is used in OOPs?"
   ]
  },
  {
   "cell_type": "markdown",
   "id": "d70322a9-c4e3-4c00-92f6-c2e6d31cc860",
   "metadata": {},
   "source": [
    "self is used in OOPs to give reference of the object to each value. self basically binds the function to class and helps to take differenet inputs for different objects."
   ]
  },
  {
   "cell_type": "markdown",
   "id": "f47ce210-0d50-4d4c-885d-f6edb8f5aa43",
   "metadata": {},
   "source": [
    "Q5. What is inheritance? Give an example for each type of inheritance."
   ]
  },
  {
   "cell_type": "markdown",
   "id": "403cb57d-8e5f-4291-8628-69830d50c97b",
   "metadata": {},
   "source": [
    "inheritance is a property of class that allows classes to interconnect by calling one class via other. Inheritance allows child class to call functions written in the parent class and make code more reuasble."
   ]
  },
  {
   "cell_type": "code",
   "execution_count": 12,
   "id": "3f7e2b51-94f3-48ac-a69b-e350fd0db7cd",
   "metadata": {},
   "outputs": [],
   "source": [
    "class person:\n",
    "    \n",
    "    def __init__(self,fname,lname):\n",
    "        self.fname = fname\n",
    "        self.lname = lname\n",
    "        \n",
    "    def print_name(self):\n",
    "        return self.fname+\" \"+self.lname"
   ]
  },
  {
   "cell_type": "code",
   "execution_count": 15,
   "id": "1e4217bb-8449-4418-b126-a541b832051b",
   "metadata": {},
   "outputs": [],
   "source": [
    "ansh = person('ansh','kumar')"
   ]
  },
  {
   "cell_type": "code",
   "execution_count": 16,
   "id": "6709ff5d-a18d-4c64-ad93-0e1841c9ea1e",
   "metadata": {},
   "outputs": [
    {
     "data": {
      "text/plain": [
       "'ansh kumar'"
      ]
     },
     "execution_count": 16,
     "metadata": {},
     "output_type": "execute_result"
    }
   ],
   "source": [
    "ansh.print_name()"
   ]
  },
  {
   "cell_type": "markdown",
   "id": "527aeb74-b914-4d42-89ae-359d3701f3a1",
   "metadata": {},
   "source": [
    "Creating chil class to use parent functions in it."
   ]
  },
  {
   "cell_type": "code",
   "execution_count": 17,
   "id": "62c1cc8c-5794-4705-8387-86aeb891402d",
   "metadata": {},
   "outputs": [],
   "source": [
    "class student(person):\n",
    "    pass"
   ]
  },
  {
   "cell_type": "code",
   "execution_count": 19,
   "id": "4d63625a-c83b-4be3-b569-7e1acd8f6a5b",
   "metadata": {},
   "outputs": [],
   "source": [
    "dishu = student('dishu','kumar')"
   ]
  },
  {
   "cell_type": "code",
   "execution_count": 20,
   "id": "0389a35d-7fab-4e7b-8407-8f7d2c539978",
   "metadata": {},
   "outputs": [
    {
     "data": {
      "text/plain": [
       "'dishu kumar'"
      ]
     },
     "execution_count": 20,
     "metadata": {},
     "output_type": "execute_result"
    }
   ],
   "source": [
    "dishu.print_name()"
   ]
  },
  {
   "cell_type": "markdown",
   "id": "7ab52b80-f5de-47db-81b2-a2d32cc9d068",
   "metadata": {},
   "source": [
    "Types of Inheritance in pyhton"
   ]
  },
  {
   "cell_type": "markdown",
   "id": "c28cbbb9-b42b-4b8c-806c-5dff4de4b969",
   "metadata": {},
   "source": [
    "1. Single Inheritance: When the properties are inherited from a single parent class."
   ]
  },
  {
   "cell_type": "markdown",
   "id": "61303f48-52f9-4d9c-a920-633e33d120d2",
   "metadata": {},
   "source": [
    "Example:"
   ]
  },
  {
   "cell_type": "code",
   "execution_count": 32,
   "id": "d3c26900-e00c-4af1-aa8d-a1a417d4ef76",
   "metadata": {},
   "outputs": [],
   "source": [
    "class name:\n",
    "    \n",
    "    def __init__(self,fname,lname):\n",
    "        self.fname = fname\n",
    "        self.lname = lname\n",
    "        \n",
    "    def print_name(self):\n",
    "        return self.fname+\" \"+self.lname"
   ]
  },
  {
   "cell_type": "code",
   "execution_count": 33,
   "id": "5b4bb53c-79d8-43b7-96f8-c08394f08da6",
   "metadata": {},
   "outputs": [],
   "source": [
    "class student(name):\n",
    "    pass"
   ]
  },
  {
   "cell_type": "code",
   "execution_count": 34,
   "id": "b7b89c4d-ea6e-4a94-8316-f55e035df512",
   "metadata": {},
   "outputs": [],
   "source": [
    "ansh = student('ansh','kumar')"
   ]
  },
  {
   "cell_type": "code",
   "execution_count": 35,
   "id": "2fe342a7-697c-428d-ab34-020d972a18a7",
   "metadata": {},
   "outputs": [
    {
     "data": {
      "text/plain": [
       "'ansh kumar'"
      ]
     },
     "execution_count": 35,
     "metadata": {},
     "output_type": "execute_result"
    }
   ],
   "source": [
    "ansh.print_name()"
   ]
  },
  {
   "cell_type": "markdown",
   "id": "a2644f66-9183-4a95-9a95-e210a6b7bdb5",
   "metadata": {},
   "source": [
    "2. Multiple Inheritance: when the properties are inherited from two or more parent classes."
   ]
  },
  {
   "cell_type": "code",
   "execution_count": 50,
   "id": "5d263fc6-3e49-4fdd-8a41-bfce7c9fe16a",
   "metadata": {},
   "outputs": [],
   "source": [
    "class fname:\n",
    "    \n",
    "    def __init__(self,fname=\" \"):\n",
    "        self.fname = fname\n",
    "        \n",
    "class lname:\n",
    "    \n",
    "    def __init__(self,lname= \" \"):\n",
    "        self.fname = lname\n",
    "        "
   ]
  },
  {
   "cell_type": "code",
   "execution_count": 51,
   "id": "f486b613-119e-44a9-a6f1-dbfecff652e0",
   "metadata": {},
   "outputs": [],
   "source": [
    "class multi(fname,lname):\n",
    "    def print_multi(self):\n",
    "        return self.fname+\" \"+self.lname\n",
    "        "
   ]
  },
  {
   "cell_type": "code",
   "execution_count": 52,
   "id": "59feedd2-56d2-4c3e-ab01-5948a8e2bb56",
   "metadata": {},
   "outputs": [],
   "source": [
    "c = multi()"
   ]
  },
  {
   "cell_type": "code",
   "execution_count": 53,
   "id": "5b6ce9c7-0441-4b7d-970e-14250d9cfdb7",
   "metadata": {},
   "outputs": [],
   "source": [
    "c.fname = \"ansh\"\n",
    "c.lname = \"kumar\""
   ]
  },
  {
   "cell_type": "code",
   "execution_count": 54,
   "id": "0afb21f7-dece-4407-83b8-8fe4efe0790b",
   "metadata": {},
   "outputs": [
    {
     "data": {
      "text/plain": [
       "'ansh kumar'"
      ]
     },
     "execution_count": 54,
     "metadata": {},
     "output_type": "execute_result"
    }
   ],
   "source": [
    "c.print_multi()"
   ]
  },
  {
   "cell_type": "markdown",
   "id": "d3eed53d-cff2-4375-8a92-84ca9285ca8a",
   "metadata": {},
   "source": [
    "3. Multilevel Inheritance : When there is a parent class for some child class and that child class is parent class for another low level child class. So there is one class inheriting properties from another class and that another class is itself inhereting properties from some different class."
   ]
  },
  {
   "cell_type": "code",
   "execution_count": 89,
   "id": "5a01bf33-d6c6-46e1-8149-b61ef3385a1a",
   "metadata": {},
   "outputs": [],
   "source": [
    "class grand_parent:\n",
    "    def __init__(self,grandparent):\n",
    "        self.grandparent = grandparent\n",
    "\n",
    "        \n",
    "class parent(grand_parent):\n",
    "    def __init__(self,parent,grandparent):\n",
    "        self.parent = parent\n",
    "        \n",
    "        super().__init__(grandparent)\n",
    "        \n",
    "\n",
    "class son(parent):\n",
    "    def __init__(self,son,parent,grandparent):\n",
    "        self.son = son\n",
    "        \n",
    "        super().__init__(parent,grandparent)\n",
    "        \n",
    "    def print_name(self):\n",
    "        print('Grandparent name :', self.grandparent)\n",
    "        print(\"Father name :\", self.parent)\n",
    "        print(\"Son name :\", self.son)"
   ]
  },
  {
   "cell_type": "code",
   "execution_count": 90,
   "id": "e62dcc79-fe43-42bc-b0b6-3892ab6494e7",
   "metadata": {},
   "outputs": [],
   "source": [
    "ansh = son('ansh','Papa','amma')"
   ]
  },
  {
   "cell_type": "code",
   "execution_count": 91,
   "id": "f652f914-e154-46ed-90fd-f329bf14f596",
   "metadata": {},
   "outputs": [
    {
     "name": "stdout",
     "output_type": "stream",
     "text": [
      "Grandparent name : amma\n",
      "Father name : Papa\n",
      "Son name : ansh\n"
     ]
    }
   ],
   "source": [
    "ansh.print_name()"
   ]
  },
  {
   "cell_type": "markdown",
   "id": "d5c5bc5a-c545-4d7f-91a5-20a490809784",
   "metadata": {},
   "source": [
    "4. Hierarchical Inheritance: When there is only one parent class for two or more that two child classes."
   ]
  },
  {
   "cell_type": "code",
   "execution_count": 95,
   "id": "77213233-5332-4f50-a840-5e7f6d37179a",
   "metadata": {},
   "outputs": [],
   "source": [
    "class parent:\n",
    "    def function1(self):\n",
    "        print(\"This is from parent class\")\n",
    "    \n",
    "class child1(parent):\n",
    "    def function2(self):\n",
    "        print(\"This is from child 1 class\")\n",
    "    \n",
    "class child2(parent):\n",
    "    def function3(self):\n",
    "        print(\"This is from child 2 class\")\n",
    "              \n",
    "        "
   ]
  },
  {
   "cell_type": "code",
   "execution_count": 96,
   "id": "ac8422ab-8cf7-4eed-85bc-d3348745fd56",
   "metadata": {},
   "outputs": [
    {
     "name": "stdout",
     "output_type": "stream",
     "text": [
      "This is from parent class\n",
      "This is from child 1 class\n",
      "This is from parent class\n",
      "This is from child 2 class\n"
     ]
    }
   ],
   "source": [
    "a = child1()\n",
    "b = child2()\n",
    "\n",
    "a.function1()\n",
    "a.function2()\n",
    "b.function1()\n",
    "b.function3()"
   ]
  },
  {
   "cell_type": "code",
   "execution_count": null,
   "id": "018ac551-cc23-4eae-ba35-1cb503514944",
   "metadata": {},
   "outputs": [],
   "source": []
  }
 ],
 "metadata": {
  "kernelspec": {
   "display_name": "Python 3 (ipykernel)",
   "language": "python",
   "name": "python3"
  },
  "language_info": {
   "codemirror_mode": {
    "name": "ipython",
    "version": 3
   },
   "file_extension": ".py",
   "mimetype": "text/x-python",
   "name": "python",
   "nbconvert_exporter": "python",
   "pygments_lexer": "ipython3",
   "version": "3.10.8"
  }
 },
 "nbformat": 4,
 "nbformat_minor": 5
}
