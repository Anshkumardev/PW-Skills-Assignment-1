{
 "cells": [
  {
   "cell_type": "markdown",
   "id": "ca175b88-e16d-438f-b4be-114a4f9389f1",
   "metadata": {},
   "source": [
    "Q1. Create a function which will take a list as an argument and return the product of all the numbers\n",
    "after creating a flat list.\n",
    "\n",
    "Use the below-given list as an argument for your function.\n",
    "\n",
    "list1 = [1,2,3,4, [44,55,66, True], False, (34,56,78,89,34), {1,2,3,3,2,1}, {1:34, \"key2\": [55, 67, 78, 89], 4: (45,\n",
    "22, 61, 34)}, [56, 'data science'], 'Machine Learning']\n",
    "\n",
    "Note: you must extract numeric keys and values of the dictionary also."
   ]
  },
  {
   "cell_type": "code",
   "execution_count": 89,
   "id": "5b4321f3-2a68-4255-b301-e39ecb0af877",
   "metadata": {},
   "outputs": [],
   "source": [
    "from functools import reduce\n",
    "\n",
    "def prod(l):\n",
    "    \n",
    "    n_l = []\n",
    "    \n",
    "    for i in l:\n",
    "        if type(i) == int:\n",
    "            n_l.append(i)\n",
    "        elif type(i) == list:\n",
    "            for j in i:\n",
    "                if type(j) == int:\n",
    "                    n_l.append(j)\n",
    "        elif type(i) == tuple:\n",
    "            for j in i:\n",
    "                if type(j) == int:\n",
    "                    n_l.append(j)\n",
    "        elif type(i) == set:\n",
    "            for j in list(i):\n",
    "                if type(j) == int:\n",
    "                    n_l.append(j)\n",
    "        elif type(i) == dict:\n",
    "            for j in i.keys():\n",
    "                if type(j) == int:\n",
    "                    n_l.append(j)\n",
    "            for j in i.values():\n",
    "                if type(j) == int:\n",
    "                    n_l.append(j)\n",
    "                elif type(j) == list:\n",
    "                    for x in j:\n",
    "                        if type(x) == int:\n",
    "                            n_l.append(x)\n",
    "                elif type(j) == tuple:\n",
    "                    for x in j:\n",
    "                        if type(x) == int:\n",
    "                            n_l.append(x)\n",
    "                            \n",
    "    return reduce(lambda x,y : x*y,n_l)"
   ]
  },
  {
   "cell_type": "code",
   "execution_count": 90,
   "id": "7ded8dcd-52b6-441a-93f2-12f630a316a3",
   "metadata": {},
   "outputs": [],
   "source": [
    "a = [1,2,3,4, [44,55,66, True], False, (34,56,78,89,34), {1,2,3,3,2,1}, {1:34, \"key2\": [55, 67, 78, 89], 4: (45, 22, 61, 34)}, [56, 'data science'], 'Machine Learning']"
   ]
  },
  {
   "cell_type": "code",
   "execution_count": 92,
   "id": "385d269a-ac29-4269-b69b-703744dc4fd3",
   "metadata": {},
   "outputs": [
    {
     "data": {
      "text/plain": [
       "4134711838987085478833841242112000"
      ]
     },
     "execution_count": 92,
     "metadata": {},
     "output_type": "execute_result"
    }
   ],
   "source": [
    "prod(a)"
   ]
  },
  {
   "cell_type": "markdown",
   "id": "4b9eca1d-5fe3-45bb-8b6e-ce7f8a6104bb",
   "metadata": {},
   "source": [
    "Q2. Write a python program for encrypting a message sent to you by your friend. The logic of encryption\n",
    "should be such that, for a the output should be z. For b, the output should be y. For c, the output should\n",
    "be x respectively. Also, the whitespace should be replaced with a dollar sign. Keep the punctuation\n",
    "marks unchanged.\n",
    "\n",
    "Input Sentence: I want to become a Data Scientist.\n",
    "\n",
    "Encrypt the above input sentence using the program you just created.\n",
    "\n",
    "Note: Convert the given input sentence into lowercase before encrypting. The final output should be\n",
    "lowercase."
   ]
  },
  {
   "cell_type": "code",
   "execution_count": 175,
   "id": "2cabfda5-098f-44fd-958c-d72559711032",
   "metadata": {},
   "outputs": [],
   "source": [
    "def encrypt(s):\n",
    "    \n",
    "    lot = [0,'a','b','c','d','e','f','g','h','i','j','k','l','m','n','o','p','q','r','s','t','u','v','w','x','y','z']\n",
    "    s = s.lower()\n",
    "    n_s = []\n",
    "    st = \"\"\n",
    "    for i in s:\n",
    "        if i in lot:\n",
    "            index = lot.index(i)\n",
    "            n_s.append(lot[-index])\n",
    "        elif i == \" \":\n",
    "            n_s.append(\"$\")\n",
    "        else:\n",
    "            n_s.append(i)\n",
    "        \n",
    "        \n",
    "    return st.join(n_s)"
   ]
  },
  {
   "cell_type": "code",
   "execution_count": 176,
   "id": "5bc9d883-cf20-4962-9798-8b442cbfbfc5",
   "metadata": {},
   "outputs": [],
   "source": [
    "a = 'I want to become a Data Scientist.'"
   ]
  },
  {
   "cell_type": "code",
   "execution_count": 177,
   "id": "a336a02f-24ae-4dd5-b8d1-99a8642cfd56",
   "metadata": {},
   "outputs": [
    {
     "data": {
      "text/plain": [
       "'r$dzmg$gl$yvxlnv$z$wzgz$hxrvmgrhg.'"
      ]
     },
     "execution_count": 177,
     "metadata": {},
     "output_type": "execute_result"
    }
   ],
   "source": [
    "encrypt(a)"
   ]
  },
  {
   "cell_type": "code",
   "execution_count": null,
   "id": "6fb8cd64-84c7-4a61-809a-51d8cf18eacd",
   "metadata": {},
   "outputs": [],
   "source": []
  }
 ],
 "metadata": {
  "kernelspec": {
   "display_name": "Python 3 (ipykernel)",
   "language": "python",
   "name": "python3"
  },
  "language_info": {
   "codemirror_mode": {
    "name": "ipython",
    "version": 3
   },
   "file_extension": ".py",
   "mimetype": "text/x-python",
   "name": "python",
   "nbconvert_exporter": "python",
   "pygments_lexer": "ipython3",
   "version": "3.10.8"
  }
 },
 "nbformat": 4,
 "nbformat_minor": 5
}
